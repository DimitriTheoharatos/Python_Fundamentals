{
 "cells": [
  {
   "cell_type": "markdown",
   "metadata": {},
   "source": [
    "# 1 - Variables Problems"
   ]
  },
  {
   "cell_type": "markdown",
   "metadata": {},
   "source": [
    "### Problem 1:\n",
    "Create 4 variables called `a`, `b`, `c`, `d` and assign them values of 1, 2, 3, and 4 respectively\n",
    "\n",
    "- Show the outputs of these 4 variables\n",
    "- __BONUS__: try using simultaneous assignments"
   ]
  },
  {
   "cell_type": "code",
   "execution_count": null,
   "metadata": {
    "ExecuteTime": {
     "end_time": "2019-10-28T04:10:33.490197Z",
     "start_time": "2019-10-28T04:10:33.486534Z"
    }
   },
   "outputs": [],
   "source": [
    "# Write your code here\n",
    "a, b, c, d = 1, 2, 3, 4\n",
    "print(a,b,c,d)"
   ]
  },
  {
   "cell_type": "markdown",
   "metadata": {},
   "source": [
    "### Problem 2:\n",
    "Increment (add to) your variables called `a`, `b`, `c`, `d` by 1 using Compound Assignments\n",
    "\n",
    "- Show the outputs of these 4 variables"
   ]
  },
  {
   "cell_type": "code",
   "execution_count": null,
   "metadata": {
    "ExecuteTime": {
     "end_time": "2019-10-28T04:10:34.142636Z",
     "start_time": "2019-10-28T04:10:34.138435Z"
    }
   },
   "outputs": [],
   "source": [
    "a += 1\n",
    "b += 1\n",
    "c += 1\n",
    "d += 1\n",
    "print(a,b,c,d)\n"
   ]
  },
  {
   "cell_type": "markdown",
   "metadata": {},
   "source": [
    "### Problem 3:\n",
    "Create a variable `e` that is the sum of `a`, `b`, `c`, and `d` and then show the output of the variable `e`\n"
   ]
  },
  {
   "cell_type": "code",
   "execution_count": null,
   "metadata": {
    "ExecuteTime": {
     "end_time": "2019-10-28T04:10:34.311334Z",
     "start_time": "2019-10-28T04:10:34.308334Z"
    }
   },
   "outputs": [],
   "source": [
    "e = a + b + c + d\n",
    "print(e)"
   ]
  },
  {
   "cell_type": "markdown",
   "metadata": {},
   "source": [
    "### Problem 4:\n",
    "\n",
    "Calculate the area of a circle which is given by the following formula: $A = \\pi * r^2$ and show the output of the area\n",
    "- Create a variable `pi` that will store the value 3.14 \n",
    "- Create a variable `r` that will store the value 3\n",
    "- Then create a variable `area` that will store the area of the circle\n",
    "- Show the output of the `area` variable\n",
    "- __BONUS__: try using simulataneous assignments"
   ]
  },
  {
   "cell_type": "code",
   "execution_count": null,
   "metadata": {
    "ExecuteTime": {
     "end_time": "2019-10-28T04:10:34.679312Z",
     "start_time": "2019-10-28T04:10:34.675849Z"
    }
   },
   "outputs": [],
   "source": [
    "# Write your code here\n",
    "r, pi = 3, 3.14\n",
    "area = pi * (r ** 2)\n",
    "print (area)\n"
   ]
  },
  {
   "cell_type": "markdown",
   "metadata": {},
   "source": [
    "### Problem 5:\n",
    "\n",
    "Calculate the minimum of a absolute value of -10 and the square of -4\n",
    "- Create a variable `abs_val` that will store the absolute value of -10 \n",
    "- Create a variable `square_val` that will store the square of -4\n",
    "- Then create a variable `minimum` that will store the minimum value of the two variables above \n",
    "- Show the output of the `minimum` variable\n",
    "- __BONUS__: try using simulataneous assignments"
   ]
  },
  {
   "cell_type": "code",
   "execution_count": null,
   "metadata": {
    "ExecuteTime": {
     "end_time": "2019-10-28T04:10:35.130274Z",
     "start_time": "2019-10-28T04:10:35.126014Z"
    }
   },
   "outputs": [],
   "source": [
    "abs_val, square_val = abs(-10), (-4)**2\n",
    "minimum = min(abs_val, square_val)\n",
    "print(minimum)\n",
    "\n"
   ]
  },
  {
   "cell_type": "markdown",
   "metadata": {},
   "source": [
    "### Problem 6\n",
    "\n",
    "John makes \\\\$10,000 in 80 hours and Ana makes \\\\$5,000 in 35 hours. Print `True` if Ana makes more than John on an hourly rate, otherwise print `False`. \n",
    "\n",
    "- Use the comparison operators in your answer \n",
    "- Use an explanatory print statement before you output your answer to tell the user what the meaning of the answer is "
   ]
  },
  {
   "cell_type": "code",
   "execution_count": null,
   "metadata": {
    "ExecuteTime": {
     "end_time": "2019-10-28T04:10:35.664766Z",
     "start_time": "2019-10-28T04:10:35.661346Z"
    }
   },
   "outputs": [],
   "source": [
    "# Write your code here\n",
    "\n",
    "john=(10000/80)\n",
    "ana=(5000/35)\n",
    "answer=ana > john\n",
    "#print (\"It is \" + str(answer) + \" that Ana makes more than John\")\n",
    "print(\"It is {} that Ana makes more than John\".format(answer))"
   ]
  },
  {
   "cell_type": "markdown",
   "metadata": {},
   "source": [
    "# 2 - Data Types Problems"
   ]
  },
  {
   "cell_type": "markdown",
   "metadata": {},
   "source": [
    "### Problem 1:\n",
    "\n",
    "Create a list and enter in the items `1`, `2`, `3`, `4`, `5`, `6` then reverse this list.\n",
    "\n",
    "- Use list slicing in your answer \n",
    "- Do not use any embedded functions in Python to reverse the list "
   ]
  },
  {
   "cell_type": "code",
   "execution_count": null,
   "metadata": {
    "ExecuteTime": {
     "end_time": "2019-10-28T04:10:37.009002Z",
     "start_time": "2019-10-28T04:10:37.005656Z"
    }
   },
   "outputs": [],
   "source": [
    "# Write your code here\n",
    "l =  [1,2,3,4,5,6]\n",
    "print(l[-1::-1])\n",
    "\n",
    "\n"
   ]
  },
  {
   "cell_type": "markdown",
   "metadata": {},
   "source": [
    "### Problem 2:\n",
    "\n",
    "Using the same list,  use slicing to pull out the subset `[2,4]` ... Print your result.\n",
    "\n",
    "- Use list slicing in your answer "
   ]
  },
  {
   "cell_type": "code",
   "execution_count": null,
   "metadata": {
    "ExecuteTime": {
     "end_time": "2019-10-28T04:10:37.692526Z",
     "start_time": "2019-10-28T04:10:37.688671Z"
    }
   },
   "outputs": [],
   "source": [
    "l[1:4:2]\n"
   ]
  },
  {
   "cell_type": "markdown",
   "metadata": {},
   "source": [
    "### Problem 3:\n",
    "\n",
    "Create 2 lists: the first list with your first name and the second list with your last name. Combine the two lists to make a list that contains your entire name. "
   ]
  },
  {
   "cell_type": "code",
   "execution_count": null,
   "metadata": {
    "ExecuteTime": {
     "end_time": "2019-10-28T04:10:38.095377Z",
     "start_time": "2019-10-28T04:10:38.092137Z"
    }
   },
   "outputs": [],
   "source": [
    "first_name = [\"Dimitri\"]\n",
    "last_name = [\"Theoharatos\"]\n",
    "full_name = first_name + last_name\n",
    "print(full_name)"
   ]
  },
  {
   "cell_type": "markdown",
   "metadata": {},
   "source": [
    "### Problem 4:\n",
    "\n",
    "Create 2 lists: the first list with your first name and the second list with your last name. Combine the two lists to make a list that contains your entire name. Add your middle name to this combined list between your first and last name. If you don't have a middle name add `[\"m\", \"i\", \"d\", \"d\", \"l\", \"e\"]`."
   ]
  },
  {
   "cell_type": "code",
   "execution_count": null,
   "metadata": {
    "ExecuteTime": {
     "end_time": "2019-10-28T04:10:38.447020Z",
     "start_time": "2019-10-28T04:10:38.443178Z"
    }
   },
   "outputs": [],
   "source": [
    "first_name = [\"Dimitri\"]\n",
    "last_name = [\"Theoharatos\"]\n",
    "full_name = first_name + last_name\n",
    "\n",
    "middle_name = 'George'\n",
    "\n",
    "full_name.insert(1, middle_name)\n",
    "print(full_name)"
   ]
  },
  {
   "cell_type": "markdown",
   "metadata": {},
   "source": [
    "### Problem 5\n",
    "\n",
    "Combine your first and last names using strings instead of lists like we did in problem 3. \n",
    "Notes:\n",
    "- Create the 2 strings in lower case and then use a built-in string method to capitalize the words (see [this link](https://docs.python.org/3/library/stdtypes.html#string-methods) to find the proper function to use)\n",
    "- Use string formatting to output your results"
   ]
  },
  {
   "cell_type": "code",
   "execution_count": null,
   "metadata": {
    "ExecuteTime": {
     "end_time": "2019-10-28T04:10:39.005533Z",
     "start_time": "2019-10-28T04:10:39.000497Z"
    }
   },
   "outputs": [],
   "source": [
    "first_name = 'dimitri'\n",
    "last_name = 'theoharatos'\n",
    " \n",
    "first_name.capitalize() + ' ' + last_name.capitalize()"
   ]
  },
  {
   "cell_type": "markdown",
   "metadata": {},
   "source": [
    "### Problem 6\n",
    "\n",
    "Replace `\"Brussels Sprouts\"` with your favorite food in the string `\"My favorite food is Brussels Sprouts\"`.\n",
    "\n",
    "Notes:\n",
    "- Use the `replace` commond string method"
   ]
  },
  {
   "cell_type": "code",
   "execution_count": null,
   "metadata": {
    "ExecuteTime": {
     "end_time": "2019-10-28T04:10:39.665121Z",
     "start_time": "2019-10-28T04:10:39.661258Z"
    }
   },
   "outputs": [],
   "source": [
    "\"My favorite food is Brussels Sprouts\".replace(\"Brussels Sprouts\", \"pizza\")\n"
   ]
  },
  {
   "cell_type": "markdown",
   "metadata": {},
   "source": [
    "### Problem 7:\n",
    "\n",
    "Create a `range` that goes from `500` to `5000` by steps of `250`. Check if `7550` is in our range. \n",
    "\n",
    "Notes\n",
    "- Convert your range to a list and print it to see all elements of your range "
   ]
  },
  {
   "cell_type": "code",
   "execution_count": null,
   "metadata": {
    "ExecuteTime": {
     "end_time": "2019-10-28T04:10:39.833029Z",
     "start_time": "2019-10-28T04:10:39.828716Z"
    }
   },
   "outputs": [],
   "source": [
    "my_range = range(500,5000,250)\n",
    "print(list(my_range))\n",
    "print( 7550 in my_range)\n"
   ]
  },
  {
   "cell_type": "markdown",
   "metadata": {},
   "source": [
    "### Problem 8\n",
    "\n",
    "Create a dictionary that contain key-value pairs corresponding to your city of birth, country of birth and current city. Add an element which contains your current country."
   ]
  },
  {
   "cell_type": "code",
   "execution_count": null,
   "metadata": {
    "ExecuteTime": {
     "end_time": "2019-10-28T04:10:40.602391Z",
     "start_time": "2019-10-28T04:10:40.598730Z"
    }
   },
   "outputs": [],
   "source": [
    "\n",
    "my_dict = {'birth_city': 'Riverside', 'birth_country':'US', 'current_city':'San Francisco'}\n",
    "my_dict['current_country'] = 'US'\n",
    "print(my_dict)\n"
   ]
  },
  {
   "cell_type": "markdown",
   "metadata": {},
   "source": [
    "# 3 - Control Statements and Functions Problems"
   ]
  },
  {
   "cell_type": "markdown",
   "metadata": {},
   "source": [
    "### Problem 1:\n",
    "\n",
    "Write a program to check if a value is positive, zero, or negative. \n",
    "\n",
    "- The program should print the result (i.e. \"Value is positive\")\n",
    "- Check your program works by creating a positive, zero, and negative variable and ensure the program outputs the correct response every time\n",
    "- Use if statements"
   ]
  },
  {
   "cell_type": "code",
   "execution_count": null,
   "metadata": {
    "ExecuteTime": {
     "end_time": "2019-10-28T04:10:41.955086Z",
     "start_time": "2019-10-28T04:10:41.950312Z"
    }
   },
   "outputs": [],
   "source": [
    "def check_sign(num):\n",
    "    if num > 0:\n",
    "        print(\"num is positive\")\n",
    "    elif num == 0 :\n",
    "        print(\"num is zero\")\n",
    "    else:\n",
    "         print(\"num is negative\")\n",
    "\n",
    "check_sign(5)\n",
    "check_sign(-2)\n",
    "check_sign(0)"
   ]
  },
  {
   "cell_type": "markdown",
   "metadata": {},
   "source": [
    "### Problem 2:\n",
    "\n",
    "Write a program to check if a year is a leap year (see below for the method to determine if a year is a leap year):\n",
    "\n",
    "1. If the year is evenly divisible by 4, go to step 2. Otherwise, go to step 5.\n",
    "2. If the year is evenly divisible by 100, go to step 3. Otherwise, go to step 4.\n",
    "3. If the year is evenly divisible by 400, go to step 4. Otherwise, go to step 5.\n",
    "4. The year is a leap year (it has 366 days).\n",
    "5. The year is not a leap year (it has 365 days).\n",
    "\n",
    "Notes:\n",
    "1. Use nested if-else statements in your answer \n",
    "2. Test your program using the year 2018"
   ]
  },
  {
   "cell_type": "code",
   "execution_count": null,
   "metadata": {
    "ExecuteTime": {
     "end_time": "2019-10-28T04:10:42.324957Z",
     "start_time": "2019-10-28T04:10:42.321303Z"
    }
   },
   "outputs": [],
   "source": [
    "def leap_year(year):\n",
    "    if year % 4 == 0:\n",
    "        if year % 100:\n",
    "            if year % 400:\n",
    "                print(\"Leap year!\")\n",
    "            else:\n",
    "                print(\"Not a leap year!\")\n",
    "        else:\n",
    "            print(\"Leap year!\")\n",
    "    else:\n",
    "        print(\"Not a leap year!\")"
   ]
  },
  {
   "cell_type": "markdown",
   "metadata": {},
   "source": [
    "### Problem 3\n",
    "\n",
    "Write a program to calculate the maximum value of a list: `[3, 36, 154, 2, 145]` \n",
    "\n",
    "- You should used a `for` loop in your answer\n",
    "- You should use an `if` statement in your answer\n",
    "- Do not use any built-in Python functions\n",
    "- Print the maximum value of the list at the end of your program"
   ]
  },
  {
   "cell_type": "code",
   "execution_count": null,
   "metadata": {
    "ExecuteTime": {
     "end_time": "2019-10-28T04:10:42.684408Z",
     "start_time": "2019-10-28T04:10:42.680292Z"
    }
   },
   "outputs": [],
   "source": [
    "\n",
    "my_list = [3,36,154,2,145]\n",
    "max_num = my_list[0]\n",
    "for num in my_list:\n",
    "    if num > max_num:\n",
    "        max_num = num\n",
    "print(max_num)\n"
   ]
  },
  {
   "cell_type": "markdown",
   "metadata": {},
   "source": [
    "### Problem 4\n",
    "\n",
    "Write a Function to return the minimum and maximum of a non-empty list. For example, try finding the minimum and maximum of the list `[1,3,5,10,12,2,0]`. Your function should return both values as a `tuple` in the form of (`min`, `max`) as such (0, 10). \n",
    "\n",
    "- Call the function `minimax` and it should accept one argument - the list (call it `x`)\n",
    "- You will need a `for` loop to traverse the list that is passed in \n",
    "- Hint: Set the `min` and `max` as the first value in the list and iterate starting at position `1` to check if you should reassign your `min` and `max` variables. If you don't need to reset them, just move on to the next iteration. If you do need to reset them, reassign them appropriately\n",
    "- Check that your function works by passing in the list above and ensure it returns `(0, 10)`. Try with some other lists \n",
    "- Assume the list passed in is non-empty to make things easier "
   ]
  },
  {
   "cell_type": "code",
   "execution_count": null,
   "metadata": {
    "ExecuteTime": {
     "end_time": "2019-10-28T04:10:43.775386Z",
     "start_time": "2019-10-28T04:10:43.771536Z"
    }
   },
   "outputs": [],
   "source": [
    "\n",
    "def minmax(l):\n",
    "    min_num = l[0]\n",
    "    max_num = l[0]\n",
    "    \n",
    "    for num in l[1:]:\n",
    "        if num < min_num:\n",
    "            min_num = num\n",
    "        if num > max_num:\n",
    "            max_num = num\n",
    "            \n",
    "    return min_num, max_num"
   ]
  },
  {
   "cell_type": "markdown",
   "metadata": {},
   "source": [
    "# 4 - Lambda, Map, Filter, etc. "
   ]
  },
  {
   "cell_type": "markdown",
   "metadata": {},
   "source": [
    "### Problem 1: \n",
    "\n",
    "Write a program to take a sentence and return the number of letters in each word to a list.\n",
    "\n",
    "- Show how you can do this using a `map` + `lambda` function\n",
    "- Some hints:\n",
    "> 1. First, initialize the sentence as a variable then use an appropriate string method to split the sentence into words\n",
    "> 2. Then, calculate the length of each word and return this to a list"
   ]
  },
  {
   "cell_type": "code",
   "execution_count": null,
   "metadata": {
    "ExecuteTime": {
     "end_time": "2019-10-28T04:10:44.991132Z",
     "start_time": "2019-10-28T04:10:44.986795Z"
    }
   },
   "outputs": [],
   "source": [
    "\n",
    "sentence = \"I think that Python rocks\"\n",
    "\n",
    "list(map(lambda x: len(x), sentence.split()))"
   ]
  },
  {
   "cell_type": "markdown",
   "metadata": {},
   "source": [
    "# 5 - Objects and Methods"
   ]
  },
  {
   "cell_type": "markdown",
   "metadata": {
    "ExecuteTime": {
     "end_time": "2019-10-28T03:52:29.664977Z",
     "start_time": "2019-10-28T03:52:29.659027Z"
    }
   },
   "source": [
    "### Problem 1:\n",
    "\n",
    "Create a method within our `Person` class that stores the pets that a person has. \n",
    "- Create a list variable `self.pets` in the `__init__` function and initialize to be empty\n",
    "- Create a method called `add_pet` that updates `self.pets` when a person gets a new pet\n",
    "- The method should have three parameters: `self`, `pet_type`, and `pet_name`. \n",
    "- `self.pets` should contain a list of tuples, where each tuple contains the type of pet and it's respective name\n",
    "\n"
   ]
  },
  {
   "cell_type": "code",
   "execution_count": null,
   "metadata": {
    "ExecuteTime": {
     "end_time": "2019-10-28T04:10:46.636219Z",
     "start_time": "2019-10-28T04:10:46.631417Z"
    }
   },
   "outputs": [],
   "source": [
    "class Person:\n",
    "    def __init__(self, name, age):\n",
    "        self.name = name\n",
    "        self.age = age\n",
    "        #your code here\n",
    "        self.pets = []\n",
    "    def birthday(self):\n",
    "        self.age += 1\n",
    "        \n",
    "    #your code here\n",
    "    def add_pet(self, pet_type, pet_name):\n",
    "        self.pets.append((pet_type, pet_name))\n",
    "    \n",
    "    "
   ]
  },
  {
   "cell_type": "code",
   "execution_count": null,
   "metadata": {
    "ExecuteTime": {
     "end_time": "2019-10-28T04:11:02.070388Z",
     "start_time": "2019-10-28T04:11:02.067723Z"
    }
   },
   "outputs": [],
   "source": [
    "#Test it out!\n",
    "person_1 = Person('Sarah', 32)\n",
    "person_1.add_pet('Dog', 'Spot')\n",
    "person_1.add_pet('Turtle', 'Timmy')"
   ]
  },
  {
   "cell_type": "code",
   "execution_count": null,
   "metadata": {
    "ExecuteTime": {
     "end_time": "2019-10-28T04:11:02.300637Z",
     "start_time": "2019-10-28T04:11:02.296680Z"
    }
   },
   "outputs": [],
   "source": [
    "person_1.pets"
   ]
  }
 ],
 "metadata": {
  "kernelspec": {
   "display_name": "Python 3",
   "language": "python",
   "name": "python3"
  },
  "language_info": {
   "codemirror_mode": {
    "name": "ipython",
    "version": 3
   },
   "file_extension": ".py",
   "mimetype": "text/x-python",
   "name": "python",
   "nbconvert_exporter": "python",
   "pygments_lexer": "ipython3",
   "version": "3.7.1"
  }
 },
 "nbformat": 4,
 "nbformat_minor": 2
}
