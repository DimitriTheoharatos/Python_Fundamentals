{
 "cells": [
  {
   "cell_type": "markdown",
   "metadata": {},
   "source": [
    "\n",
    "# If Statements, Loops, and Functions"
   ]
  },
  {
   "cell_type": "markdown",
   "metadata": {},
   "source": [
    "## If Statements"
   ]
  },
  {
   "cell_type": "markdown",
   "metadata": {},
   "source": [
    "__Overview:__ \n",
    "- __[If Statements](https://docs.python.org/3/reference/compound_stmts.html#if):__ If statements are a cornerstone of any programming language and allow programmers to replicate decision making in a computer program\n",
    "- If Statements are one type of __[Control Flow](https://en.wikipedia.org/wiki/Control_flow)__ tool in Python \n",
    "\n",
    "__Helpful Points:__ \n",
    "1. If Statements work by evaluating a condition (i.e. `5 > 6`) and then based on whether this condition evaluates as `True` or `False`, performs some action \n",
    "2. The condition that is evaluated must return `True` or `False` (we will see below the various ways that `True` and `False` can be represented in Python)"
   ]
  },
  {
   "cell_type": "markdown",
   "metadata": {},
   "source": [
    "### General Format of If Statements"
   ]
  },
  {
   "cell_type": "markdown",
   "metadata": {},
   "source": [
    "__Overview:__\n",
    "- The general form of ANY If Statement is the following: `if <condition>`:\n",
    "- If statements in Python do not have parentheses and the statement ends with a colon (this colon is absolutely mandatory for Python's interpreter and you will get an error if it is ommited)\n",
    "- If statements require a 4-space indent within the statement, otherwise it will not get executed (identation indicates the __scope__ of the block of code - which lines are affected by statements)\n"
   ]
  },
  {
   "cell_type": "markdown",
   "metadata": {},
   "source": [
    "### Types of If Statements"
   ]
  },
  {
   "cell_type": "markdown",
   "metadata": {},
   "source": [
    "__Overview:__\n",
    "- If Statements can be described as one of the following 4 types:\n",
    "> 1. __Simple If Statement:__ If Statements evaluating one condition and performing one possible action \n",
    "> 2. __If-Else Statement (1 condition):__ If Statements evaluating one condition and performing different actions depending on the result \n",
    "> 3. __If-Else Statement (> 1 condition):__ If Statements evaluating more than one condition and performing different actions depending on the result \n",
    "> 4. __Nested If-Else Statement:__  If Statements evaluating more than one condition in a nested fashion and performing different actions depending on the result\n"
   ]
  },
  {
   "cell_type": "markdown",
   "metadata": {},
   "source": [
    "### Simple If Statement "
   ]
  },
  {
   "cell_type": "markdown",
   "metadata": {},
   "source": [
    "__Overview:__\n",
    "- The general format is described as:<br>\n",
    "\n",
    "`if condition is true`<br>\n",
    ">    `block of code to execute if condition is true`\n"
   ]
  },
  {
   "cell_type": "markdown",
   "metadata": {},
   "source": [
    "### Example 1 (Checking Values of Strings):"
   ]
  },
  {
   "cell_type": "code",
   "execution_count": null,
   "metadata": {
    "ExecuteTime": {
     "end_time": "2019-10-28T01:46:04.981885Z",
     "start_time": "2019-10-28T01:46:04.968141Z"
    }
   },
   "outputs": [],
   "source": [
    "var = \"python\"\n",
    "if var == \"python\":\n",
    "    print(\"Python is the best\")"
   ]
  },
  {
   "cell_type": "markdown",
   "metadata": {},
   "source": [
    "### Example 2 (Checking Values of Ints):"
   ]
  },
  {
   "cell_type": "code",
   "execution_count": null,
   "metadata": {
    "ExecuteTime": {
     "end_time": "2019-10-28T01:47:02.114571Z",
     "start_time": "2019-10-28T01:47:02.111541Z"
    }
   },
   "outputs": [],
   "source": [
    "a = 2\n",
    "if a % 2 == 0:\n",
    "    print(\"a is even\")"
   ]
  },
  {
   "cell_type": "markdown",
   "metadata": {},
   "source": [
    "### If-Else Statement (1 Condition):"
   ]
  },
  {
   "cell_type": "markdown",
   "metadata": {},
   "source": [
    "__Overview:__\n",
    "- The general format is described as:<br>\n",
    "\n",
    "`if condition is true`<br>\n",
    ">    `block of code to execute if condition is true`<br>\n",
    "\n",
    "`else`:<br>\n",
    ">    `block of code to execute if condition is false`<br>  \n",
    "\n",
    "__Helpful Points:__\n",
    "1. Introducing the `else` condition provides more clarity in the program \n"
   ]
  },
  {
   "cell_type": "markdown",
   "metadata": {},
   "source": [
    "### Example 3 (Checking Values of Strings):"
   ]
  },
  {
   "cell_type": "code",
   "execution_count": null,
   "metadata": {
    "ExecuteTime": {
     "end_time": "2019-10-28T01:47:53.023018Z",
     "start_time": "2019-10-28T01:47:53.012792Z"
    }
   },
   "outputs": [],
   "source": [
    "language = \"python\"\n",
    "if language == \"python\":\n",
    "    print(\"Python is the best\")\n",
    "else:\n",
    "    print(\"R(?) is the best\")"
   ]
  },
  {
   "cell_type": "markdown",
   "metadata": {},
   "source": [
    "### Example 4 (Checking Values of Ints):"
   ]
  },
  {
   "cell_type": "code",
   "execution_count": null,
   "metadata": {
    "ExecuteTime": {
     "end_time": "2019-10-28T01:48:00.595411Z",
     "start_time": "2019-10-28T01:48:00.591227Z"
    }
   },
   "outputs": [],
   "source": [
    "a = 3\n",
    "if a % 2 == 0:\n",
    "    print(\"a is even\")\n",
    "else:\n",
    "    print(\"a is odd\")"
   ]
  },
  {
   "cell_type": "markdown",
   "metadata": {},
   "source": [
    "###  Type 3 - If-Else Statement (>1 Condition):"
   ]
  },
  {
   "cell_type": "markdown",
   "metadata": {},
   "source": [
    "__Overview:__\n",
    "- The general format is described as:<br>\n",
    "\n",
    "`if condition_1 is true`<br>\n",
    ">    `block of code to execute if condition_1 is true`<br>\n",
    "\n",
    "`elif condition_2 is true`:<br>\n",
    ">    `block of code to execute if condition_1 is false AND condition_2 is true`<br>\n",
    "\n",
    "`else`:<br>\n",
    ">    `block of code to execute if condition_1 is false AND condition_2 is false`<br>\n",
    "\n"
   ]
  },
  {
   "cell_type": "markdown",
   "metadata": {},
   "source": [
    "### Example 5 (Checking Values of Strings):"
   ]
  },
  {
   "cell_type": "code",
   "execution_count": null,
   "metadata": {
    "ExecuteTime": {
     "end_time": "2019-10-28T04:05:24.454284Z",
     "start_time": "2019-10-28T04:05:24.450077Z"
    }
   },
   "outputs": [],
   "source": [
    "a = 2\n",
    "if a >= 3:\n",
    "    print(\"a is greater than or equal to 3\")\n",
    "elif a > 2:\n",
    "    print(\"a is greater than 2 but not greater than or equal to 3\")\n",
    "else:\n",
    "    print(\"a is less than or equal to 2\")"
   ]
  },
  {
   "cell_type": "markdown",
   "metadata": {},
   "source": [
    "### Problem 1:\n",
    "\n",
    "Write a program to check if a value is positive, zero, or negative. \n",
    "\n",
    "- The program should print the result (i.e. \"Value is positive\")\n",
    "- Check your program works by creating a positive, zero, and negative variable and ensure the program outputs the correct response every time\n",
    "- Use if statements"
   ]
  },
  {
   "cell_type": "code",
   "execution_count": null,
   "metadata": {
    "ExecuteTime": {
     "end_time": "2019-10-28T01:49:40.555651Z",
     "start_time": "2019-10-28T01:49:40.550927Z"
    }
   },
   "outputs": [],
   "source": [
    "# Write your code here\n",
    "\n"
   ]
  },
  {
   "cell_type": "markdown",
   "metadata": {},
   "source": [
    "### Nested If-Else Statement:"
   ]
  },
  {
   "cell_type": "markdown",
   "metadata": {},
   "source": [
    "__Overview:__\n",
    "- The general format is described as:<br>\n",
    "\n",
    "`if condition_1 is true`:<br>\n",
    ">    `if condition_2 is true`:<br>\n",
    ">>        `block of code to execute if condition_1 is true AND condition_2 is true`\n",
    "\n",
    ">    `else`:<br>\n",
    ">>        `block of code to execute if condition_1 is true AND condition_2 is false`\n",
    "\n",
    "`else`:<br>\n",
    ">    `if condition_3 is true`:<br>\n",
    ">>        `block of code to execute if condition_1 is false AND condition_3 is true`\n",
    "\n",
    ">    `else`:<br>\n",
    ">>        `block of code to execute if condition_1 is false AND condition_3 is false`\n",
    "\n",
    "__Helpful Points:__\n",
    "1. Be careful when using nested if-else statements as they can often get messy and hard to read\n",
    "2. Always ensure you are using the 4-space indent "
   ]
  },
  {
   "cell_type": "markdown",
   "metadata": {},
   "source": [
    "### Example 6 (Checking Values of Ints):"
   ]
  },
  {
   "cell_type": "code",
   "execution_count": null,
   "metadata": {
    "ExecuteTime": {
     "end_time": "2019-10-28T01:50:40.509898Z",
     "start_time": "2019-10-28T01:50:40.505666Z"
    }
   },
   "outputs": [],
   "source": [
    "a = 2\n",
    "if a >= 3:\n",
    "    if a <= 5:\n",
    "        print(\"a is greater than or equal to 3 and less than or equal to 5\")\n",
    "    else:\n",
    "        print(\"a is greater than 5\")\n",
    "else:\n",
    "    if a >= 1:\n",
    "        print(\"a is greater or equal to 1 and less than 3\")\n",
    "    else:\n",
    "        print(\"a is less than 1\")"
   ]
  },
  {
   "cell_type": "markdown",
   "metadata": {},
   "source": [
    "### Problem 2:\n",
    "\n",
    "Write a program to check if a year is a leap year (see below for the method to determine if a year is a leap year):\n",
    "\n",
    "1. If the year is evenly divisible by 4, go to step 2. Otherwise, go to step 5.\n",
    "2. If the year is evenly divisible by 100, go to step 3. Otherwise, go to step 4.\n",
    "3. If the year is evenly divisible by 400, go to step 4. Otherwise, go to step 5.\n",
    "4. The year is a leap year (it has 366 days).\n",
    "5. The year is not a leap year (it has 365 days).\n",
    "\n",
    "Notes:\n",
    "1. Use nested if-else statements in your answer \n",
    "2. Test your program using the year 2018"
   ]
  },
  {
   "cell_type": "code",
   "execution_count": null,
   "metadata": {},
   "outputs": [],
   "source": [
    "# Write your code here\n",
    "\n",
    "\n",
    "\n"
   ]
  },
  {
   "cell_type": "markdown",
   "metadata": {},
   "source": [
    "## 3.2 Loops "
   ]
  },
  {
   "cell_type": "markdown",
   "metadata": {},
   "source": [
    "### 3.2.1 What are Loops?"
   ]
  },
  {
   "cell_type": "markdown",
   "metadata": {},
   "source": [
    "__Overview:__\n",
    "- __Loops__: Loops are another cornerstone of programming and allow programmers to repeat steps multiple times until some condition is met or the condition has reached the pre-specified number of iterations \n",
    "- The condition in a loop is important as it determines how long the loop will run for \n",
    "- After each __[iteration](https://en.wikipedia.org/wiki/Iteration)__, the loop checks the condition. If the condition tells the loop to continue, another iteration will commence. If the condition tells the loop to stop, the loop will end. \n",
    "- For example, if you wanted to print \"Hello World\" 10 times, you can easily write 10 statements that look like this: `print(\"Hello World\")`, but this would not be the most efficient way of performing this task\n",
    "- Instead, you can leverage a loop to repeat the statement `print(\"Hello World\")` by enclosing the statemenet in a loop and telling the loop to repeat this task 10 times \n",
    "\n",
    "__Helpful Points:__\n",
    "1. Any time you find yourself having to repeat a step more than once, you should consider using a loop\n",
    "2. Common uses of loops are cycling through the rows and columns of tables, summing numbers, counting items, etc. \n",
    "3. Recall the fourth sequence type shown in Lecture 2 (the range type) which is represented as `range()`\n",
    "\n",
    "__Practice:__ Examples of where loops are necessary in Python "
   ]
  },
  {
   "cell_type": "markdown",
   "metadata": {},
   "source": [
    "### Example 7 (Printing Statements):"
   ]
  },
  {
   "cell_type": "code",
   "execution_count": null,
   "metadata": {
    "ExecuteTime": {
     "end_time": "2019-10-28T01:52:31.551118Z",
     "start_time": "2019-10-28T01:52:31.546280Z"
    },
    "scrolled": true
   },
   "outputs": [],
   "source": [
    "# print \"Hello World\" 10 times without using a loop\n",
    "print(\"Hello World\")\n",
    "print(\"Hello World\")\n",
    "print(\"Hello World\")\n",
    "print(\"Hello World\")\n",
    "print(\"Hello World\")\n",
    "print(\"Hello World\")\n",
    "print(\"Hello World\")\n",
    "print(\"Hello World\")\n",
    "print(\"Hello World\")\n",
    "print(\"Hello World\")"
   ]
  },
  {
   "cell_type": "code",
   "execution_count": null,
   "metadata": {
    "ExecuteTime": {
     "end_time": "2019-10-28T01:52:32.849115Z",
     "start_time": "2019-10-28T01:52:32.844986Z"
    }
   },
   "outputs": [],
   "source": [
    "# print \"Hello World\" 10 times with using a loop\n",
    "for i in range(10):\n",
    "    print(\"Hello World\")"
   ]
  },
  {
   "cell_type": "markdown",
   "metadata": {},
   "source": [
    "### Example 8 (Summing Numbers):"
   ]
  },
  {
   "cell_type": "code",
   "execution_count": null,
   "metadata": {
    "ExecuteTime": {
     "end_time": "2019-10-28T01:52:40.084455Z",
     "start_time": "2019-10-28T01:52:40.080800Z"
    }
   },
   "outputs": [],
   "source": [
    "# sum the numbers in a list without using a loop\n",
    "my_list = [1, 2, 3]\n",
    "sum_list = 0\n",
    "sum_list += my_list[0]\n",
    "sum_list += my_list[1]\n",
    "sum_list += my_list[2]\n",
    "\n",
    "print(sum_list)"
   ]
  },
  {
   "cell_type": "code",
   "execution_count": null,
   "metadata": {
    "ExecuteTime": {
     "end_time": "2019-10-28T01:52:45.635747Z",
     "start_time": "2019-10-28T01:52:45.632790Z"
    }
   },
   "outputs": [],
   "source": [
    "# sum the numbers in a list with using a loop\n",
    "my_list = [1, 2, 3]\n",
    "sum_list = 0\n",
    "for num in my_list:\n",
    "    sum_list += num\n",
    "\n",
    "print(sum_list)"
   ]
  },
  {
   "cell_type": "markdown",
   "metadata": {},
   "source": [
    "### Types of Loops in Python "
   ]
  },
  {
   "cell_type": "markdown",
   "metadata": {},
   "source": [
    "__Overview:__\n",
    "- Depending on the programming language, there may be different types of supported loops (i.e. for, while, do while, for each, etc.) \n",
    "- However, in Python, there are 2 main types of loops that are used: the `for` loop and the `while` loop\n",
    "- Similar to If Statements, Python does not require parantheses `(` and `)` to enclose the sequence\n",
    "- However, Python does require a colon (`:`) similar to If Statements as well as 4-space indentation to denote the code block \n",
    "\n",
    "__Helpful Points:__\n",
    "1. `for` loops are typically used to iterate over a sequence of data \n",
    "2. `while` loop are typically used to repeat a task until the condition is evaluated as `False` \n",
    "3. In most cases, `for` and `while` loops can be used interchangeably, although there is usually a \"better\" choice to make"
   ]
  },
  {
   "cell_type": "markdown",
   "metadata": {},
   "source": [
    "### 3.2.4 For Loop in Detail"
   ]
  },
  {
   "cell_type": "markdown",
   "metadata": {},
   "source": [
    "__Overview:__\n",
    "- __[For Loop](https://en.wikipedia.org/wiki/For_loop):__ For loops are the most common type of loop used in Python and is used for repeating a task `n` number of times \n",
    "- The general format of a `for` loop is as follows:\n",
    "\n",
    "`for i in <sequence>:`<br>\n",
    " >    `<statement>` \n",
    " \n",
    "- The `for` loop can be expressed simply as: \"for each element in the sequence, execute this statement. Once the last item of the sequence is reached, exit the loop\"\n"
   ]
  },
  {
   "cell_type": "markdown",
   "metadata": {},
   "source": [
    "- The `i` variable is assigned each element of the sequence, therefore it changes at each iteration\n",
    "- The `i` variables can be called any name you like, however by convention it is used for iterations like this (see [this](https://softwareengineering.stackexchange.com/questions/86904/why-do-most-of-us-use-i-as-a-loop-counter-variable) post for an interesting discussions of the reasons behind using variables like `i` and `j` in loops \n",
    "- The `i` variable DOES NOT need to be assigned outside the loop and it also exists after the loop is complete as whatever the last element of the sequence was (see examples below) \n",
    "\n",
    "__Helpful Points:__\n",
    "1. The `for` loop will continue iterating until the \"next\" method realizes that all the elements in the object have been accessed\n",
    "2. Therefore, the number of iterations of a `for` loop is known ahead of time and is equal to the number of elements in the sequence (or the output of the `len()` function)\n",
    "3. It is also possible (and common) to have a `for` loop inside another `for` loop - known as a __Nested Loop__\n",
    "\n",
    "__Practice:__ Examples of For Loops in Python "
   ]
  },
  {
   "cell_type": "markdown",
   "metadata": {},
   "source": [
    "### Example 9 (Loops with Lists):"
   ]
  },
  {
   "cell_type": "code",
   "execution_count": null,
   "metadata": {
    "ExecuteTime": {
     "end_time": "2019-10-28T02:09:03.945042Z",
     "start_time": "2019-10-28T02:09:03.941495Z"
    }
   },
   "outputs": [],
   "source": [
    "my_list = [1, 4, 2, 5]\n",
    "my_sum = 0\n",
    "\n",
    "# for loop to calculate the sum of all numbers in a list \n",
    "for num in my_list:\n",
    "    my_sum += num\n",
    "    \n",
    "print(my_sum)"
   ]
  },
  {
   "cell_type": "code",
   "execution_count": null,
   "metadata": {
    "ExecuteTime": {
     "end_time": "2019-10-28T02:09:18.863190Z",
     "start_time": "2019-10-28T02:09:18.858611Z"
    }
   },
   "outputs": [],
   "source": [
    "my_list_1 = [2, 4, 5, 6, 8, 9, 10]\n",
    "even_nums = 0\n",
    "odd_nums = 0\n",
    "\n",
    "# for loop to calculate the number of even and odd numbers in a list\n",
    "for num in my_list_1:\n",
    "    if num % 2: # recall the ways that Python interprets False (in this case, if the remainder is 0, this is considered false)\n",
    "        odd_nums += 1\n",
    "    else:\n",
    "        even_nums += 1\n",
    "\n",
    "print(\"The number of even numbers are {} and the number of odd numbers are {}\".format(even_nums, odd_nums))"
   ]
  },
  {
   "cell_type": "markdown",
   "metadata": {},
   "source": [
    "### Example 10 (Loops with Ranges):"
   ]
  },
  {
   "cell_type": "code",
   "execution_count": null,
   "metadata": {
    "ExecuteTime": {
     "end_time": "2019-10-28T02:09:24.768072Z",
     "start_time": "2019-10-28T02:09:24.763935Z"
    }
   },
   "outputs": [],
   "source": [
    "# for loop to print all the even numbers from 0 to 20\n",
    "for i in range(0, 21, 2):\n",
    "    print(i)"
   ]
  },
  {
   "cell_type": "code",
   "execution_count": null,
   "metadata": {
    "ExecuteTime": {
     "end_time": "2019-10-28T02:09:30.182618Z",
     "start_time": "2019-10-28T02:09:30.179163Z"
    }
   },
   "outputs": [],
   "source": [
    "int_sum = 0\n",
    "\n",
    "# for loop to calculate the sum of integers from 1 to 999\n",
    "for i in range(1, 1000):\n",
    "    int_sum += i\n",
    "\n",
    "print(int_sum)"
   ]
  },
  {
   "cell_type": "markdown",
   "metadata": {},
   "source": [
    "### Example 11 (Loops with Dictionaries):\n",
    "\n",
    "- Recall that although dictionaries are unordered (they are not sequences), we can still access their keys, values and items\n",
    "- Therefore, we can easily loop through dictionaries keys, values and items "
   ]
  },
  {
   "cell_type": "code",
   "execution_count": null,
   "metadata": {
    "ExecuteTime": {
     "end_time": "2019-10-28T02:10:14.890853Z",
     "start_time": "2019-10-28T02:10:14.887343Z"
    }
   },
   "outputs": [],
   "source": [
    "my_dict = {\"First_Name\":\"Dimitri\", \"Last_Name\":\"Theoharatos\", \"City\":\"San Francisco\", \"Country\":\"United States\"}"
   ]
  },
  {
   "cell_type": "markdown",
   "metadata": {},
   "source": [
    "### Example 11.1 (Loops with Dictionary Keys):"
   ]
  },
  {
   "cell_type": "code",
   "execution_count": null,
   "metadata": {
    "ExecuteTime": {
     "end_time": "2019-10-28T02:10:18.978445Z",
     "start_time": "2019-10-28T02:10:18.975087Z"
    }
   },
   "outputs": [],
   "source": [
    "# using the keys method directly \n",
    "for key in my_dict.keys():\n",
    "    print(key)"
   ]
  },
  {
   "cell_type": "code",
   "execution_count": null,
   "metadata": {
    "ExecuteTime": {
     "end_time": "2019-10-28T02:10:20.331482Z",
     "start_time": "2019-10-28T02:10:20.327368Z"
    }
   },
   "outputs": [],
   "source": [
    "# using the keys method indirectly \n",
    "for key in my_dict:\n",
    "    print(key)"
   ]
  },
  {
   "cell_type": "markdown",
   "metadata": {},
   "source": [
    "### Example 11.2 (Loops with Dictionary Values):"
   ]
  },
  {
   "cell_type": "code",
   "execution_count": null,
   "metadata": {
    "ExecuteTime": {
     "end_time": "2019-10-28T02:10:25.578433Z",
     "start_time": "2019-10-28T02:10:25.574924Z"
    }
   },
   "outputs": [],
   "source": [
    "for value in my_dict.values():\n",
    "    print(value)"
   ]
  },
  {
   "cell_type": "markdown",
   "metadata": {},
   "source": [
    "### Example 11.3 (Loops with Dictionary Items):"
   ]
  },
  {
   "cell_type": "code",
   "execution_count": null,
   "metadata": {
    "ExecuteTime": {
     "end_time": "2019-10-28T02:10:27.018952Z",
     "start_time": "2019-10-28T02:10:27.015074Z"
    }
   },
   "outputs": [],
   "source": [
    "for item in my_dict.items():\n",
    "    print(item)"
   ]
  },
  {
   "cell_type": "code",
   "execution_count": null,
   "metadata": {
    "ExecuteTime": {
     "end_time": "2019-10-28T02:10:28.997314Z",
     "start_time": "2019-10-28T02:10:28.993249Z"
    }
   },
   "outputs": [],
   "source": [
    "# We can use unpacking of items into two variables (key, value) to iterate over the items and extract the keys and values at every iteration\n",
    "for key, value in my_dict.items():\n",
    "    print(\"{} : {}\".format(key, value))"
   ]
  },
  {
   "cell_type": "markdown",
   "metadata": {},
   "source": [
    "### Example 12 (Nested For Loop):"
   ]
  },
  {
   "cell_type": "code",
   "execution_count": null,
   "metadata": {
    "ExecuteTime": {
     "end_time": "2019-10-28T02:10:36.329194Z",
     "start_time": "2019-10-28T02:10:36.324771Z"
    }
   },
   "outputs": [],
   "source": [
    "# use a nested for loop to extract every element of a nested list \n",
    "my_nested_list = [[\"a\", \"b\", \"c\"], [1, 2, 3], [\"d\", \"e\", \"f\"]]\n",
    "for interior_list in my_nested_list:\n",
    "    for element in interior_list:\n",
    "        print(element)"
   ]
  },
  {
   "cell_type": "markdown",
   "metadata": {},
   "source": [
    "### Problem 3\n",
    "\n",
    "Write a program to calculate the maximum value of a list: `[3, 36, 154, 2, 145]` \n",
    "\n",
    "- You should used a `for` loop in your answer\n",
    "- You should use an `if` statement in your answer\n",
    "- Do not use any built-in Python functions\n",
    "- Print the maximum value of the list at the end of your program"
   ]
  },
  {
   "cell_type": "code",
   "execution_count": null,
   "metadata": {
    "ExecuteTime": {
     "end_time": "2019-10-28T03:49:20.300486Z",
     "start_time": "2019-10-28T03:49:20.298753Z"
    }
   },
   "outputs": [],
   "source": [
    "# Write your code here\n",
    "\n"
   ]
  },
  {
   "cell_type": "markdown",
   "metadata": {},
   "source": [
    "### While Loop in Detail "
   ]
  },
  {
   "cell_type": "markdown",
   "metadata": {},
   "source": [
    "__Overview:__\n",
    "- __[While Loop](https://en.wikipedia.org/wiki/While_loop):__ While loops are not quite as common as `for` loops but are still helpful for executing a task repeatedly until the condition is evaluated as `False` \n",
    "- The general format of a `while` loop is as follows:\n",
    "\n",
    "`while <condition is True>:`<br>\n",
    " >    `<statement>` \n",
    " \n",
    "- The `while` loop can be expressed simply as: \"while the condition is TRUE, execute the statement. If the condition is evaluated as FALSE, exit the loop\"\n",
    "- Unlike `for` loops, a sequence is not required to iterate over (making `while` loops more general and less restrictive than `for` loops)\n",
    "- In `while` loops, you wish to repeat a task until an exit condition is met \n",
    "- While loops can also be expressed visually: <img src=\"img16.jpg\",width=400,height=400>"
   ]
  },
  {
   "cell_type": "markdown",
   "metadata": {},
   "source": [
    "- Any condition in Python that can be interpreted as Boolean Value can be used in the `<condition>` part of the statement \n",
    "- Recall in section 3.1.4.1 the possible objects that Python interprets as `False` and therefore, the converse being interpreted as `True`\n",
    "\n",
    "__Helpful Points:__\n",
    "1. The `while` loop will continue iterating until the `<condition>` is evaluated as `False` \n",
    "2. Therefore, the number of iterations of a `while` loop is not always known ahead of time, but it is equal to the number of iterations until the exit condition was met \n",
    "3. Be careful of an __[Infinite Loop](https://en.wikipedia.org/wiki/Infinite_loop)__ which is a loop that never reaches its stopping condition (see example 4 below)\n",
    "\n",
    "__Practice:__ Examples of While Loops in Python "
   ]
  },
  {
   "cell_type": "markdown",
   "metadata": {},
   "source": [
    "### Example 13 (Illustrative Example of While Loop in Python)\n",
    "\n",
    "- Suppose you were living in Chicago and getting ready to brace the cold winter. One would say: \"While the internal body temperature is \"low\", add a layer to incresae internal temperature.\"\n",
    "- We can express this scenario in the `while` loop fashion:\n",
    "\n",
    "`while internal temperature is low`:\n",
    ">    `add a layer to increse internal temperature`\n",
    "\n",
    "- We can make this example concrete and numerical and assume that internal temperature should be maintained at 98 degrees F and every layer we add, we increase our body temperature by 1 degree "
   ]
  },
  {
   "cell_type": "code",
   "execution_count": null,
   "metadata": {},
   "outputs": [],
   "source": [
    "internal_temperature = 93\n",
    "layers = 0\n",
    "while internal_temperature < 98:\n",
    "    print(\"internal temperature is at {}, so add a layer\".format(internal_temperature))\n",
    "    internal_temperature += 1\n",
    "    layers += 1\n",
    "\n",
    "print(\"internal temperature is now at {} and we added {} layers\".format(internal_temperature, layers))"
   ]
  },
  {
   "cell_type": "markdown",
   "metadata": {},
   "source": [
    "Interpretation:\n",
    "- The `while` loop in Example 1 can be interpreted as follows:\n",
    "> 1. Check if `internal_temperature` is < 98. This is true, so print statement, increment `internal_temperature` (now, `internal_temperature` = __94__, increment layers (now, `layers` = __1__)\n",
    "> 2. Check if `internal_temperature` is < 98. This is true, so print statement, increment `internal_temperature` (now, `internal_temperature` = __95__, increment layers (now, `layers` = __2__)\n",
    "> 3. Check if `internal_temperature` is < 98. This is true, so print statement, increment `internal_temperature` (now, `internal_temperature` = __96__, increment layers (now, `layers` = __3__)\n",
    "> 4. Check if `internal_temperature` is < 98. This is true, so print statement, increment `internal_temperature` (now, `internal_temperature` = __97__, increment layers (now, `layers` = __4__)\n",
    "> 5. Check if `internal_temperature` is < 98. This is true, so print statement, increment `internal_temperature` (now, `internal_temperature` = __98__, increment layers (now, `layers` = __5__)\n",
    "> 6. Check if `internal_temperature` is < 98. This is false, so exit the loop."
   ]
  },
  {
   "cell_type": "markdown",
   "metadata": {},
   "source": [
    "Notes:\n",
    "1. Unlike `for` loops, `while` loops do not increment variables for you\n",
    "2. If you would like to increment a variable, you must do it manually like the example above "
   ]
  },
  {
   "cell_type": "markdown",
   "metadata": {},
   "source": [
    "### Example 14 (While Loop - Unknown Iterations):"
   ]
  },
  {
   "cell_type": "code",
   "execution_count": null,
   "metadata": {
    "ExecuteTime": {
     "end_time": "2019-10-28T03:01:58.618871Z",
     "start_time": "2019-10-28T03:01:58.616375Z"
    }
   },
   "outputs": [],
   "source": [
    "# ignore this for now, we will explore modules below. We are just loading some additional capabilities in that is not built in Python\n",
    "import random"
   ]
  },
  {
   "cell_type": "code",
   "execution_count": null,
   "metadata": {
    "ExecuteTime": {
     "end_time": "2019-10-28T03:02:25.931551Z",
     "start_time": "2019-10-28T03:02:25.927244Z"
    },
    "scrolled": true
   },
   "outputs": [],
   "source": [
    "# keep choosing a number randomly from a range of 0 - 9 until you get a 2\n",
    "num_save = 0\n",
    "num_iter = 0\n",
    "goal = 2\n",
    "while num_save != goal:\n",
    "    num_save = random.sample(range(10), 1)[0] # randomly select a number and save as int \n",
    "    print(num_save)\n",
    "    num_iter += 1\n",
    "\n",
    "print(\"It took {} iteration(s) to get a {}\".format(num_iter, goal))"
   ]
  },
  {
   "cell_type": "markdown",
   "metadata": {},
   "source": [
    "Interpretation:\n",
    "- At each iteration, we check if the number chosen is equal to a 2\n",
    "- If the number randomly chosen is not equal to a 2, print the number and increment the number of iterations\n",
    "- If the number randomly chosen is equal to a 2, exit the loop"
   ]
  },
  {
   "cell_type": "markdown",
   "metadata": {},
   "source": [
    "### Example 15 (Infinite Loop):"
   ]
  },
  {
   "cell_type": "code",
   "execution_count": null,
   "metadata": {},
   "outputs": [],
   "source": [
    "# if you run this, it will never end \n",
    "#a = 1\n",
    "#while a > 0:\n",
    "#    print(\"a is still greater than 0\")"
   ]
  },
  {
   "cell_type": "markdown",
   "metadata": {},
   "source": [
    "In the above example, the stopping condition (`a > 0`) is never met since `a = 1`. Therefore, the `while` loop will continue iterating forever...\n",
    "\n",
    "- Run this cell above, but stop it after a few seconds by clicking the \"stop\" button which interrupts the Kernel"
   ]
  },
  {
   "cell_type": "markdown",
   "metadata": {},
   "source": [
    "### Advanced Mechanisms for Loops in Python:"
   ]
  },
  {
   "cell_type": "markdown",
   "metadata": {},
   "source": [
    "__Overview:__\n",
    "- You now know everything you need to in order to perform all looping tasks in Python \n",
    "- However, there exists some additional functionality in Python that allows loops to be written in a cleaner and more efficient fashion\n",
    "- Python has 2 additional ways to perform loops:\n",
    "> 1. Using the built-in function `enumerate`\n",
    "\n"
   ]
  },
  {
   "cell_type": "markdown",
   "metadata": {},
   "source": [
    "### Using Built-In Functions (`enumerate`)"
   ]
  },
  {
   "cell_type": "markdown",
   "metadata": {},
   "source": [
    "__Overview:__\n",
    "- The __[`enumerate`](https://docs.python.org/3/library/functions.html#enumerate)__ function's main benefit is that it allows you to loop over a sequence and have an automatic counter\n",
    "- Recall all the times in the above examples when we had to manually define counters outside the loop and then increment the counter in the loop. Enumerate function aims to fix this \n",
    "\n",
    "__Helpful Points:__\n",
    "1. The function accepts two parameters: `enumerate(iterable, start=0)`, therfore the first argument is required to be an `iterable` object (see section 3.2.3) and the second argument indicates what the counter should begin at \n",
    "2. The `enumerate` function outputs a `tuple` object which contains 2 elements: 1. the `count` and 2. the value \n",
    "\n",
    "__Practice:__ Examples of using Enumerate function in Python "
   ]
  },
  {
   "cell_type": "markdown",
   "metadata": {},
   "source": [
    "### Example 16 (Perform Similar Action without Enumerate):\n",
    "\n",
    "- Without using `enumerate`, we have choose one of two options: \n",
    "> 1. Iterate based on contents of the sequence -> returns the contents \n",
    "> 2. Iterate based on an integer and index the sequence by the integer to access the contents -> returns the index \n",
    "\n",
    "- BUT, if we wanted to iterate and return BOTH 1 (the contents) and 2 (index), we would need to MANUALLY return both (see example 1.3)"
   ]
  },
  {
   "cell_type": "markdown",
   "metadata": {},
   "source": [
    "### Example 16.1 (Iterate based on Contents):"
   ]
  },
  {
   "cell_type": "code",
   "execution_count": null,
   "metadata": {
    "ExecuteTime": {
     "end_time": "2019-10-28T03:05:05.201203Z",
     "start_time": "2019-10-28T03:05:05.197323Z"
    }
   },
   "outputs": [],
   "source": [
    "our_list = ['a','b','c','d','e']\n",
    "for content in our_list:\n",
    "    print(content)"
   ]
  },
  {
   "cell_type": "markdown",
   "metadata": {},
   "source": [
    "This method gives us the contents BUT does not return the index (0, 1, 2, 3, 4)"
   ]
  },
  {
   "cell_type": "markdown",
   "metadata": {},
   "source": [
    "### Example 16.2 (Iterate based on Index):"
   ]
  },
  {
   "cell_type": "code",
   "execution_count": null,
   "metadata": {
    "ExecuteTime": {
     "end_time": "2019-10-28T03:04:22.459533Z",
     "start_time": "2019-10-28T03:04:22.455946Z"
    }
   },
   "outputs": [],
   "source": [
    "our_list = ['a','b','c','d','e']\n",
    "for i in range(len(our_list)):\n",
    "    print(i)"
   ]
  },
  {
   "cell_type": "markdown",
   "metadata": {},
   "source": [
    "### Example 16.3 (Return both Contents and Index):"
   ]
  },
  {
   "cell_type": "code",
   "execution_count": null,
   "metadata": {
    "ExecuteTime": {
     "end_time": "2019-10-28T03:04:31.732488Z",
     "start_time": "2019-10-28T03:04:31.728146Z"
    }
   },
   "outputs": [],
   "source": [
    "our_list = ['a','b','c','d','e']\n",
    "for i in range(len(our_list)):\n",
    "    print(i, our_list[i])"
   ]
  },
  {
   "cell_type": "markdown",
   "metadata": {},
   "source": [
    "### Example 17 (Perform Action with Enumerate):\n",
    "\n",
    "- By using `enumerate`, we are able to return BOTH the contents and the index "
   ]
  },
  {
   "cell_type": "code",
   "execution_count": null,
   "metadata": {
    "ExecuteTime": {
     "end_time": "2019-10-28T03:04:33.959610Z",
     "start_time": "2019-10-28T03:04:33.955560Z"
    }
   },
   "outputs": [],
   "source": [
    "our_list = ['a','b','c','d','e']\n",
    "for counter, value in enumerate(our_list): # start counter at default value of 0\n",
    "    print(\"The counter is {} and the value is {}\".format(counter, value))"
   ]
  },
  {
   "cell_type": "code",
   "execution_count": null,
   "metadata": {
    "ExecuteTime": {
     "end_time": "2019-10-28T03:04:47.940906Z",
     "start_time": "2019-10-28T03:04:47.936473Z"
    }
   },
   "outputs": [],
   "source": [
    "our_list = ['a','b','c','d','e']\n",
    "for counter, value in enumerate(our_list, 10): # start counter at value of 10\n",
    "    print(\"The counter is {} and the value is {}\".format(counter, value))"
   ]
  },
  {
   "cell_type": "markdown",
   "metadata": {},
   "source": [
    "## Zipping"
   ]
  },
  {
   "cell_type": "markdown",
   "metadata": {},
   "source": [
    "__Overview:__\n",
    "- __[Zipping](http://python-reference.readthedocs.io/en/latest/docs/functions/zip.html)__: Zipping is a convenient feature in Python that allows you to combine 2 or more sequences, into a single sequence\n",
    "- The new sequence consists of a list of `n-tuples` (where the i-th tuple contains the i-th element from each of the argument sequences) and `n` is the number of sequences which corresponds to the length of the list\n",
    "- For example, 2 objects that are of type `list`, can be \"zipped\" together and the resulting list will be a `tuple` looking like this: `[(element 0 of list 1, element 0 of list 2), (element 1 of list 1, element 1 of list 2), ...]`\n",
    "- __Unzipping:__ Unzipping is the opposite of the __Zipping__ feature and is performed by using the `*` operator \n"
   ]
  },
  {
   "cell_type": "markdown",
   "metadata": {},
   "source": [
    "### Part 1 (Zipping):"
   ]
  },
  {
   "cell_type": "markdown",
   "metadata": {},
   "source": [
    "### Example 18.1 (Zip With No Arguments):"
   ]
  },
  {
   "cell_type": "code",
   "execution_count": null,
   "metadata": {
    "ExecuteTime": {
     "end_time": "2019-10-28T03:05:38.661277Z",
     "start_time": "2019-10-28T03:05:38.651836Z"
    }
   },
   "outputs": [],
   "source": [
    "zip()"
   ]
  },
  {
   "cell_type": "code",
   "execution_count": null,
   "metadata": {
    "ExecuteTime": {
     "end_time": "2019-10-28T03:05:39.960134Z",
     "start_time": "2019-10-28T03:05:39.956338Z"
    }
   },
   "outputs": [],
   "source": [
    "list(zip())"
   ]
  },
  {
   "cell_type": "markdown",
   "metadata": {},
   "source": [
    "With no arguments, the `zip()` function returns an empty list (after converting to a list, of course)"
   ]
  },
  {
   "cell_type": "markdown",
   "metadata": {},
   "source": [
    "### Example 18.2 (Zip with One Argument):"
   ]
  },
  {
   "cell_type": "code",
   "execution_count": null,
   "metadata": {},
   "outputs": [],
   "source": [
    "my_list = [1,2,3]"
   ]
  },
  {
   "cell_type": "code",
   "execution_count": null,
   "metadata": {},
   "outputs": [],
   "source": [
    "zip(my_list)"
   ]
  },
  {
   "cell_type": "code",
   "execution_count": null,
   "metadata": {},
   "outputs": [],
   "source": [
    "list(zip(my_list))"
   ]
  },
  {
   "cell_type": "markdown",
   "metadata": {},
   "source": [
    "With 1 argument, the `zip()` function returns a list of `1-tuples` (after converting to a list, of course)"
   ]
  },
  {
   "cell_type": "markdown",
   "metadata": {},
   "source": [
    "### Example 18.3 (Zip with Multiple Arguments of the Same Length):"
   ]
  },
  {
   "cell_type": "code",
   "execution_count": null,
   "metadata": {
    "ExecuteTime": {
     "end_time": "2019-10-28T03:06:06.668916Z",
     "start_time": "2019-10-28T03:06:06.666351Z"
    }
   },
   "outputs": [],
   "source": [
    "my_list_1 = [1,2,3]\n",
    "my_list_2 = [4,5,6]"
   ]
  },
  {
   "cell_type": "code",
   "execution_count": null,
   "metadata": {
    "ExecuteTime": {
     "end_time": "2019-10-28T03:06:06.881069Z",
     "start_time": "2019-10-28T03:06:06.876713Z"
    }
   },
   "outputs": [],
   "source": [
    "zip(my_list_1, my_list_2)"
   ]
  },
  {
   "cell_type": "code",
   "execution_count": null,
   "metadata": {
    "ExecuteTime": {
     "end_time": "2019-10-28T03:06:07.374476Z",
     "start_time": "2019-10-28T03:06:07.369598Z"
    }
   },
   "outputs": [],
   "source": [
    "list(zip(my_list_1, my_list_2))"
   ]
  },
  {
   "cell_type": "markdown",
   "metadata": {},
   "source": [
    "- With 2 arguments, the `zip()` function returns a list of `2-tuples` (after converting to a list, of course)\n",
    "- Notice the `2-tuple` at position `0` contains the 0th element of `my_list_1` and the 0th element of `my_list_2` \n",
    "- Notice the `2-tuple` at position `1` contains the 1st element of `my_list_1` and the 1st element of `my_list_2` \n",
    "- Notice the `2-tuple` at position `2` contains the 2nd element of `my_list_1` and the 2nd element of `my_list_2` "
   ]
  },
  {
   "cell_type": "markdown",
   "metadata": {},
   "source": [
    "### Example 18.4 (Zip with Multiple Argument of Different Lengths):"
   ]
  },
  {
   "cell_type": "code",
   "execution_count": null,
   "metadata": {
    "ExecuteTime": {
     "end_time": "2019-10-28T03:06:14.485785Z",
     "start_time": "2019-10-28T03:06:14.483025Z"
    }
   },
   "outputs": [],
   "source": [
    "my_list_1 = [1,2,3]\n",
    "my_list_2 = [4,5,6]\n",
    "my_list_3 = [7,8,9,10]"
   ]
  },
  {
   "cell_type": "code",
   "execution_count": null,
   "metadata": {
    "ExecuteTime": {
     "end_time": "2019-10-28T03:06:14.728643Z",
     "start_time": "2019-10-28T03:06:14.724142Z"
    }
   },
   "outputs": [],
   "source": [
    "zip(my_list_1, my_list_2, my_list_3)"
   ]
  },
  {
   "cell_type": "code",
   "execution_count": null,
   "metadata": {
    "ExecuteTime": {
     "end_time": "2019-10-28T03:06:15.384677Z",
     "start_time": "2019-10-28T03:06:15.380751Z"
    }
   },
   "outputs": [],
   "source": [
    "list(zip(my_list_1, my_list_2, my_list_3))"
   ]
  },
  {
   "cell_type": "code",
   "execution_count": null,
   "metadata": {
    "ExecuteTime": {
     "end_time": "2019-10-28T03:06:15.591648Z",
     "start_time": "2019-10-28T03:06:15.586435Z"
    }
   },
   "outputs": [],
   "source": [
    "len(list(zip(my_list_1, my_list_2, my_list_3)))"
   ]
  },
  {
   "cell_type": "markdown",
   "metadata": {},
   "source": [
    "- With 3 arguments, the `zip()` function returns a list of `3-tuples` (after converting to a list, of course)\n",
    "- Notice the `3-tuple` at position `0` contains the 0th element of `my_list_1`, 0th element of `my_list_2` and the 0th element of `my_list_3`\n",
    "- Notice the `3-tuple` at position `1` contains the 1st element of `my_list_1`, 1st element of `my_list_2` and the 1st element of `my_list_3` \n",
    "- Notice the `3-tuple` at position `2` contains the 2nd element of `my_list_1`, 2nd element of `my_list_2` and the 2nd element of `my_list_3` \n",
    "- Notice the resulting `list` is of length 3 since that is the length of the shortest sequence that was passed in and the 3rd element of `my_list_3` gets truncated "
   ]
  },
  {
   "cell_type": "markdown",
   "metadata": {},
   "source": [
    "### Part 2 (Zipping in `for` loops):\n",
    "\n",
    "- If we need to iterate over multiple sequences, there is a way (albeit, messy) way to do it using the skills learned up to this point\n",
    "- However, zipping makes this much cleaner and concise "
   ]
  },
  {
   "cell_type": "markdown",
   "metadata": {},
   "source": [
    "### Example 19.1 (Iterating Multiple Sequence - Method 1):"
   ]
  },
  {
   "cell_type": "code",
   "execution_count": null,
   "metadata": {
    "ExecuteTime": {
     "end_time": "2019-10-28T03:07:53.331291Z",
     "start_time": "2019-10-28T03:07:53.327727Z"
    }
   },
   "outputs": [],
   "source": [
    "city = [\"Chicago\", \"Seattle\", \"New York City\"]\n",
    "state = [\"Illinois\", \"Washington\", \"New York\"]\n",
    "employee = [\"Joe\", \"Roberta\", \"Alice\"]"
   ]
  },
  {
   "cell_type": "code",
   "execution_count": null,
   "metadata": {
    "ExecuteTime": {
     "end_time": "2019-10-28T03:07:53.667357Z",
     "start_time": "2019-10-28T03:07:53.663531Z"
    }
   },
   "outputs": [],
   "source": [
    "# loop through multiple sequences without zipping\n",
    "for i in range(len(city)):\n",
    "    print(\"{} works in {}, {}\".format(employee[i], city[i], state[i]))"
   ]
  },
  {
   "cell_type": "markdown",
   "metadata": {},
   "source": [
    "### Example 19.2 (Iterating Multiple Sequences - Method 2):"
   ]
  },
  {
   "cell_type": "code",
   "execution_count": null,
   "metadata": {
    "ExecuteTime": {
     "end_time": "2019-10-28T03:08:14.095792Z",
     "start_time": "2019-10-28T03:08:14.092498Z"
    }
   },
   "outputs": [],
   "source": [
    "city = [\"Chicago\", \"Seattle\", \"New York City\"]\n",
    "state = [\"Illinois\", \"Washington\", \"New York\"]\n",
    "employee = [\"Joe\", \"Roberta\", \"Alice\"]"
   ]
  },
  {
   "cell_type": "code",
   "execution_count": null,
   "metadata": {
    "ExecuteTime": {
     "end_time": "2019-10-28T03:08:14.511744Z",
     "start_time": "2019-10-28T03:08:14.507410Z"
    }
   },
   "outputs": [],
   "source": [
    "# loop through multiple sequences with zipping \n",
    "for employee, city, state in zip(employee, city, state):\n",
    "    print(\"{} works in {}, {}\".format(employee, city, state))"
   ]
  },
  {
   "cell_type": "markdown",
   "metadata": {},
   "source": [
    "## Functions"
   ]
  },
  {
   "cell_type": "markdown",
   "metadata": {},
   "source": [
    "### 3.4.1 What is a Function? "
   ]
  },
  {
   "cell_type": "markdown",
   "metadata": {},
   "source": [
    "__Overview:__\n",
    "- Functions are the last cornerstone topic in programming that we will cover.\n",
    "- Functions in programming resemble that of __[mathematical functions](https://en.wikipedia.org/wiki/Function_(mathematics)__ in that they take some \"input\", do something to that input, and return some \"output\"\n"
   ]
  },
  {
   "cell_type": "markdown",
   "metadata": {},
   "source": [
    "- __Functions__: Functions allow you to enclose a block of code within the \"FUNCTION f:\" box above such that you only write this block of code ONCE and it can be used with ANY input (that you allow, of course) and will generate a NEW output every time \n",
    "- Functions are usful for a few reasons:\n",
    "> 1. __Maintainability:__ Functions allow you to write programs ONCE which only requires ONE place to change, update and modify the code in the future\n",
    "> 2. __Reusability:__ Functions allow you to to write programs ONCE and use them in multiple places so you don't have to write additional, unncessary code \n",
    "> 3. __[Abstraction](https://en.wikipedia.org/wiki/Abstraction_(software_engineering):__ Functions \"abstract\" the complicated parts of their inner workings - you don't have to understand how the function ACTUALLY does its job \"on the inside\" if you want to just use a function. Instead, you only need to know the following: \n",
    ">> a) __Function Name:__ the name of the function<br>\n",
    ">> b) __Function Purpose:__ what the function does<br>\n",
    ">> c) __Function Inputs:__ what arguments the function requires<br>\n",
    ">> d) __Function Outputs:__ what result the function returns<br>\n",
    "<br>\n",
    ">> Do you know how your car engine works? Do you know how your cell phone receives incoming calls? Probably not, but you still use your car and cellphone every day. However, if you want to build a car engine OR new cellphone network, you DO need to know how these work (same with functions)!!!\n",
    "\n",
    "__Helpful Points:__\n",
    "1. Any time you find yourself using the same block of code more than once, you should consider enclosing this code in a function "
   ]
  },
  {
   "cell_type": "markdown",
   "metadata": {},
   "source": [
    "### Functions in Python: "
   ]
  },
  {
   "cell_type": "code",
   "execution_count": null,
   "metadata": {
    "ExecuteTime": {
     "end_time": "2019-10-28T03:11:31.054319Z",
     "start_time": "2019-10-28T03:11:31.052204Z"
    }
   },
   "outputs": [],
   "source": [
    "def function(input):\n",
    "    \"\"\"\n",
    "    this is the docstring\n",
    "    \"\"\"\n",
    "    #code to do something to input\n",
    "    return output\n",
    "\n",
    "#function_output = function(input)"
   ]
  },
  {
   "cell_type": "markdown",
   "metadata": {},
   "source": [
    "__Overview:__\n",
    "\n",
    "- In Python, Functions are defined by a few characteristics (similar to loops and if statements that we have seen above) which can be read about [here](https://docs.python.org/3/tutorial/controlflow.html#defining-functions):\n",
    "> 1. `def`: This keyword introduces a functions definition (it basically defines a function) and is always followed by a) the function name and b) the paranthesized list of inputs \n",
    "> 2. function `<func_name>`: Each function requires a name so users can call upon the function when they require its usage \n",
    "> 3. `:` and 4-space identation: Similar to if statements and loops, Python requires the `:` and 4-space indentation to identify the \"scope\" of the code\n",
    "> 4. Input `<(input)>`: This is the value(s) that is passed into the function in the same way that $x$ is passed into the function $x^2$. It is usually referred to as \"input arguments\" or \"input parameters\". For every set of inputs into the function, there is an appropriate output that is \"manufactured\" in the function (see section 3.4.3 for a closer look on input arguments) \n",
    "> 5. <`return`> statement: This is the value you wish to output from the function and consequently, the value the user will receive when calling the function (see section 3.4.4 for a closer look on outputs and return statements)\n",
    "> 6. `<docstring>`: Since one of the requirements of using a function is to know WHAT the function does, each function needs a way to communicate its purpose to users. This is accomplished by the __[docstring](https://www.python.org/dev/peps/pep-0257/)__ (see [here](https://en.wikipedia.org/wiki/Docstring) for a strict definition) which is a one or multi-line string at the top of the function \n",
    "- The above can be summarized in this nice illustration: <img src=\"img20.png\",width=550,height=550>"
   ]
  },
  {
   "cell_type": "markdown",
   "metadata": {},
   "source": [
    "__Helpful Points:__\n",
    "1. The function has to be initialized (the code has to be run), before you can use the function    \n",
    "2. Python already has [many built-in functions](https://docs.python.org/3/library/functions.html) that we have used extensively up to this point (Do you remember using `bool()`, `complex()`, `dict()`, `enumerate()`, `float()`, `format()`, `help()`, `int()`, `isinstance()`, `len()`, `list()`, `max()`, `min()`, `next()`, `print()`, `set()`, `slice()`, `sorted()`, `str()`, `sum()`, `tuple()`, `type()`, `zip()`, well, __THESE WERE ALL FUNCTIONS!!!__)\n",
    "\n",
    "__Practice:__ Examples of Simple Functions in Python "
   ]
  },
  {
   "cell_type": "markdown",
   "metadata": {},
   "source": [
    "### Part 1 (Built-In Functions):"
   ]
  },
  {
   "cell_type": "markdown",
   "metadata": {},
   "source": [
    "### Example 20.1 ([`len()`](https://docs.python.org/3/library/functions.html#len)):\n",
    "\n",
    "- We have used the `len()` function in the past to calculate the length of sequences. Now we understand:\n",
    "> 1. `len` is the `<name>` of the function\n",
    "> 2. the `<input>` is any sequence\n",
    "> 3. the `<output>` is the length of the sequence"
   ]
  },
  {
   "cell_type": "code",
   "execution_count": null,
   "metadata": {
    "ExecuteTime": {
     "end_time": "2019-10-28T03:12:23.715835Z",
     "start_time": "2019-10-28T03:12:23.712763Z"
    }
   },
   "outputs": [],
   "source": [
    "# view the docstring of the function\n",
    "?len()"
   ]
  },
  {
   "cell_type": "code",
   "execution_count": null,
   "metadata": {
    "ExecuteTime": {
     "end_time": "2019-10-28T03:12:28.375407Z",
     "start_time": "2019-10-28T03:12:28.371635Z"
    }
   },
   "outputs": [],
   "source": [
    "# view the docstring of the function \n",
    "help(len)"
   ]
  },
  {
   "cell_type": "code",
   "execution_count": null,
   "metadata": {
    "ExecuteTime": {
     "end_time": "2019-10-28T03:12:34.810262Z",
     "start_time": "2019-10-28T03:12:34.807424Z"
    },
    "scrolled": false
   },
   "outputs": [],
   "source": [
    "# print the docstring of the function \n",
    "print(len.__doc__)"
   ]
  },
  {
   "cell_type": "code",
   "execution_count": null,
   "metadata": {
    "ExecuteTime": {
     "end_time": "2019-10-28T03:12:41.323780Z",
     "start_time": "2019-10-28T03:12:41.320489Z"
    }
   },
   "outputs": [],
   "source": [
    "my_list = [1,2,3]\n",
    "# execute the function and save its output into a variable \n",
    "output = len(my_list) # my_list is considered the input into the function which is internally operated on in the len() function\n",
    "print(output)"
   ]
  },
  {
   "cell_type": "markdown",
   "metadata": {},
   "source": [
    "### Example 20.2 ([`sum()`](https://docs.python.org/3/library/functions.html#sum)):\n",
    "- We have used the `sum()` function in the past to calculate the sum of an `iterable` object. Now we understand:\n",
    "> 1. `sum` is the `<name>` of the function\n",
    "> 2. the `<input>` is an iterable usually with numbers as elements\n",
    "> 3. the `<output>` is the sum of the `iterable` object "
   ]
  },
  {
   "cell_type": "code",
   "execution_count": null,
   "metadata": {
    "ExecuteTime": {
     "end_time": "2019-10-28T03:12:49.755250Z",
     "start_time": "2019-10-28T03:12:49.752282Z"
    }
   },
   "outputs": [],
   "source": [
    "# view the docstring of the function\n",
    "?sum()"
   ]
  },
  {
   "cell_type": "code",
   "execution_count": null,
   "metadata": {
    "ExecuteTime": {
     "end_time": "2019-10-28T03:12:50.423413Z",
     "start_time": "2019-10-28T03:12:50.420388Z"
    }
   },
   "outputs": [],
   "source": [
    "# view the docstring of the function \n",
    "help(sum)"
   ]
  },
  {
   "cell_type": "code",
   "execution_count": null,
   "metadata": {
    "ExecuteTime": {
     "end_time": "2019-10-28T03:12:52.007498Z",
     "start_time": "2019-10-28T03:12:52.004714Z"
    },
    "scrolled": false
   },
   "outputs": [],
   "source": [
    "# print the docstring of the function \n",
    "print(sum.__doc__) # __doc__ is actually a method (similar to a function) \"inside\" the object, we will cover this below in the Methods section"
   ]
  },
  {
   "cell_type": "code",
   "execution_count": null,
   "metadata": {
    "ExecuteTime": {
     "end_time": "2019-10-28T03:12:53.073310Z",
     "start_time": "2019-10-28T03:12:53.069539Z"
    }
   },
   "outputs": [],
   "source": [
    "my_list = [1,2,3]\n",
    "# execute the function and save its output into a variable \n",
    "output = sum(my_list) # my_list is considered the input into the function which is internally operated on in the sum() function\n",
    "print(output)"
   ]
  },
  {
   "cell_type": "markdown",
   "metadata": {},
   "source": [
    "### Part 2 (New Functions):"
   ]
  },
  {
   "cell_type": "markdown",
   "metadata": {},
   "source": [
    "### Example 21 (Calculate the Length of a Sequence WITHOUT FUNCTION):"
   ]
  },
  {
   "cell_type": "code",
   "execution_count": null,
   "metadata": {
    "ExecuteTime": {
     "end_time": "2019-10-28T03:14:41.704756Z",
     "start_time": "2019-10-28T03:14:41.701990Z"
    }
   },
   "outputs": [],
   "source": [
    "obj_1 = [1,2,3]\n",
    "obj_2 = {1,4,5,6,7}\n",
    "obj_3 = [0,1]"
   ]
  },
  {
   "cell_type": "code",
   "execution_count": null,
   "metadata": {
    "ExecuteTime": {
     "end_time": "2019-10-28T03:14:41.943441Z",
     "start_time": "2019-10-28T03:14:41.940185Z"
    }
   },
   "outputs": [],
   "source": [
    "# calculate the length of object 1 \n",
    "obj1_len_count = 0\n",
    "for element in obj_1:\n",
    "    obj1_len_count += 1\n",
    "\n",
    "print(\"The length of object 1 is {}\".format(obj1_len_count))"
   ]
  },
  {
   "cell_type": "code",
   "execution_count": null,
   "metadata": {
    "ExecuteTime": {
     "end_time": "2019-10-28T03:14:42.150410Z",
     "start_time": "2019-10-28T03:14:42.146026Z"
    }
   },
   "outputs": [],
   "source": [
    "# calculate the length of object 2 \n",
    "obj2_len_count = 0\n",
    "for element in obj_2:\n",
    "    obj2_len_count += 1\n",
    "\n",
    "print(\"The length of object 2 is {}\".format(obj2_len_count))"
   ]
  },
  {
   "cell_type": "code",
   "execution_count": null,
   "metadata": {
    "ExecuteTime": {
     "end_time": "2019-10-28T03:14:52.025338Z",
     "start_time": "2019-10-28T03:14:52.021906Z"
    }
   },
   "outputs": [],
   "source": [
    "# calculate the length of object 3 \n",
    "obj3_len_count = 0\n",
    "for element in obj_3:\n",
    "    obj3_len_count += 1\n",
    "\n",
    "print(\"The length of object 1 is {}\".format(obj3_len_count))"
   ]
  },
  {
   "cell_type": "markdown",
   "metadata": {},
   "source": [
    "### Example 22 (Calculate the Length of a Sequence WITH FUNCTION):"
   ]
  },
  {
   "cell_type": "markdown",
   "metadata": {},
   "source": [
    "How about if we enclose the main computation of calculating the length in a function and then just pass in the sequence and receive the length as the output? This would be MUCH more concise and efficient. "
   ]
  },
  {
   "cell_type": "code",
   "execution_count": null,
   "metadata": {
    "ExecuteTime": {
     "end_time": "2019-10-28T03:15:11.224502Z",
     "start_time": "2019-10-28T03:15:11.221654Z"
    }
   },
   "outputs": [],
   "source": [
    "# define a new function to calculate the length of a sequence \n",
    "def len_gd(s):\n",
    "    \"\"\"\n",
    "    Find the length of an object\n",
    "    \n",
    "    Input Parameters:\n",
    "    s -- the sequence you want to find the length of\n",
    "    \"\"\"\n",
    "    len_count = 0\n",
    "    for element in s:\n",
    "        len_count += 1\n",
    "    \n",
    "    return len_count"
   ]
  },
  {
   "cell_type": "code",
   "execution_count": null,
   "metadata": {
    "ExecuteTime": {
     "end_time": "2019-10-28T03:15:11.409288Z",
     "start_time": "2019-10-28T03:15:11.406575Z"
    },
    "scrolled": false
   },
   "outputs": [],
   "source": [
    "# print the function's docstring\n",
    "print(len_gd.__doc__)"
   ]
  },
  {
   "cell_type": "code",
   "execution_count": null,
   "metadata": {
    "ExecuteTime": {
     "end_time": "2019-10-28T03:15:11.660055Z",
     "start_time": "2019-10-28T03:15:11.656089Z"
    }
   },
   "outputs": [],
   "source": [
    "len_gd"
   ]
  },
  {
   "cell_type": "code",
   "execution_count": null,
   "metadata": {
    "ExecuteTime": {
     "end_time": "2019-10-28T03:15:33.190973Z",
     "start_time": "2019-10-28T03:15:33.187529Z"
    }
   },
   "outputs": [],
   "source": [
    "print(len_gd(obj_1))\n",
    "print(len_gd(obj_2))\n",
    "print(len_gd(obj_3))"
   ]
  },
  {
   "cell_type": "markdown",
   "metadata": {},
   "source": [
    "It should be clear why functions are advantageous now - you can perform the same task many, many times by simply reusing one block of code. "
   ]
  },
  {
   "cell_type": "markdown",
   "metadata": {},
   "source": [
    "### Example 23 (Calculate the Fibonacci Sequence WITH FUNCTION):"
   ]
  },
  {
   "cell_type": "markdown",
   "metadata": {},
   "source": [
    "Imagine we were asked to find the numbers in the __[Fibonacci Sequence](https://en.wikipedia.org/wiki/Fibonacci_number)__ from 0 to n. We can easily write a function to do this and then re-use this function with muliple values of n. "
   ]
  },
  {
   "cell_type": "code",
   "execution_count": null,
   "metadata": {
    "ExecuteTime": {
     "end_time": "2019-10-28T03:15:47.338518Z",
     "start_time": "2019-10-28T03:15:47.331762Z"
    }
   },
   "outputs": [],
   "source": [
    "f100 = fib_func(100)\n",
    "print(f100)"
   ]
  },
  {
   "cell_type": "markdown",
   "metadata": {},
   "source": [
    "We receive an error here since we can't use a function until we define it. "
   ]
  },
  {
   "cell_type": "code",
   "execution_count": null,
   "metadata": {
    "ExecuteTime": {
     "end_time": "2019-10-28T03:15:50.612587Z",
     "start_time": "2019-10-28T03:15:50.608532Z"
    }
   },
   "outputs": [],
   "source": [
    "# function to return the Fibonacci series up to n\n",
    "def fib_func(n):  \n",
    "    \"\"\"\n",
    "    Return a list containing the Fibonacci series from 0 up to n\n",
    "\n",
    "    Input Parameters:\n",
    "    n -- The desired upper limit of the Fibonacci series \n",
    "    \"\"\"\n",
    "    result = []\n",
    "    # initialize seed values\n",
    "    a, b = 0, 1\n",
    "    while a < n:\n",
    "        result.append(a)\n",
    "        # fn = fn-1 + fn-2\n",
    "        a, b = b, a+b\n",
    "        \n",
    "    return result"
   ]
  },
  {
   "cell_type": "code",
   "execution_count": null,
   "metadata": {
    "ExecuteTime": {
     "end_time": "2019-10-28T03:15:51.440640Z",
     "start_time": "2019-10-28T03:15:51.438259Z"
    }
   },
   "outputs": [],
   "source": [
    "seq_1 = 100\n",
    "seq_2 = 40"
   ]
  },
  {
   "cell_type": "code",
   "execution_count": null,
   "metadata": {
    "ExecuteTime": {
     "end_time": "2019-10-28T03:15:51.709177Z",
     "start_time": "2019-10-28T03:15:51.706000Z"
    }
   },
   "outputs": [],
   "source": [
    "fib_seq_1 = fib_func(seq_1)\n",
    "print(fib_seq_1)"
   ]
  },
  {
   "cell_type": "code",
   "execution_count": null,
   "metadata": {
    "ExecuteTime": {
     "end_time": "2019-10-28T03:15:52.157594Z",
     "start_time": "2019-10-28T03:15:52.153283Z"
    }
   },
   "outputs": [],
   "source": [
    "fib_seq_2 = fib_func(seq_2)\n",
    "print(fib_seq_2)"
   ]
  },
  {
   "cell_type": "markdown",
   "metadata": {},
   "source": [
    "### Problem 4\n",
    "\n",
    "Write a Function to return the minimum and maximum of a non-empty list. For example, try finding the minimum and maximum of the list `[1,3,5,10,12,2,0]`. Your function should return both values as a `tuple` in the form of (`min`, `max`) as such (0, 10). \n",
    "\n",
    "- Call the function `minimax` and it should accept one argument - the list (call it `x`)\n",
    "- You will need a `for` loop to traverse the list that is passed in \n",
    "- Hint: Set the `min` and `max` as the first value in the list and iterate starting at position `1` to check if you should reassign your `min` and `max` variables. If you don't need to reset them, just move on to the next iteration. If you do need to reset them, reassign them appropriately\n",
    "- Check that your function works by passing in the list above and ensure it returns `(0, 10)`. Try with some other lists \n",
    "- Assume the list passed in is non-empty to make things easier "
   ]
  },
  {
   "cell_type": "code",
   "execution_count": null,
   "metadata": {
    "ExecuteTime": {
     "end_time": "2019-10-28T03:50:19.397978Z",
     "start_time": "2019-10-28T03:50:19.395648Z"
    }
   },
   "outputs": [],
   "source": [
    "# Write your code here\n"
   ]
  },
  {
   "cell_type": "markdown",
   "metadata": {},
   "source": [
    "###  Scope of Functions:"
   ]
  },
  {
   "cell_type": "markdown",
   "metadata": {},
   "source": [
    "__Overview:__\n",
    "- __[Scope](https://en.wikipedia.org/wiki/Scope_(computer_science):__ Scope in programming refers to the \"region\" where a variable exists and is valid in \n",
    "- In Python, there are 2 main scopes:\n",
    "> 1. __Global Scope:__ The Global Region encompasses any space of a program that is NOT inside a function\n",
    "> 2. __Local Scope:__ The Local Region ecoompasses any space of a program that IS inside a function \n",
    "- Therefore, in Python, there are 2 main variables:\n",
    "> 1. __[Global Variables](https://anh.cs.luc.edu/python/hands-on/3.1/handsonHtml/functions.html#id7):__ All Variables created in __Global Scope__ are considered __Global Variables__\n",
    ">> - Global Variables are defined outside any function definition and at the \"top-level\" of the program \n",
    ">> - Global Variables are visible both INSIDE functions and (of course) OUTSIDE functions\n",
    ">> - You can declare a variable inside a function a Global Variable by typing this command before assigning the variable: `global variable_name` (see Example 3 below) \n",
    ">> - If you need a value for multiple functions (i.e. PI constant), you would declare it at the top of your program as a Global Variable (or more specifically, a Global Constant) (see Example 4 below) \n",
    ">> - Functions are also Global Variables which explains why we can call functions within functions (see Example 4 below)\n",
    "> 2. __[Local Variables](https://anh.cs.luc.edu/python/hands-on/3.1/handsonHtml/functions.html#id6):__ All Variables created in __Local Scope__ are considered __Local Variables__\n",
    ">> - Local Variables are defined inside function definition \n",
    ">> - Local Variables are only visible INSIDE functions and NOT visible OUTSIDE functions\n",
    ">> - Any variable you declare inside a function is a Local Variable, there is no need for explicit designation "
   ]
  },
  {
   "cell_type": "markdown",
   "metadata": {},
   "source": [
    "__Helpful Points:__\n",
    "1. A Local Variable that is defined in Local Scope can be used in that scope only and will refer to whatever value was assigned to it as long as the variable remains in that scope \n",
    "2. If you attempt to call a Local Variable in Global Scope, the variable will not be defined (in other words, it will not still refer to the value that was originally assigned to it in the Local Scope)\n",
    "3. In fact, the same variable name may have different values in Local and Global Scopes (since a brand new object is created in Local Scope) (see Example 2 below)   \n",
    "4. See [here](https://docs.python.org/2/tutorial/classes.html#tut-scopes) for some more information on Python Scopes \n",
    "\n",
    "__Practice:__ Examples of Global and Local Scope in Python "
   ]
  },
  {
   "cell_type": "markdown",
   "metadata": {},
   "source": [
    "### Example 24 (Global Scope and Global Variables):"
   ]
  },
  {
   "cell_type": "code",
   "execution_count": null,
   "metadata": {
    "ExecuteTime": {
     "end_time": "2019-10-28T03:19:37.054516Z",
     "start_time": "2019-10-28T03:19:37.051525Z"
    }
   },
   "outputs": [],
   "source": [
    "my_str = \"Dimitri\" # this is in global scope since we are not within a function, therefore this is a global variable\n",
    "\n",
    "# this begins local scope \n",
    "def name(last):\n",
    "    return my_str + \" \" + last # global variables are visible both inside and outside functions so we can use it here "
   ]
  },
  {
   "cell_type": "code",
   "execution_count": null,
   "metadata": {
    "ExecuteTime": {
     "end_time": "2019-10-28T03:19:37.216724Z",
     "start_time": "2019-10-28T03:19:37.213614Z"
    },
    "scrolled": true
   },
   "outputs": [],
   "source": [
    "my_name = name(\"Theoharatos\")\n",
    "print(my_name)"
   ]
  },
  {
   "cell_type": "markdown",
   "metadata": {},
   "source": [
    "### Example 25 (Local Scope and Local Variables):"
   ]
  },
  {
   "cell_type": "code",
   "execution_count": null,
   "metadata": {
    "ExecuteTime": {
     "end_time": "2019-10-28T03:20:36.925273Z",
     "start_time": "2019-10-28T03:20:36.922175Z"
    }
   },
   "outputs": [],
   "source": [
    "my_str = \"Dimitri\" # this is in global scope since we are not within a function, therefore this is a global variable\n",
    "\n",
    "# this begins local scope \n",
    "def name(last):\n",
    "    my_str = \"Not Dimitri\" # a new object is created as a local variable and this value is not visible in global scope \n",
    "    return my_str + \" \" + last "
   ]
  },
  {
   "cell_type": "code",
   "execution_count": null,
   "metadata": {
    "ExecuteTime": {
     "end_time": "2019-10-28T03:20:44.292931Z",
     "start_time": "2019-10-28T03:20:44.290059Z"
    }
   },
   "outputs": [],
   "source": [
    "my_name = name(\"Theoharatos\")\n",
    "print(my_name)"
   ]
  },
  {
   "cell_type": "code",
   "execution_count": null,
   "metadata": {
    "ExecuteTime": {
     "end_time": "2019-10-28T03:21:06.436125Z",
     "start_time": "2019-10-28T03:21:06.433023Z"
    }
   },
   "outputs": [],
   "source": [
    "print(my_str)"
   ]
  },
  {
   "cell_type": "markdown",
   "metadata": {},
   "source": [
    "### Example 26 (Making Global Variables in Local Scope):"
   ]
  },
  {
   "cell_type": "code",
   "execution_count": null,
   "metadata": {
    "ExecuteTime": {
     "end_time": "2019-10-28T03:21:30.003644Z",
     "start_time": "2019-10-28T03:21:30.000598Z"
    }
   },
   "outputs": [],
   "source": [
    "my_str = \"Dimitri\" # this is in global scope since we are not within a function, therefore this is a global variable\n",
    "\n",
    "# this begins local scope \n",
    "def name(last):\n",
    "    global my_str # we are declaring the my_str object as a global variable \n",
    "    my_str = \"Not Dimitri\" # will not be visible in the global scope \n",
    "    return my_str + \" \" + last  "
   ]
  },
  {
   "cell_type": "code",
   "execution_count": null,
   "metadata": {
    "ExecuteTime": {
     "end_time": "2019-10-28T03:21:34.891394Z",
     "start_time": "2019-10-28T03:21:34.888467Z"
    }
   },
   "outputs": [],
   "source": [
    "my_name = name(\"Theoharatos\")\n",
    "print(my_name)"
   ]
  },
  {
   "cell_type": "code",
   "execution_count": null,
   "metadata": {
    "ExecuteTime": {
     "end_time": "2019-10-28T03:21:55.779949Z",
     "start_time": "2019-10-28T03:21:55.776598Z"
    },
    "scrolled": true
   },
   "outputs": [],
   "source": [
    "print(my_str)"
   ]
  }
 ],
 "metadata": {
  "kernelspec": {
   "display_name": "Python 3",
   "language": "python",
   "name": "python3"
  },
  "language_info": {
   "codemirror_mode": {
    "name": "ipython",
    "version": 3
   },
   "file_extension": ".py",
   "mimetype": "text/x-python",
   "name": "python",
   "nbconvert_exporter": "python",
   "pygments_lexer": "ipython3",
   "version": "3.7.1"
  }
 },
 "nbformat": 4,
 "nbformat_minor": 2
}
