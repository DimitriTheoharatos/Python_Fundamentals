{
 "cells": [
  {
   "cell_type": "markdown",
   "metadata": {},
   "source": [
    "## Data Types and Mutability"
   ]
  },
  {
   "cell_type": "markdown",
   "metadata": {},
   "source": [
    "__Overview:__\n",
    "- In general, the Data Types in Python can be distinguished by one characteristic -  __[Mutability](https://en.wikipedia.org/wiki/Immutable_object):__ which refers to the ability of a user to change the object AFTER the object has been created \n",
    "- Some Data Types in Python are __Mutable__ (their contents CAN be changed after creation of the variable) and other Data Types in Python are __Immutable__ (their contents CAN NOT be changed after creation of the variable)\n",
    "- See below for a classification of Built-In Data Types based on Mutability:\n",
    "> 1. __Mutable Types__: `list`, `set`, `dict`\n",
    "> 2. __Immutable Types__: `int`, `float`, `complex`, `str`, `tuple`, `bool`, and `range`\n"
   ]
  },
  {
   "cell_type": "markdown",
   "metadata": {},
   "source": [
    "## Sequence Types in Python "
   ]
  },
  {
   "cell_type": "markdown",
   "metadata": {},
   "source": [
    "###  What is a Sequence Type?"
   ]
  },
  {
   "cell_type": "markdown",
   "metadata": {},
   "source": [
    "__Overview:__\n",
    "- __[Sequence Type](https://docs.python.org/3/library/stdtypes.html#sequence-types-list-tuple-range):__ The main Sequence Types in Python refer to `list`, `str`, `tuple` and `range`\n",
    "- Sequence Types in Python have the following characteristics:\n",
    "> - Sequence Types are ordered (each element from left to right is assigned a number in increasing order - this allows us to index (find) elements within the sequence)\n",
    "> - Sequence Types do not have to contain only unique elements\n",
    "> - Sequence Types can be mutable or immutable \n"
   ]
  },
  {
   "cell_type": "markdown",
   "metadata": {},
   "source": [
    "### Sequence Type Operations"
   ]
  },
  {
   "cell_type": "markdown",
   "metadata": {},
   "source": [
    "__Overview:__\n",
    "- Depending on if the Sequence Type is mutable or immutable, it is subject to a different set of operations:\n",
    ">1. __Mutable Sequence Types:__ Mutable Sequence Types can be operated on using the __[Common Sequence Operations](https://docs.python.org/3/library/stdtypes.html#common-sequence-operations)__  AND the __[Mutable Sequence Type Operations](https://docs.python.org/3/library/stdtypes.html#mutable-sequence-types)__ \n",
    ">2. __Immutable Sequence Types:__ Immutable Sequence Types can be operated on using ONLY the __Common Sequence Operations__"
   ]
  },
  {
   "cell_type": "markdown",
   "metadata": {},
   "source": [
    "- The __Common Sequence Operations__ can be grouped together in the following categories:\n",
    "> 1. Indexing and Slicing  \n",
    "> 2. Membership Test Operations\n",
    "> 3. Concatenation and Repetition\n",
    "> 4. Miscellaneous Actions such as length, max, min, index, count, and sort"
   ]
  },
  {
   "cell_type": "markdown",
   "metadata": {},
   "source": [
    "- The __Mutable Sequence Type Operations__ can be grouped together in the following categories:\n",
    "> 1. Changing elements\n",
    "> 2. Adding elements\n",
    "> 3. Removing elements\n",
    "> 4. Other operations (reverse, copy)"
   ]
  },
  {
   "cell_type": "markdown",
   "metadata": {},
   "source": [
    "### Overview of Sequence Type 1 - Lists"
   ]
  },
  {
   "cell_type": "markdown",
   "metadata": {},
   "source": [
    "__Overview:__\n",
    "- __[Lists](https://docs.python.org/3/library/stdtypes.html#lists):__ Lists are mutable sequences that are typically used to store collections of __homogenous__ (similar) items.\n",
    "\n",
    "__Helpful Points:__\n",
    "1. Lists are defined by square brackets `[` and `]`\n",
    "2. Each element in a list is separated by a comma"
   ]
  },
  {
   "cell_type": "markdown",
   "metadata": {},
   "source": [
    "### Creating Lists "
   ]
  },
  {
   "cell_type": "markdown",
   "metadata": {},
   "source": [
    "__Overview:__\n",
    "- There are multiple ways to create a List in Python:\n",
    "> 1. Method 1: Using a pair of square brackets to denote the empty list\n",
    "> 2. Method 2: Using square brackets, separating items with commas\n",
    "> 3.  Method 3: Using the __[Type Constructor](https://en.wikipedia.org/wiki/Type_constructor)__ \n"
   ]
  },
  {
   "cell_type": "markdown",
   "metadata": {},
   "source": [
    "### Example 1 (empty list)"
   ]
  },
  {
   "cell_type": "code",
   "execution_count": null,
   "metadata": {},
   "outputs": [],
   "source": [
    "empty_list = []\n",
    "print(empty_list)"
   ]
  },
  {
   "cell_type": "code",
   "execution_count": null,
   "metadata": {},
   "outputs": [],
   "source": [
    "type(empty_list)"
   ]
  },
  {
   "cell_type": "markdown",
   "metadata": {},
   "source": [
    "### Example 2 (non-empty list)"
   ]
  },
  {
   "cell_type": "code",
   "execution_count": null,
   "metadata": {
    "ExecuteTime": {
     "end_time": "2019-10-28T00:12:47.814816Z",
     "start_time": "2019-10-28T00:12:47.781878Z"
    }
   },
   "outputs": [],
   "source": [
    "non_empty_list = [1, 2, 3]\n",
    "print(non_empty_list)"
   ]
  },
  {
   "cell_type": "code",
   "execution_count": null,
   "metadata": {
    "ExecuteTime": {
     "end_time": "2019-10-28T00:12:48.297165Z",
     "start_time": "2019-10-28T00:12:48.274591Z"
    }
   },
   "outputs": [],
   "source": [
    "type(non_empty_list)"
   ]
  },
  {
   "cell_type": "markdown",
   "metadata": {},
   "source": [
    "### Example 3 (Empty list with type constructor)"
   ]
  },
  {
   "cell_type": "code",
   "execution_count": null,
   "metadata": {
    "ExecuteTime": {
     "end_time": "2019-10-28T00:12:59.513561Z",
     "start_time": "2019-10-28T00:12:59.510612Z"
    }
   },
   "outputs": [],
   "source": [
    "empty_list_1 = list()\n",
    "print(empty_list_1)"
   ]
  },
  {
   "cell_type": "code",
   "execution_count": null,
   "metadata": {
    "ExecuteTime": {
     "end_time": "2019-10-28T00:13:00.634570Z",
     "start_time": "2019-10-28T00:13:00.630250Z"
    }
   },
   "outputs": [],
   "source": [
    "type(empty_list_1)"
   ]
  },
  {
   "cell_type": "markdown",
   "metadata": {},
   "source": [
    "### Accessing Elements within Lists"
   ]
  },
  {
   "cell_type": "markdown",
   "metadata": {},
   "source": [
    "__Overview:__\n",
    "- Each item within a list (those separated by commas) are referred to as __elements__ and they can easily be accessed (for example, if you want to extract the second element of a list)\n",
    "- The reason why elements are so accessible is because each element is assigned a number beginning with 0 (since Python is __[Zero-Based](https://en.wikipedia.org/wiki/Zero-based_numbering)__)\n",
    "- The process of accessing elements within lists (or any sequence type and some other types) is known as __indexing__\n",
    "- Indexing is a type of __[Common Sequence Operations](https://docs.python.org/3/library/stdtypes.html#common-sequence-operations)__ \n",
    "> 1. __Index Method 1__ (one element): Single-Indexing is done by `list_name[i]` where `i` refers to the index or element that you want to access<br>\n",
    "> \\- The type of the output of a one element index is whatever type that element is of (`int`, `str`, etc.)\n",
    "> 2. __Index Method 2__ (multiple elements): Multi-Indexing (__slicing__) is done by `list_name[i:j]` where `i` refers to the index or element that you want to start the slice at and `j` refers to the index that you want to end the slice at, but not including this element __([half-open interval to the right](https://en.wikipedia.org/wiki/Interval_(mathematics))__ otherwise written as `[i,j)`<br>\n",
    "> \\- The type of the output of a multiple element index is a `list`<br>\n",
    "> \\- The general form of a slice is `[start:stop:step]`<br>\n",
    "> \\- The `start`, `stop`, or `step` can be ommitted and Python will infer what to do (see examples)<br>\n",
    "> \\- The `step` defaults to 1 if not specified otherwise<br>\n",
    "> \\- The `step` can be positive or negative. If positive, the slicing moves left to right (forward). If negative, the slicing moves from right to left (backward)\n",
    "\n",
    "__Helpful Points:__\n",
    "1. It is possible to index both regular lists and nested lists, but the way you do it in both cases is a bit different so we will explore each scenario separately\n",
    "2. Lists can only be indexed by `int` and not any other type (i.e. `bool`)\n",
    "3. Python has some peculiar yet helpful characteristics with indexing out-of-range which are in the programmer's favor (see examples)\n",
    "\n",
    "__Practice:__ Examples of accessing elements within lists "
   ]
  },
  {
   "cell_type": "markdown",
   "metadata": {},
   "source": [
    "### Example 4 (Index Method 1 with Non-Nested Lists and Positive Index):"
   ]
  },
  {
   "cell_type": "code",
   "execution_count": null,
   "metadata": {
    "ExecuteTime": {
     "end_time": "2019-10-28T00:14:09.780728Z",
     "start_time": "2019-10-28T00:14:09.776998Z"
    }
   },
   "outputs": [],
   "source": [
    "my_list = [4, 5, \"G\", 1]"
   ]
  },
  {
   "cell_type": "code",
   "execution_count": null,
   "metadata": {
    "ExecuteTime": {
     "end_time": "2019-10-28T00:14:36.190019Z",
     "start_time": "2019-10-28T00:14:36.184656Z"
    }
   },
   "outputs": [],
   "source": [
    "# oth element from the left \n",
    "print(my_list[0])\n",
    "type(my_list[0])"
   ]
  },
  {
   "cell_type": "code",
   "execution_count": null,
   "metadata": {
    "ExecuteTime": {
     "end_time": "2019-10-28T00:14:43.373262Z",
     "start_time": "2019-10-28T00:14:43.370400Z"
    }
   },
   "outputs": [],
   "source": [
    "print(my_list[1])"
   ]
  },
  {
   "cell_type": "code",
   "execution_count": null,
   "metadata": {
    "ExecuteTime": {
     "end_time": "2019-10-28T00:14:45.562069Z",
     "start_time": "2019-10-28T00:14:45.559093Z"
    }
   },
   "outputs": [],
   "source": [
    "print(my_list[2])"
   ]
  },
  {
   "cell_type": "markdown",
   "metadata": {},
   "source": [
    "### Example 5 (Index Method 2 with Non-Nested List, Positive Slice and Forward Direction):"
   ]
  },
  {
   "cell_type": "code",
   "execution_count": null,
   "metadata": {
    "ExecuteTime": {
     "end_time": "2019-10-28T00:21:28.126817Z",
     "start_time": "2019-10-28T00:21:28.124422Z"
    }
   },
   "outputs": [],
   "source": [
    "my_list_1 = [1, 4, 2, 5, 5, 1]"
   ]
  },
  {
   "cell_type": "code",
   "execution_count": null,
   "metadata": {
    "ExecuteTime": {
     "end_time": "2019-10-28T00:21:28.757117Z",
     "start_time": "2019-10-28T00:21:28.745540Z"
    }
   },
   "outputs": [],
   "source": [
    "# slice from 1st element to 4th element (5th element minus one) by step 1 \n",
    "print(my_list_1[1:5])\n",
    "type(my_list_1[1:5])"
   ]
  },
  {
   "cell_type": "code",
   "execution_count": null,
   "metadata": {
    "ExecuteTime": {
     "end_time": "2019-10-28T00:21:30.781607Z",
     "start_time": "2019-10-28T00:21:30.776868Z"
    }
   },
   "outputs": [],
   "source": [
    "# slice from 3rd element to 3rd element (4th element minus one) by step 1 \n",
    "print(my_list_1[3:4])\n",
    "type(my_list_1[3:4])"
   ]
  },
  {
   "cell_type": "code",
   "execution_count": null,
   "metadata": {
    "ExecuteTime": {
     "end_time": "2019-10-28T00:21:31.245634Z",
     "start_time": "2019-10-28T00:21:31.234140Z"
    }
   },
   "outputs": [],
   "source": [
    "# slice from 3rd element to 2nd element (3rd element minus one) by step 1\n",
    "print(my_list_1[3:3])\n",
    "type(my_list_1[3:3])"
   ]
  },
  {
   "cell_type": "markdown",
   "metadata": {},
   "source": [
    "In the two cases above, the `step` argument of the slice was ommitted, therefore the slices were incremented by `1` as the default setting. We can override the default by inputting a number in the `step` argument. "
   ]
  },
  {
   "cell_type": "code",
   "execution_count": null,
   "metadata": {
    "ExecuteTime": {
     "end_time": "2019-10-28T00:21:38.146306Z",
     "start_time": "2019-10-28T00:21:38.143384Z"
    }
   },
   "outputs": [],
   "source": [
    "# slice from 1st element to 4th element (5th element minus one) by step 2 \n",
    "print(my_list_1[1:5:2])"
   ]
  },
  {
   "cell_type": "markdown",
   "metadata": {},
   "source": [
    "### Example 6 (Index Method 2 with Non-Nested List, Positive Slice, Forward Direction and Ommitted Argument(s) ):"
   ]
  },
  {
   "cell_type": "code",
   "execution_count": null,
   "metadata": {
    "ExecuteTime": {
     "end_time": "2019-10-28T00:21:47.445176Z",
     "start_time": "2019-10-28T00:21:47.442664Z"
    }
   },
   "outputs": [],
   "source": [
    "my_list_1 = [1, 4, 2, 5, 5, 1]"
   ]
  },
  {
   "cell_type": "code",
   "execution_count": null,
   "metadata": {
    "ExecuteTime": {
     "end_time": "2019-10-28T00:21:47.844947Z",
     "start_time": "2019-10-28T00:21:47.842005Z"
    }
   },
   "outputs": [],
   "source": [
    "# ommitting stop and step arguments\n",
    "# return 1st element to last element \n",
    "print(my_list_1[1:])"
   ]
  },
  {
   "cell_type": "markdown",
   "metadata": {},
   "source": [
    "If the stop argument is ommitted, all the remaining elements will be returned from the start element "
   ]
  },
  {
   "cell_type": "code",
   "execution_count": null,
   "metadata": {
    "ExecuteTime": {
     "end_time": "2019-10-28T00:22:06.464911Z",
     "start_time": "2019-10-28T00:22:06.462053Z"
    }
   },
   "outputs": [],
   "source": [
    "# ommitting start and step arguments\n",
    "# return 0th element to 2nd element (3rd element minus one)\n",
    "print(my_list_1[:3])"
   ]
  },
  {
   "cell_type": "markdown",
   "metadata": {},
   "source": [
    "If the start argument is ommitted, the slice begins at the 0th element and returns all elements to the stop element minus one"
   ]
  },
  {
   "cell_type": "code",
   "execution_count": null,
   "metadata": {
    "ExecuteTime": {
     "end_time": "2019-10-28T00:22:07.238127Z",
     "start_time": "2019-10-28T00:22:07.235218Z"
    }
   },
   "outputs": [],
   "source": [
    "# ommitting start and stop arguments\n",
    "# return all elements at step 2\n",
    "print(my_list_1[::2])"
   ]
  },
  {
   "cell_type": "markdown",
   "metadata": {},
   "source": [
    "If the start and stop arguments are ommitted, the slice will return all elements based on the step argument"
   ]
  },
  {
   "cell_type": "markdown",
   "metadata": {},
   "source": [
    "### Example 7 (Index Method 1 with Non-Nested List and Negative Index):"
   ]
  },
  {
   "cell_type": "code",
   "execution_count": null,
   "metadata": {
    "ExecuteTime": {
     "end_time": "2019-10-28T00:22:14.831681Z",
     "start_time": "2019-10-28T00:22:14.828910Z"
    }
   },
   "outputs": [],
   "source": [
    "my_list = [4, 5, \"G\", 1]"
   ]
  },
  {
   "cell_type": "code",
   "execution_count": null,
   "metadata": {
    "ExecuteTime": {
     "end_time": "2019-10-28T00:22:22.918190Z",
     "start_time": "2019-10-28T00:22:22.913660Z"
    },
    "scrolled": true
   },
   "outputs": [],
   "source": [
    "# 1st element from the right\n",
    "print(my_list[-1])\n",
    "type(my_list[-1])"
   ]
  },
  {
   "cell_type": "code",
   "execution_count": null,
   "metadata": {
    "ExecuteTime": {
     "end_time": "2019-10-28T00:22:36.134246Z",
     "start_time": "2019-10-28T00:22:36.131195Z"
    }
   },
   "outputs": [],
   "source": [
    "# same as above \n",
    "print(my_list[3])"
   ]
  },
  {
   "cell_type": "code",
   "execution_count": null,
   "metadata": {
    "ExecuteTime": {
     "end_time": "2019-10-28T00:22:41.734240Z",
     "start_time": "2019-10-28T00:22:41.729822Z"
    },
    "scrolled": true
   },
   "outputs": [],
   "source": [
    "# 2nd element from the right (with and without saving list as a variable)\n",
    "print(my_list[-2])\n",
    "type(my_list[-2])"
   ]
  },
  {
   "cell_type": "code",
   "execution_count": null,
   "metadata": {
    "ExecuteTime": {
     "end_time": "2019-10-28T00:22:42.236509Z",
     "start_time": "2019-10-28T00:22:42.233455Z"
    }
   },
   "outputs": [],
   "source": [
    "# same as above \n",
    "print(my_list[2])"
   ]
  },
  {
   "cell_type": "markdown",
   "metadata": {},
   "source": [
    "### Example 8 (Index Method 2 with Non-Nested List, Negative Slice and Backward Direction):"
   ]
  },
  {
   "cell_type": "code",
   "execution_count": null,
   "metadata": {
    "ExecuteTime": {
     "end_time": "2019-10-28T00:33:49.157747Z",
     "start_time": "2019-10-28T00:33:49.155213Z"
    }
   },
   "outputs": [],
   "source": [
    "my_list_1 = [1, 4, 2, 5, 5, 1]"
   ]
  },
  {
   "cell_type": "code",
   "execution_count": null,
   "metadata": {
    "ExecuteTime": {
     "end_time": "2019-10-28T00:33:49.424685Z",
     "start_time": "2019-10-28T00:33:49.421849Z"
    }
   },
   "outputs": [],
   "source": [
    "# slice from 4th element to 2nd element (1st element plus one) by step -1 \n",
    "print(my_list_1[4:1:-1])\n"
   ]
  },
  {
   "cell_type": "markdown",
   "metadata": {},
   "source": [
    "Notice that when the `step` argument is a negative number, Python allows the `start` argument to be larger than the `stop` argument since it understands that we are moving backwards (or from right to left) through the list. Not only does Python allow this behavior, it actually requires it. In the event the `step` argument is negative, the `start` argument must be greater than the `stop` argument or Python will return an empty list. \n",
    "\n",
    "We can re-write the above example, but ommitting the step argument (so it defaults to 1) and using start and stop arguments as their negative index numbers and compare the results. "
   ]
  },
  {
   "cell_type": "code",
   "execution_count": null,
   "metadata": {
    "ExecuteTime": {
     "end_time": "2019-10-28T00:33:55.725326Z",
     "start_time": "2019-10-28T00:33:55.722190Z"
    }
   },
   "outputs": [],
   "source": [
    "# slice from 4th element to the right to the 2nd element to the right (1st element to the right plus one) by step 1\n",
    "print(my_list_1[-4:-1])\n"
   ]
  },
  {
   "cell_type": "markdown",
   "metadata": {},
   "source": [
    "Compare the order of this list to the one above. This list here is printed forward despite having negative slicing index and the list above is printed backward despite having positive slicing index. The reason for this \"tricky\" behavior lies in the sign of the `step` argument. A positive `step` argument will ALWAYS print your list in the forward direction, whereas a negative `step` argument will ALWAYS print your list in the backward direction. Don't get confused by the sign of the indices - these do NOT dictate the sign in which the list is printed, but only dictate which side of the list you begin counting at (i.e. left or right side). "
   ]
  },
  {
   "cell_type": "code",
   "execution_count": null,
   "metadata": {},
   "outputs": [],
   "source": [
    "# slice from 4th element to 4th element (3rd element plus one) by step -1 \n",
    "print(my_list_1[4:3:-1])\n",
    "type(my_list_1[4:3:-1])"
   ]
  },
  {
   "cell_type": "markdown",
   "metadata": {},
   "source": [
    "We can also change the decrement interval by changing the value in the `step` argument. "
   ]
  },
  {
   "cell_type": "code",
   "execution_count": null,
   "metadata": {},
   "outputs": [],
   "source": [
    "# slice from 5th element to 3rd element (2nd element plus one) by step -2 \n",
    "print(my_list_1[5:2:-2])"
   ]
  },
  {
   "cell_type": "markdown",
   "metadata": {},
   "source": [
    "### Problem 1:\n",
    "\n",
    "Create a list and enter in the items `1`, `2`, `3`, `4`, `5`, `6` then reverse this list.\n",
    "\n",
    "- Use list slicing in your answer \n",
    "- Do not use any embedded functions in Python to reverse the list "
   ]
  },
  {
   "cell_type": "code",
   "execution_count": null,
   "metadata": {
    "ExecuteTime": {
     "end_time": "2019-10-28T03:41:09.276538Z",
     "start_time": "2019-10-28T03:41:09.274279Z"
    }
   },
   "outputs": [],
   "source": [
    "#your code here"
   ]
  },
  {
   "cell_type": "markdown",
   "metadata": {},
   "source": [
    "### Problem 2:\n",
    "\n",
    "Using the same list,  use slicing to pull out the subset `[2,4]` ... Print your result.\n",
    "\n",
    "- Use list slicing in your answer "
   ]
  },
  {
   "cell_type": "code",
   "execution_count": null,
   "metadata": {
    "ExecuteTime": {
     "end_time": "2019-10-28T03:41:46.702687Z",
     "start_time": "2019-10-28T03:41:46.700388Z"
    }
   },
   "outputs": [],
   "source": [
    "# Write your code here\n"
   ]
  },
  {
   "cell_type": "markdown",
   "metadata": {},
   "source": [
    "### More List Operations"
   ]
  },
  {
   "cell_type": "markdown",
   "metadata": {},
   "source": [
    "__Overview:__\n",
    "\n",
    "- Since the `list` type is mutable, we can perform both the Common Sequence Operations AND the Mutable Sequence Type Operations \n"
   ]
  },
  {
   "cell_type": "markdown",
   "metadata": {},
   "source": [
    "### Common Sequence Type Operations "
   ]
  },
  {
   "cell_type": "markdown",
   "metadata": {},
   "source": [
    "### Example (Membership Test Operations - `in` for lists):"
   ]
  },
  {
   "cell_type": "code",
   "execution_count": null,
   "metadata": {
    "ExecuteTime": {
     "end_time": "2019-10-25T00:39:16.102829Z",
     "start_time": "2019-10-25T00:39:16.099558Z"
    }
   },
   "outputs": [],
   "source": [
    "my_list = [1,2,3,4]"
   ]
  },
  {
   "cell_type": "code",
   "execution_count": null,
   "metadata": {
    "ExecuteTime": {
     "end_time": "2019-10-25T00:39:16.771086Z",
     "start_time": "2019-10-25T00:39:16.766899Z"
    }
   },
   "outputs": [],
   "source": [
    "1 in my_list"
   ]
  },
  {
   "cell_type": "code",
   "execution_count": null,
   "metadata": {
    "ExecuteTime": {
     "end_time": "2019-10-25T00:39:18.513124Z",
     "start_time": "2019-10-25T00:39:18.508940Z"
    }
   },
   "outputs": [],
   "source": [
    "\"a\" in my_list"
   ]
  },
  {
   "cell_type": "code",
   "execution_count": null,
   "metadata": {
    "ExecuteTime": {
     "end_time": "2019-10-25T00:39:20.115032Z",
     "start_time": "2019-10-25T00:39:20.104883Z"
    }
   },
   "outputs": [],
   "source": [
    "\"a\" not in my_list # is the \"a\" not a member of my list "
   ]
  },
  {
   "cell_type": "markdown",
   "metadata": {},
   "source": [
    "### Example 9 (Concatenation of Lists):"
   ]
  },
  {
   "cell_type": "markdown",
   "metadata": {},
   "source": [
    "- Note that when using the `+` sign in Python with Sequence Types, it does not refer to vectorized addition\n",
    "- In other words, `list_1` + `list_2` is NOT equal to a new list which is the addition of each term of list_1 and list_2\n",
    "- Instead, the $+$ sign __[concatenates](https://en.wikipedia.org/wiki/Concatenation)__ list_2 to list_1 to make a new list that includes both lists \n"
   ]
  },
  {
   "cell_type": "code",
   "execution_count": null,
   "metadata": {
    "ExecuteTime": {
     "end_time": "2019-10-25T00:39:36.175539Z",
     "start_time": "2019-10-25T00:39:36.171865Z"
    }
   },
   "outputs": [],
   "source": [
    "list_1 = [1,2,3] # 3 elements \n",
    "list_2 = [4,5,6] # 3 elements \n",
    "list_3 = list_1 + list_2 # 6 elements\n",
    "print(list_3)"
   ]
  },
  {
   "cell_type": "markdown",
   "metadata": {},
   "source": [
    "### Example 10 (Simple Actions - `len`, `min`, `max`, `index`, `count`)"
   ]
  },
  {
   "cell_type": "code",
   "execution_count": null,
   "metadata": {
    "ExecuteTime": {
     "end_time": "2019-10-25T00:41:22.924247Z",
     "start_time": "2019-10-25T00:41:22.921347Z"
    }
   },
   "outputs": [],
   "source": [
    "my_list = [4,1,2,3,5,6,2]"
   ]
  },
  {
   "cell_type": "code",
   "execution_count": null,
   "metadata": {
    "ExecuteTime": {
     "end_time": "2019-10-25T00:41:23.246291Z",
     "start_time": "2019-10-25T00:41:23.242912Z"
    }
   },
   "outputs": [],
   "source": [
    "# find the length of the list (number of elements in the list)\n",
    "len(my_list)"
   ]
  },
  {
   "cell_type": "code",
   "execution_count": null,
   "metadata": {
    "ExecuteTime": {
     "end_time": "2019-10-25T00:41:24.016541Z",
     "start_time": "2019-10-25T00:41:24.012847Z"
    }
   },
   "outputs": [],
   "source": [
    "# find the minimum value of the list (smallest element in the list)\n",
    "min(my_list)"
   ]
  },
  {
   "cell_type": "code",
   "execution_count": null,
   "metadata": {
    "ExecuteTime": {
     "end_time": "2019-10-25T00:41:24.257569Z",
     "start_time": "2019-10-25T00:41:24.253221Z"
    }
   },
   "outputs": [],
   "source": [
    "# find the maximum value of the list (largest element in the list)\n",
    "max(my_list)"
   ]
  },
  {
   "cell_type": "code",
   "execution_count": null,
   "metadata": {
    "ExecuteTime": {
     "end_time": "2019-10-25T00:41:24.506206Z",
     "start_time": "2019-10-25T00:41:24.500641Z"
    }
   },
   "outputs": [],
   "source": [
    "# find the index of the first occurrence of 4 in my_list\n",
    "my_list.index(2)"
   ]
  },
  {
   "cell_type": "code",
   "execution_count": null,
   "metadata": {
    "ExecuteTime": {
     "end_time": "2019-10-25T00:41:24.641695Z",
     "start_time": "2019-10-25T00:41:24.638866Z"
    }
   },
   "outputs": [],
   "source": [
    "# find the total number of occurrences of 36.3 in my_list\n",
    "print(my_list.count(2))"
   ]
  },
  {
   "cell_type": "markdown",
   "metadata": {},
   "source": [
    "### Example 11 (Advanced Actions - `sort`)"
   ]
  },
  {
   "cell_type": "markdown",
   "metadata": {},
   "source": [
    "__Overview:__\n",
    "- Since lists are mutable, sorting lists in Python can be done 2 different ways:\n",
    "> 1. __Method 1:__ Using the `sorted()` function. This method does NOT modify the original list, but just returns a copy of the original list. \n",
    "> 2. __Method 2:__ Using the `list.sort()` method. This method DOES modify the original list and returns the original list sorted. \n",
    "\n",
    "__Helpful Points:__\n",
    "1. Whether a function modified the original object or simply returns a copy of the object, but doesn't change the original object deals with a concept called the __[In-Place Algorithm](https://en.wikipedia.org/wiki/In-place_algorithm).__\n",
    "2. __In-Place:__ In-place means that the original object is modified (`list.sort()` method)\n",
    "3. __Not In-Place:__ Not In-place means that the original object is NOT modified (`sorted()` function)\n",
    "4. To determine if you want an in-place or \"not\" in-place method, ask yourself if you need the original list. If you don't need the original list, you will want to use `list.sort()`, if you do need the original list, you will want to use `sorted()`\n",
    "5. See [here](https://docs.python.org/3/howto/sorting.html) for more information on sorting in Python \n",
    "\n",
    "__Practice:__ Examples of sorting in Python "
   ]
  },
  {
   "cell_type": "code",
   "execution_count": null,
   "metadata": {
    "ExecuteTime": {
     "end_time": "2019-10-25T00:41:26.386489Z",
     "start_time": "2019-10-25T00:41:26.382592Z"
    }
   },
   "outputs": [],
   "source": [
    "# sort the list using method 1 (retaining the original variable, simply create a copy )\n",
    "print(sorted(my_list))\n",
    "print(my_list)"
   ]
  },
  {
   "cell_type": "markdown",
   "metadata": {},
   "source": [
    "We can see that the `sorted()` function simply returned a copy of the original list, but when we print the original list, it has not changed. This is an example of not in-place. "
   ]
  },
  {
   "cell_type": "code",
   "execution_count": null,
   "metadata": {
    "ExecuteTime": {
     "end_time": "2019-10-25T00:41:30.863388Z",
     "start_time": "2019-10-25T00:41:30.860185Z"
    }
   },
   "outputs": [],
   "source": [
    "# sort the list using method 2 (overwriting the original variable)\n",
    "print(my_list.sort())\n",
    "print(my_list)"
   ]
  },
  {
   "cell_type": "markdown",
   "metadata": {},
   "source": [
    "We can see that the `list.sort()` method first returns `None` to avoid confusion since no copy was made and then when we print the original list, we see it has changed. This is an example of in-place. "
   ]
  },
  {
   "cell_type": "markdown",
   "metadata": {},
   "source": [
    "### Mutable Sequence Type Operations"
   ]
  },
  {
   "cell_type": "markdown",
   "metadata": {},
   "source": [
    "### Example 12 (Changing Elements of Lists with Indexing):"
   ]
  },
  {
   "cell_type": "code",
   "execution_count": null,
   "metadata": {
    "ExecuteTime": {
     "end_time": "2019-10-25T00:43:29.442106Z",
     "start_time": "2019-10-25T00:43:29.439731Z"
    }
   },
   "outputs": [],
   "source": [
    "my_list = [1,2,3,6]"
   ]
  },
  {
   "cell_type": "code",
   "execution_count": null,
   "metadata": {
    "ExecuteTime": {
     "end_time": "2019-10-25T00:43:42.833404Z",
     "start_time": "2019-10-25T00:43:42.830620Z"
    }
   },
   "outputs": [],
   "source": [
    "\n",
    "my_list[3] = 4 # the element at index 1 is assigned a value of \"Change\"\n",
    "print(my_list)"
   ]
  },
  {
   "cell_type": "markdown",
   "metadata": {},
   "source": [
    "### Example 13 (Changing Elements of Lists with Slices):"
   ]
  },
  {
   "cell_type": "code",
   "execution_count": null,
   "metadata": {
    "ExecuteTime": {
     "end_time": "2019-10-28T00:35:41.044355Z",
     "start_time": "2019-10-28T00:35:41.040540Z"
    }
   },
   "outputs": [],
   "source": [
    "# change element by slice with step 1 \n",
    "my_list = [1,2,3,4]\n",
    "my_list[2:4]  = [5,6] # my_list[2:4] grab element 2, 3 [2,4)\n",
    "print(my_list)"
   ]
  },
  {
   "cell_type": "markdown",
   "metadata": {},
   "source": [
    "### Example 14 (Adding Elements to the End of Lists):"
   ]
  },
  {
   "cell_type": "markdown",
   "metadata": {},
   "source": [
    "There are 2 main methods of adding elements to the end of lists."
   ]
  },
  {
   "cell_type": "markdown",
   "metadata": {},
   "source": [
    "### Method 1: `append`"
   ]
  },
  {
   "cell_type": "code",
   "execution_count": null,
   "metadata": {
    "ExecuteTime": {
     "end_time": "2019-10-28T00:35:59.292123Z",
     "start_time": "2019-10-28T00:35:59.289360Z"
    }
   },
   "outputs": [],
   "source": [
    "my_list = [1,2,3,4]"
   ]
  },
  {
   "cell_type": "code",
   "execution_count": null,
   "metadata": {
    "ExecuteTime": {
     "end_time": "2019-10-28T00:35:59.520506Z",
     "start_time": "2019-10-28T00:35:59.516882Z"
    }
   },
   "outputs": [],
   "source": [
    "# add element with Python built-in method append\n",
    "my_list.append(5) # append \"New\" to the end of the list (in-place)\n",
    "print(my_list)"
   ]
  },
  {
   "cell_type": "markdown",
   "metadata": {},
   "source": [
    "### Method 2: `extend`"
   ]
  },
  {
   "cell_type": "code",
   "execution_count": null,
   "metadata": {
    "ExecuteTime": {
     "end_time": "2019-10-28T00:36:00.471884Z",
     "start_time": "2019-10-28T00:36:00.469186Z"
    }
   },
   "outputs": [],
   "source": [
    "my_list = [1, 2,3,4]"
   ]
  },
  {
   "cell_type": "code",
   "execution_count": null,
   "metadata": {
    "ExecuteTime": {
     "end_time": "2019-10-28T00:36:00.676107Z",
     "start_time": "2019-10-28T00:36:00.672068Z"
    }
   },
   "outputs": [],
   "source": [
    "# add element with Python built-in method extend  # requires the input as a sequence type \n",
    "my_list.extend([5,6,7]) # extend the list by adding \"New\" (in-place) \n",
    "print(my_list)"
   ]
  },
  {
   "cell_type": "markdown",
   "metadata": {},
   "source": [
    "Notice that for `extend` we pass in a `list` object, whereas for `append` we passed in a single value. "
   ]
  },
  {
   "cell_type": "markdown",
   "metadata": {},
   "source": [
    "### Difference between  `extend` and `append`"
   ]
  },
  {
   "cell_type": "code",
   "execution_count": null,
   "metadata": {
    "ExecuteTime": {
     "end_time": "2019-10-28T00:36:05.108407Z",
     "start_time": "2019-10-28T00:36:05.104644Z"
    }
   },
   "outputs": [],
   "source": [
    "my_list = [1,2,3]\n",
    "my_list_1 = [4,5,6]\n",
    "my_list.append(my_list_1)\n",
    "print(my_list)\n",
    "print(len(my_list))"
   ]
  },
  {
   "cell_type": "code",
   "execution_count": null,
   "metadata": {
    "ExecuteTime": {
     "end_time": "2019-10-28T00:36:05.678951Z",
     "start_time": "2019-10-28T00:36:05.674196Z"
    }
   },
   "outputs": [],
   "source": [
    "my_list[3]"
   ]
  },
  {
   "cell_type": "code",
   "execution_count": null,
   "metadata": {
    "ExecuteTime": {
     "end_time": "2019-10-28T00:36:06.106898Z",
     "start_time": "2019-10-28T00:36:06.102727Z"
    }
   },
   "outputs": [],
   "source": [
    "my_list = [1,2,3]\n",
    "my_list.extend(my_list_1)\n",
    "print(my_list)\n",
    "print(len(my_list))"
   ]
  },
  {
   "cell_type": "markdown",
   "metadata": {},
   "source": [
    "We can see that the `append` method adds the new element as a nested list, whereas the `extend` method adds the new element as individual elements (i.e. as a sequence). Think about what use case may be suitable for each method. "
   ]
  },
  {
   "cell_type": "markdown",
   "metadata": {},
   "source": [
    "### Example 15 (Adding Elements to the Middle of Lists):"
   ]
  },
  {
   "cell_type": "code",
   "execution_count": null,
   "metadata": {
    "ExecuteTime": {
     "end_time": "2019-10-28T00:36:08.978210Z",
     "start_time": "2019-10-28T00:36:08.974169Z"
    }
   },
   "outputs": [],
   "source": [
    "# add element in the middle of the list with Python built-in method insert\n",
    "my_list = [1, 2 ,4 ,5]\n",
    "my_list.insert(2, 3) # add \"New\" in the 2nd position (in-place)\n",
    "print(my_list)"
   ]
  },
  {
   "cell_type": "markdown",
   "metadata": {},
   "source": [
    "### Example 16 (Removing Elements from Lists):"
   ]
  },
  {
   "cell_type": "code",
   "execution_count": null,
   "metadata": {
    "ExecuteTime": {
     "end_time": "2019-10-28T00:36:09.706924Z",
     "start_time": "2019-10-28T00:36:09.703267Z"
    }
   },
   "outputs": [],
   "source": [
    "# remove element with Python built-in method pop\n",
    "my_list = [1,2,3,4,5]\n",
    "my_list.pop(1) # retrieves the item at element 3 and also removes it (in-place)\n",
    "print(my_list)"
   ]
  },
  {
   "cell_type": "markdown",
   "metadata": {},
   "source": [
    "### Problem 3:\n",
    "\n",
    "Create 2 lists: the first list with your first name and the second list with your last name. Combine the two lists to make a list that contains your entire name. "
   ]
  },
  {
   "cell_type": "code",
   "execution_count": null,
   "metadata": {
    "ExecuteTime": {
     "end_time": "2019-10-28T03:42:20.710911Z",
     "start_time": "2019-10-28T03:42:20.708130Z"
    }
   },
   "outputs": [],
   "source": [
    "# write your code here \n"
   ]
  },
  {
   "cell_type": "markdown",
   "metadata": {},
   "source": [
    "### Problem 4:\n",
    "\n",
    "Create 2 lists: the first list with your first name and the second list with your last name. Combine the two lists to make a list that contains your entire name. Add your middle name to this combined list between your first and last name. If you don't have a middle name add `[\"m\", \"i\", \"d\", \"d\", \"l\", \"e\"]`."
   ]
  },
  {
   "cell_type": "code",
   "execution_count": null,
   "metadata": {
    "ExecuteTime": {
     "end_time": "2019-10-28T03:42:45.261050Z",
     "start_time": "2019-10-28T03:42:45.258774Z"
    }
   },
   "outputs": [],
   "source": [
    "# write your code here \n"
   ]
  },
  {
   "cell_type": "markdown",
   "metadata": {},
   "source": [
    "### Example 17 (Copying Lists):"
   ]
  },
  {
   "cell_type": "markdown",
   "metadata": {},
   "source": [
    "__Overview:__\n",
    "- To understand how lists are copied and what happens when a list is copied, we first have to explore the differences between a __view__, __shallow copy__, and __deep copy__\n",
    "- More information on __[Object Copying](https://en.wikipedia.org/wiki/Object_copying)__ \n",
    "\n"
   ]
  },
  {
   "cell_type": "code",
   "execution_count": null,
   "metadata": {},
   "outputs": [],
   "source": [
    "a = 5\n",
    "b = a"
   ]
  },
  {
   "cell_type": "code",
   "execution_count": null,
   "metadata": {},
   "outputs": [],
   "source": [
    "b = 5"
   ]
  },
  {
   "cell_type": "markdown",
   "metadata": {},
   "source": [
    "### Example 18 (View):"
   ]
  },
  {
   "cell_type": "markdown",
   "metadata": {},
   "source": [
    "Any time you assign a variable to another variable using the `=` sign (__[Name Binding](https://en.wikipedia.org/wiki/Name_binding)__), we are not creating a separate object. Instead, the new variable is just an alias or reference to the original object."
   ]
  },
  {
   "cell_type": "code",
   "execution_count": null,
   "metadata": {
    "ExecuteTime": {
     "end_time": "2019-10-28T00:45:35.086224Z",
     "start_time": "2019-10-28T00:45:35.082405Z"
    }
   },
   "outputs": [],
   "source": [
    "my_list = [\"a\", \"b\", \"c\"]\n",
    "my_list_1 = my_list # created as a reference/alias to my_list\n",
    "my_list[0] = \"New\" # changes both my_list and anything that references it \n",
    "my_list_1[0] = \"New\"\n",
    "print(my_list)\n",
    "print(my_list_1)"
   ]
  },
  {
   "cell_type": "code",
   "execution_count": null,
   "metadata": {
    "ExecuteTime": {
     "end_time": "2019-10-28T00:45:37.261305Z",
     "start_time": "2019-10-28T00:45:37.258050Z"
    }
   },
   "outputs": [],
   "source": [
    "print(id(my_list))\n",
    "print(id(my_list_1))"
   ]
  },
  {
   "cell_type": "markdown",
   "metadata": {},
   "source": [
    "Therefore, we can see that when the variable `my_list_1` was created, it was not created as a separate, stand-alone object. Instead, it is simply an alias or reference to the `my_list` variable and you can see that the two variables share the same unique integer identity. The consequence is that if `my_list` changes, `my_list_1` ALSO changes since it references `my_list` (whatever happens to `my_list` ALSO happens to `my_list_1`)."
   ]
  },
  {
   "cell_type": "markdown",
   "metadata": {},
   "source": [
    "### Example 19 (Shallow Copy - Layer 1):"
   ]
  },
  {
   "cell_type": "markdown",
   "metadata": {},
   "source": [
    "If you don't want the behavior above where the new variable simply references the original variable and both are subject to each other's changes, then use a shallow copy to protect against this. \n",
    "\n",
    "Layer 1 refers to non-nested lists (or in general, __non-compound objects__ - objects that do contain other objects)"
   ]
  },
  {
   "cell_type": "markdown",
   "metadata": {},
   "source": [
    "### Method 1: Shallow Copy using `copy()` function (layer 1)"
   ]
  },
  {
   "cell_type": "code",
   "execution_count": null,
   "metadata": {},
   "outputs": [],
   "source": [
    "my_list = [\"a\", \"b\", \"c\"]\n",
    "my_list_1 = my_list.copy() # shallow copy (method 1)\n",
    "my_list[0] = \"New\" # only changes my_list and NOT my_list_1\n",
    "print(my_list)\n",
    "print(my_list_1)"
   ]
  },
  {
   "cell_type": "code",
   "execution_count": null,
   "metadata": {
    "scrolled": true
   },
   "outputs": [],
   "source": [
    "print(id(my_list))\n",
    "print(id(my_list_1))"
   ]
  },
  {
   "cell_type": "markdown",
   "metadata": {},
   "source": [
    "Each variable now has a different identity (each reference a unique object)"
   ]
  },
  {
   "cell_type": "markdown",
   "metadata": {},
   "source": [
    "### Method 2: Shallow Copy using slicing `[:]` (layer 1)"
   ]
  },
  {
   "cell_type": "code",
   "execution_count": null,
   "metadata": {},
   "outputs": [],
   "source": [
    "my_list = [\"a\", \"b\", \"c\"]\n",
    "my_list_1 = my_list[:] # shallow copy (method 2)\n",
    "my_list[0] = \"New\" # only changes my_list and NOT my_list_1\n",
    "print(my_list)\n",
    "print(my_list_1)"
   ]
  },
  {
   "cell_type": "code",
   "execution_count": null,
   "metadata": {
    "scrolled": true
   },
   "outputs": [],
   "source": [
    "print(id(my_list))\n",
    "print(id(my_list_1))"
   ]
  },
  {
   "cell_type": "markdown",
   "metadata": {},
   "source": [
    "Therefore, we can see that in both cases when the variable `my_list_1` was created, it was created as a separate, stand-alone object. It no longer references the `my_list` variable. The consequence is that if `my_list` changes, `my_list_1` DOES NOT changes since it DOES NOT reference `my_list` (whatever happens to `my_list` DOES NOT happen to `my_list_1`)."
   ]
  },
  {
   "cell_type": "markdown",
   "metadata": {},
   "source": [
    "### Example 20 (Shallow Copy - Layer 2):"
   ]
  },
  {
   "cell_type": "markdown",
   "metadata": {},
   "source": [
    "Layer 2 refers to nested lists (or in general, __compound objects__ - objects that contain other objects)"
   ]
  },
  {
   "cell_type": "markdown",
   "metadata": {},
   "source": [
    "### Method 1: Shallow Copy using `copy()` function (layer 2)"
   ]
  },
  {
   "cell_type": "code",
   "execution_count": null,
   "metadata": {},
   "outputs": [],
   "source": [
    "my_list = [\"a\", \"b\", \"c\"]\n",
    "nested_list = [my_list, 1, 2, 3]\n",
    "print(nested_list)"
   ]
  },
  {
   "cell_type": "code",
   "execution_count": null,
   "metadata": {
    "scrolled": true
   },
   "outputs": [],
   "source": [
    "nested_list_1 = nested_list.copy() # shallow copy (method 1)\n",
    "nested_list[0][0] = \"New\" # changes both nested_list AND nested_list_1 \n",
    "print(nested_list)\n",
    "print(nested_list_1)"
   ]
  },
  {
   "cell_type": "markdown",
   "metadata": {},
   "source": [
    "### Method 2: Shallow Copy using slicing `[:]` (layer 2)"
   ]
  },
  {
   "cell_type": "code",
   "execution_count": null,
   "metadata": {},
   "outputs": [],
   "source": [
    "my_list = [\"a\", \"b\", \"c\"]\n",
    "nested_list = [my_list, 1, 2, 3]\n",
    "print(nested_list)"
   ]
  },
  {
   "cell_type": "code",
   "execution_count": null,
   "metadata": {},
   "outputs": [],
   "source": [
    "nested_list_1 = nested_list[:] # shallow copy (method 2)\n",
    "nested_list[0][0] = \"New\" # changes both nested_list AND nested_list_1 \n",
    "print(nested_list)\n",
    "print(nested_list_1)"
   ]
  },
  {
   "cell_type": "markdown",
   "metadata": {},
   "source": [
    "Therefore, we can see that in both cases when the variable `nested_list_1` was created, it was not created as a separate, stand-alone object. Instead, it is simply an alias or reference to the `nested_list` variable. The consequence is that if `nested_list` changes, `nested_list_1` ALSO changes since it references `nested_list` (whatever happens to `nested_list` ALSO happens to `nested_list_1`)."
   ]
  },
  {
   "cell_type": "markdown",
   "metadata": {},
   "source": [
    "### Example 21 (Deep Copy - All Layers)"
   ]
  },
  {
   "cell_type": "markdown",
   "metadata": {},
   "source": [
    "If you don't want the behavior above where the new variable in nested lists simply references the original variable and both are subject to each other's changes, then use a deep copy to protect against this. \n",
    "\n",
    "To perform Deep Copies in Python, we have to consult an 'external resource' known as a __module__. We will cover modules in depth in Lecture 3, so don't worry about it for now. In this case, the module name is called `copy` and you can read more about it [here](https://docs.python.org/3/library/copy.html)"
   ]
  },
  {
   "cell_type": "code",
   "execution_count": null,
   "metadata": {
    "ExecuteTime": {
     "end_time": "2019-10-28T00:46:42.148803Z",
     "start_time": "2019-10-28T00:46:42.146541Z"
    }
   },
   "outputs": [],
   "source": [
    "# get all the resources from this external resource\n",
    "import copy"
   ]
  },
  {
   "cell_type": "code",
   "execution_count": null,
   "metadata": {
    "ExecuteTime": {
     "end_time": "2019-10-28T00:46:42.659004Z",
     "start_time": "2019-10-28T00:46:42.655517Z"
    }
   },
   "outputs": [],
   "source": [
    "my_list = [\"a\", \"b\", \"c\"]\n",
    "nested_list = [my_list, 1, 2, 3]\n",
    "print(nested_list)"
   ]
  },
  {
   "cell_type": "code",
   "execution_count": null,
   "metadata": {
    "ExecuteTime": {
     "end_time": "2019-10-28T00:46:43.960153Z",
     "start_time": "2019-10-28T00:46:43.956285Z"
    }
   },
   "outputs": [],
   "source": [
    "nested_list_1 = copy.deepcopy(nested_list) # deep copy \n",
    "nested_list[0][0] = \"New\" # only changes nested_list and NOT nested_list_1\n",
    "print(nested_list)\n",
    "print(nested_list_1)"
   ]
  },
  {
   "cell_type": "markdown",
   "metadata": {},
   "source": [
    "### Example 22 (Reversing Lists):"
   ]
  },
  {
   "cell_type": "markdown",
   "metadata": {},
   "source": [
    "We have already seen some manual ways of reversing lists using slicing. However, Python also offers a convenient `reverse()` function for mutable sequence types. See example below:"
   ]
  },
  {
   "cell_type": "code",
   "execution_count": null,
   "metadata": {},
   "outputs": [],
   "source": [
    "my_list = [100, 101, 102]"
   ]
  },
  {
   "cell_type": "code",
   "execution_count": null,
   "metadata": {},
   "outputs": [],
   "source": [
    "my_list.reverse() # reverses the list (in-place)\n",
    "print(my_list)"
   ]
  },
  {
   "cell_type": "code",
   "execution_count": null,
   "metadata": {},
   "outputs": [],
   "source": [
    "my_list = [100, 101, 102]\n",
    "my_list[::-1] # manual implementation (not in-place)"
   ]
  },
  {
   "cell_type": "code",
   "execution_count": null,
   "metadata": {},
   "outputs": [],
   "source": [
    "print(my_list)"
   ]
  },
  {
   "cell_type": "markdown",
   "metadata": {},
   "source": [
    "###  Overview of Sequence Type - Strings"
   ]
  },
  {
   "cell_type": "markdown",
   "metadata": {},
   "source": [
    "__Overview:__\n",
    "- __[Strings](https://docs.python.org/3/library/stdtypes.html#index-26)__ store textual data in Python \n",
    "- Unlike lists, strings are __immutable__ (their contents can not be modified in any way) \n",
    "\n"
   ]
  },
  {
   "cell_type": "markdown",
   "metadata": {},
   "source": [
    "### Accessing Elements within Strings"
   ]
  },
  {
   "cell_type": "markdown",
   "metadata": {},
   "source": [
    "__Overview:__\n",
    "- Each item within a string are referred to as __elements__ and they can easily be accessed (for example, if you want to extract the second element of a string)\n",
    "- Similar to lists, each element is assigned a number beginning with 0 "
   ]
  },
  {
   "cell_type": "markdown",
   "metadata": {},
   "source": [
    "### Example 23 (Index Method 1 with Positive Index):"
   ]
  },
  {
   "cell_type": "code",
   "execution_count": null,
   "metadata": {
    "ExecuteTime": {
     "end_time": "2019-10-28T00:48:20.745130Z",
     "start_time": "2019-10-28T00:48:20.742674Z"
    }
   },
   "outputs": [],
   "source": [
    "my_string = \"python\"\n"
   ]
  },
  {
   "cell_type": "code",
   "execution_count": null,
   "metadata": {
    "ExecuteTime": {
     "end_time": "2019-10-28T00:48:21.314876Z",
     "start_time": "2019-10-28T00:48:21.310141Z"
    }
   },
   "outputs": [],
   "source": [
    "my_string[0] # simply accessing an element via its index"
   ]
  },
  {
   "cell_type": "code",
   "execution_count": null,
   "metadata": {
    "ExecuteTime": {
     "end_time": "2019-10-28T00:48:29.541759Z",
     "start_time": "2019-10-28T00:48:29.535465Z"
    }
   },
   "outputs": [],
   "source": [
    "my_string[0] = \"B\" # str data types are immutable  (chang9ng an element via its in index)"
   ]
  },
  {
   "cell_type": "markdown",
   "metadata": {},
   "source": [
    "### More String Operations "
   ]
  },
  {
   "cell_type": "markdown",
   "metadata": {},
   "source": [
    "__Overview:__\n",
    "- Since the `str` type is immutable, we can only perform the Common Sequence Operations and NOT the Mutable Sequence Type Operations (like we did for lists)\n",
    "\n"
   ]
  },
  {
   "cell_type": "markdown",
   "metadata": {},
   "source": [
    "### Part 1: Common Sequence Type Operations "
   ]
  },
  {
   "cell_type": "markdown",
   "metadata": {},
   "source": [
    "### Example 24 (Concatenation of Strings):"
   ]
  },
  {
   "cell_type": "code",
   "execution_count": null,
   "metadata": {
    "ExecuteTime": {
     "end_time": "2019-10-28T00:49:26.797247Z",
     "start_time": "2019-10-28T00:49:26.794257Z"
    }
   },
   "outputs": [],
   "source": [
    "string_1 = \"python\"\n",
    "string_2 = \" is awesome\"\n",
    "string_3 = string_1 + string_2 # not vectorized addition \n",
    "print(string_3)"
   ]
  },
  {
   "cell_type": "code",
   "execution_count": null,
   "metadata": {
    "ExecuteTime": {
     "end_time": "2019-10-28T00:49:28.269032Z",
     "start_time": "2019-10-28T00:49:28.266336Z"
    }
   },
   "outputs": [],
   "source": [
    "string_1 += string_2 # string_1 = string_1 + string_2\n",
    "print(string_1)"
   ]
  },
  {
   "cell_type": "markdown",
   "metadata": {},
   "source": [
    "### Example 25 (Repetition of Strings):"
   ]
  },
  {
   "cell_type": "code",
   "execution_count": null,
   "metadata": {
    "ExecuteTime": {
     "end_time": "2019-10-28T00:49:35.826939Z",
     "start_time": "2019-10-28T00:49:35.824164Z"
    }
   },
   "outputs": [],
   "source": [
    "string_1 = \"python\"\n",
    "print(string_1 * 2)"
   ]
  },
  {
   "cell_type": "markdown",
   "metadata": {},
   "source": [
    "### Example 26 (Simple Actions - `len`, `min`, `max`, `index`, `count`):"
   ]
  },
  {
   "cell_type": "code",
   "execution_count": null,
   "metadata": {
    "ExecuteTime": {
     "end_time": "2019-10-28T00:49:38.768407Z",
     "start_time": "2019-10-28T00:49:38.765949Z"
    }
   },
   "outputs": [],
   "source": [
    "my_string = \"supercalifragilisticexpialidocious\""
   ]
  },
  {
   "cell_type": "code",
   "execution_count": null,
   "metadata": {
    "ExecuteTime": {
     "end_time": "2019-10-28T00:49:39.340290Z",
     "start_time": "2019-10-28T00:49:39.336423Z"
    }
   },
   "outputs": [],
   "source": [
    "# find the length of the string (number of elements in the string)\n",
    "len(my_string)"
   ]
  },
  {
   "cell_type": "code",
   "execution_count": null,
   "metadata": {
    "ExecuteTime": {
     "end_time": "2019-10-28T00:49:40.343332Z",
     "start_time": "2019-10-28T00:49:40.339852Z"
    }
   },
   "outputs": [],
   "source": [
    "# find the minimum value of the string (first in the alphabet)\n",
    "min(my_string)"
   ]
  },
  {
   "cell_type": "code",
   "execution_count": null,
   "metadata": {
    "ExecuteTime": {
     "end_time": "2019-10-28T00:49:40.635986Z",
     "start_time": "2019-10-28T00:49:40.632026Z"
    }
   },
   "outputs": [],
   "source": [
    "# find the maximum value of the string (last in the alphabet)\n",
    "max(my_string)"
   ]
  },
  {
   "cell_type": "code",
   "execution_count": null,
   "metadata": {
    "ExecuteTime": {
     "end_time": "2019-10-28T00:49:41.595124Z",
     "start_time": "2019-10-28T00:49:41.589691Z"
    }
   },
   "outputs": [],
   "source": [
    "# find the index of the first occurrence of a in my_string\n",
    "my_string.index(\"a\")"
   ]
  },
  {
   "cell_type": "code",
   "execution_count": null,
   "metadata": {
    "ExecuteTime": {
     "end_time": "2019-10-28T00:49:41.804654Z",
     "start_time": "2019-10-28T00:49:41.800916Z"
    }
   },
   "outputs": [],
   "source": [
    "# find the total number of occurrences of a in my_string\n",
    "my_string.count(\"a\")"
   ]
  },
  {
   "cell_type": "markdown",
   "metadata": {},
   "source": [
    "### Example 27 (Advanced Actions - `sort`):"
   ]
  },
  {
   "cell_type": "markdown",
   "metadata": {},
   "source": [
    "Since strings are immutable, sorting strings in Python can only be done 1 way - with the generic `sorted()` function which simply returns a copy of the object and does not attempty to modify the original string. "
   ]
  },
  {
   "cell_type": "code",
   "execution_count": null,
   "metadata": {},
   "outputs": [],
   "source": [
    "my_string = \"supercalifragilisticexpialidocious\""
   ]
  },
  {
   "cell_type": "code",
   "execution_count": null,
   "metadata": {
    "scrolled": true
   },
   "outputs": [],
   "source": [
    "# sort the string in alphabetical order\n",
    "print(sorted(my_string))\n",
    "print(my_string) # prints original, unchanged variable (not in-place algorithm)"
   ]
  },
  {
   "cell_type": "markdown",
   "metadata": {},
   "source": [
    "We can see that the `sorted()` function simply returned a copy of the original string, but when we print the original string, it has not changed. This is an example of not in-place. "
   ]
  },
  {
   "cell_type": "markdown",
   "metadata": {},
   "source": [
    "### Part 2: Built-In Functions for Common String Operations"
   ]
  },
  {
   "cell_type": "markdown",
   "metadata": {},
   "source": [
    "Python provides an expansive list of built-in __[string methods](https://docs.python.org/3/library/stdtypes.html#string-methods)__ that are very helpful for operating on strings. You can review the entire list, but we will cover the most common methods below."
   ]
  },
  {
   "cell_type": "markdown",
   "metadata": {},
   "source": [
    "### Example 28 (Common String Method 1 )"
   ]
  },
  {
   "cell_type": "code",
   "execution_count": null,
   "metadata": {
    "ExecuteTime": {
     "end_time": "2019-10-28T00:50:20.127944Z",
     "start_time": "2019-10-28T00:50:20.122764Z"
    }
   },
   "outputs": [],
   "source": [
    "my_string = \"\"\"\n",
    "O Romeo, Romeo! wherefore art thou Romeo? Deny thy father and refuse thy name;\n",
    "Or, if thou wilt not, be but sworn my love, And I'll no longer be a Capulet. \n",
    "\"\"\""
   ]
  },
  {
   "cell_type": "code",
   "execution_count": null,
   "metadata": {
    "ExecuteTime": {
     "end_time": "2019-10-28T00:50:20.673418Z",
     "start_time": "2019-10-28T00:50:20.669884Z"
    }
   },
   "outputs": [],
   "source": [
    "print(my_string.lower()) # returns the lowercase version of the string (not in-place)\n",
    "print(my_string)  "
   ]
  },
  {
   "cell_type": "code",
   "execution_count": null,
   "metadata": {
    "ExecuteTime": {
     "end_time": "2019-10-28T00:50:21.581256Z",
     "start_time": "2019-10-28T00:50:21.578667Z"
    }
   },
   "outputs": [],
   "source": [
    "my_string = \"\"\"\n",
    "O Romeo, Romeo! wherefore art thou Romeo? Deny thy father and refuse thy name;\n",
    "Or, if thou wilt not, be but sworn my love, And I'll no longer be a Capulet. \n",
    "\"\"\""
   ]
  },
  {
   "cell_type": "code",
   "execution_count": null,
   "metadata": {
    "ExecuteTime": {
     "end_time": "2019-10-28T00:50:25.976941Z",
     "start_time": "2019-10-28T00:50:25.973751Z"
    }
   },
   "outputs": [],
   "source": [
    "print(my_string.upper()) # returns the uppercase version of the string (not in-place)\n",
    "print(my_string)  "
   ]
  },
  {
   "cell_type": "markdown",
   "metadata": {},
   "source": [
    "### Example 29 (Common String Method 2 )"
   ]
  },
  {
   "cell_type": "code",
   "execution_count": null,
   "metadata": {
    "ExecuteTime": {
     "end_time": "2019-10-28T00:50:27.849814Z",
     "start_time": "2019-10-28T00:50:27.847166Z"
    }
   },
   "outputs": [],
   "source": [
    "print(my_string.isalpha()) # tests if all the string characters are in the alphabetic class "
   ]
  },
  {
   "cell_type": "markdown",
   "metadata": {},
   "source": [
    "### Example 30 (Common String Method 3)"
   ]
  },
  {
   "cell_type": "code",
   "execution_count": null,
   "metadata": {
    "ExecuteTime": {
     "end_time": "2019-10-28T00:50:34.649431Z",
     "start_time": "2019-10-28T00:50:34.646611Z"
    }
   },
   "outputs": [],
   "source": [
    "print(my_string.find(\"Deny\")) # searches for the string \"Romeo\" within my_string and returns the first index where it begins"
   ]
  },
  {
   "cell_type": "markdown",
   "metadata": {},
   "source": [
    "### Example 31 (Common String Method 4)"
   ]
  },
  {
   "cell_type": "code",
   "execution_count": null,
   "metadata": {
    "ExecuteTime": {
     "end_time": "2019-10-28T00:57:55.091457Z",
     "start_time": "2019-10-28T00:57:55.087471Z"
    }
   },
   "outputs": [],
   "source": [
    "print(my_string.replace(\"Romeo\", \"Yeezy\")) # replaces all occurrences of \"Romeo\" with \"Lil Romoeo\" (NOT in-place)\n",
    "print(my_string)"
   ]
  },
  {
   "cell_type": "markdown",
   "metadata": {},
   "source": [
    "### Example 32 (Common String Method 5)"
   ]
  },
  {
   "cell_type": "code",
   "execution_count": null,
   "metadata": {
    "ExecuteTime": {
     "end_time": "2019-10-28T00:58:57.674503Z",
     "start_time": "2019-10-28T00:58:57.671106Z"
    }
   },
   "outputs": [],
   "source": [
    "print(my_string.split()) # returns a list of substrings separated by the default delimiter (whitespace)"
   ]
  },
  {
   "cell_type": "code",
   "execution_count": null,
   "metadata": {
    "ExecuteTime": {
     "end_time": "2019-10-28T00:58:57.769636Z",
     "start_time": "2019-10-28T00:58:57.766210Z"
    }
   },
   "outputs": [],
   "source": [
    "print(my_string.split(\";\")) # returns a list of substrings separated by semi-colon"
   ]
  },
  {
   "cell_type": "markdown",
   "metadata": {},
   "source": [
    "### Example 33 (Common String Method 6)"
   ]
  },
  {
   "cell_type": "code",
   "execution_count": null,
   "metadata": {
    "ExecuteTime": {
     "end_time": "2019-10-28T00:59:02.878416Z",
     "start_time": "2019-10-28T00:59:02.875222Z"
    }
   },
   "outputs": [],
   "source": [
    "split_string = my_string.split('!')\n",
    "print(split_string)\n",
    "print(\"\".join(split_string)) # joins the split_string (list) to a string (empty string) without spaces "
   ]
  },
  {
   "cell_type": "markdown",
   "metadata": {},
   "source": [
    "### Part 3: Built-In Functions for Common String Formatting "
   ]
  },
  {
   "cell_type": "markdown",
   "metadata": {},
   "source": [
    "__Overview:__\n",
    "- Python provides many useful ways of formatting strings for \"fancier ouput\"\n",
    "- There are 2 main methods of which these belong to:\n",
    "> 1. Using the `str.format()` function. The official documentation of this function can be found [here](https://docs.python.org/3/library/stdtypes.html#str.format) and [here](https://docs.python.org/3/library/string.html#formatstrings). Although the most helpful information on how it can be implemented can be found [here](https://docs.python.org/3/tutorial/inputoutput.html#fancier-output-formatting)\n",
    "> 2. (New in Python 3.6) Using __[Formatted String Literals](https://docs.python.org/3/reference/lexical_analysis.html#f-strings)__ otherwise known as __f-strings__\n",
    "\n",
    "__Helpful Points:__\n",
    "1. Within each method above, there are multiple ways of executing the functions \n",
    "2. Each of these ways will be explained below in the examples\n",
    "3. See [this](https://pyformat.info/) post for a comprehensive look at the various types of string formatting using the `str.format` function\n",
    "\n",
    "__Practice:__ Examples of string formatting in Python "
   ]
  },
  {
   "cell_type": "markdown",
   "metadata": {},
   "source": [
    "### Using the  `str.format()` function:"
   ]
  },
  {
   "cell_type": "markdown",
   "metadata": {},
   "source": [
    "### Example 34 (Empty {} in `str.format()` function):"
   ]
  },
  {
   "cell_type": "code",
   "execution_count": null,
   "metadata": {
    "ExecuteTime": {
     "end_time": "2019-10-28T01:00:40.306475Z",
     "start_time": "2019-10-28T01:00:40.303824Z"
    }
   },
   "outputs": [],
   "source": [
    "person_1 = \"Jack\"\n",
    "person_2 = \"Jill\""
   ]
  },
  {
   "cell_type": "code",
   "execution_count": null,
   "metadata": {
    "ExecuteTime": {
     "end_time": "2019-10-28T01:00:40.535448Z",
     "start_time": "2019-10-28T01:00:40.531365Z"
    }
   },
   "outputs": [],
   "source": [
    "print(\"{} and {} went up the hill\".format(person_1, person_2))"
   ]
  },
  {
   "cell_type": "markdown",
   "metadata": {},
   "source": [
    "The \"curly\" brackets and characters within them (called format fields) are replaced with the objects passed into the `format()` method. "
   ]
  },
  {
   "cell_type": "markdown",
   "metadata": {},
   "source": [
    "### Example 35 (Specifiers in {} in `str.format()` function):"
   ]
  },
  {
   "cell_type": "code",
   "execution_count": null,
   "metadata": {
    "ExecuteTime": {
     "end_time": "2019-10-28T01:03:34.961247Z",
     "start_time": "2019-10-28T01:03:34.958296Z"
    }
   },
   "outputs": [],
   "source": [
    "print(\"The value of PI is approximately {0:0.3f} to 3 decimal places\".format(3.14159265359))"
   ]
  },
  {
   "cell_type": "markdown",
   "metadata": {},
   "source": [
    "An optional `:` and format specifier (0.3f - 3 decimal places for a float) can follow the field name. Note, the other format specifiers include `i` (int), and `s` (string)."
   ]
  },
  {
   "cell_type": "markdown",
   "metadata": {},
   "source": [
    "Note, we can also use this format to truncate long strings. The above example simply truncates the string that is passed into the format parantheses. It does not know anything about the integer values and thus does not do any rounding - it is treated as a series of characters. "
   ]
  },
  {
   "cell_type": "markdown",
   "metadata": {},
   "source": [
    "### Problem 5\n",
    "\n",
    "Combine your first and last names using strings instead of lists like we did in problem 3. \n",
    "Notes:\n",
    "- Create the 2 strings in lower case and then use a built-in string method to capitalize the words (see [this link](https://docs.python.org/3/library/stdtypes.html#string-methods) to find the proper function to use)\n",
    "- Use string formatting to output your results"
   ]
  },
  {
   "cell_type": "code",
   "execution_count": null,
   "metadata": {
    "ExecuteTime": {
     "end_time": "2019-10-28T03:43:23.616323Z",
     "start_time": "2019-10-28T03:43:23.613620Z"
    }
   },
   "outputs": [],
   "source": [
    "# write your code here\n",
    "\n"
   ]
  },
  {
   "cell_type": "markdown",
   "metadata": {},
   "source": [
    "### Problem 6\n",
    "\n",
    "Replace `\"Brussels Sprouts\"` with your favorite food in the string `\"My favorite food is Brussels Sprouts\"`.\n",
    "\n",
    "Notes:\n",
    "- Use the `replace` commond string method"
   ]
  },
  {
   "cell_type": "code",
   "execution_count": null,
   "metadata": {
    "ExecuteTime": {
     "end_time": "2019-10-28T03:44:02.152719Z",
     "start_time": "2019-10-28T03:44:02.150500Z"
    }
   },
   "outputs": [],
   "source": [
    "# write your code here\n"
   ]
  },
  {
   "cell_type": "markdown",
   "metadata": {},
   "source": [
    "### Overview of Sequence Type - Tuples"
   ]
  },
  {
   "cell_type": "markdown",
   "metadata": {},
   "source": [
    "__Overview:__\n",
    "- __[Tuples](https://docs.python.org/3/library/stdtypes.html#tuple):__ Tuples are immutable sequences typically used to store collections of hetereogeneous (dissimilar) data (compare with lists which are mutable and typically used to store collections of homogeneous data) \n",
    "\n",
    "__Helpful Points:__\n",
    "1. Tuples are defined by elements separated by commas and enclosed with parantheses (although parantheses are optional)\n",
    "2. Tuples are necessary when an immutable sequence of homogenous data is needed (i.e. in dictionaries and sets - see below for explanations of these data types)\n",
    "3. Tuples appear almost everywhere in Python (i.e. in function arguments - see Lecture 3 for more detail on functions and their arguments)\n",
    "4. Tuples provide a safeguard against accidental tampering of data "
   ]
  },
  {
   "cell_type": "markdown",
   "metadata": {},
   "source": [
    "### Creating Tuples"
   ]
  },
  {
   "cell_type": "markdown",
   "metadata": {},
   "source": [
    "__Overview:__\n",
    "- There are multiple ways of creating tuples in Python:\n",
    "> 1. Method 1: Using a pair of parantheses to denote an empty tuple \n",
    "> 2. Method 2: Using parantheses, separating items with commas (or just separating items with commas - this is actually an example of __Packing__ which is a very useful characteristic of tuples and will be explained below)\n",
    "> 3. Method 3: Using the __Type Constructor__\n"
   ]
  },
  {
   "cell_type": "markdown",
   "metadata": {},
   "source": [
    "Note_1: Tuple operations using the Common Sequence Operations are not shown here since the process is identical to that of operating with lists. If you want to refresh your memory, see section 2.2.6 Part 1 (examples 1.1 - 1.5), but swap the list for a tuple. \n",
    "\n",
    "Note_2: The only operation different for Tuples than Lists is the sorting capabilities. Recall that lists can be sorted using the `list.sort()` function (performed __in-place__ by modifying the original object) AND using the `sorted()` function (not performed in-place and creates a copy of the object). Since Tuples are mutable, they are subject ONLY to the `sorted()` function. "
   ]
  },
  {
   "cell_type": "markdown",
   "metadata": {},
   "source": [
    "### Packing and Unpacking with Tuples"
   ]
  },
  {
   "cell_type": "markdown",
   "metadata": {},
   "source": [
    "__Overview:__\n",
    "- One of the most important differences between tuple and lists (other than mutability) is the ability of tuples to participate in __packing__ and __unpacking__ which is very useful and \"Pythonic\" \n",
    "> 1. __Packing:__ Packing is a simple syntax which allows you to create a tuple without parantheses and elements just separated by commas (recall we did this in method 2 of creating tuples above)\n",
    "> 2. __Unpacking:__ Unpacking allows you to split apart the values within a tuple into separate variables \n",
    "\n",
    "__Helpful Points:__\n",
    "1. Packing and Unpacking feature makes operations concise and efficient in Python \n",
    "2. You can use the `*` (asterix) notiation in tuples for arbitrary arguments (see examples below)\n",
    "3. You can use the `_` (underscore) notation in tuples as placeholders \n",
    "4. Recall simultaneous assignments in lecture 1 - section 1.6 - example 2.2. This was actually a case of packing and unpacking at work!\n",
    "\n",
    "__Practice:__ Examples of Packing and Unpacking with Tuples in Python "
   ]
  },
  {
   "cell_type": "code",
   "execution_count": null,
   "metadata": {},
   "outputs": [],
   "source": [
    "Roger = \"ice_cream\"\n",
    "sami = \"10dollars\""
   ]
  },
  {
   "cell_type": "code",
   "execution_count": null,
   "metadata": {},
   "outputs": [],
   "source": [
    "\n",
    "a = sami,Roger\n",
    "Roger,sami = a"
   ]
  },
  {
   "cell_type": "code",
   "execution_count": null,
   "metadata": {},
   "outputs": [],
   "source": [
    "sami,Roger = (Roger,sami)"
   ]
  },
  {
   "cell_type": "markdown",
   "metadata": {},
   "source": [
    "### Example 36 (Packing): "
   ]
  },
  {
   "cell_type": "code",
   "execution_count": null,
   "metadata": {
    "ExecuteTime": {
     "end_time": "2019-10-28T01:21:20.769720Z",
     "start_time": "2019-10-28T01:21:20.766770Z"
    }
   },
   "outputs": [],
   "source": [
    "var = \"a\", \"b\", \"c\" # all 3 items are \"packed\" into the one variable a \n",
    "print(var)"
   ]
  },
  {
   "cell_type": "markdown",
   "metadata": {},
   "source": [
    "When packing, the output is a tuple."
   ]
  },
  {
   "cell_type": "markdown",
   "metadata": {},
   "source": [
    "### Example 37 (Unpacking):"
   ]
  },
  {
   "cell_type": "code",
   "execution_count": null,
   "metadata": {
    "ExecuteTime": {
     "end_time": "2019-10-28T01:21:23.522544Z",
     "start_time": "2019-10-28T01:21:23.518831Z"
    }
   },
   "outputs": [],
   "source": [
    "first, second, third = var # the 3 items in the one variable a are \"unpacked\" and each assigned their own variable \n",
    "print(first)\n",
    "print(second)\n",
    "print(third)"
   ]
  },
  {
   "cell_type": "code",
   "execution_count": null,
   "metadata": {
    "ExecuteTime": {
     "end_time": "2019-10-28T01:21:38.294235Z",
     "start_time": "2019-10-28T01:21:38.290150Z"
    }
   },
   "outputs": [],
   "source": [
    "# compare the above with a longer and uglier way\n",
    "first = var[0]\n",
    "second = var[1]\n",
    "third = var[2]\n",
    "print(first)\n",
    "print(second)\n",
    "print(third)"
   ]
  },
  {
   "cell_type": "code",
   "execution_count": null,
   "metadata": {
    "ExecuteTime": {
     "end_time": "2019-10-28T01:21:57.218878Z",
     "start_time": "2019-10-28T01:21:57.215554Z"
    }
   },
   "outputs": [],
   "source": [
    "print(var)"
   ]
  },
  {
   "cell_type": "code",
   "execution_count": null,
   "metadata": {
    "ExecuteTime": {
     "end_time": "2019-10-28T01:21:45.041051Z",
     "start_time": "2019-10-28T01:21:45.034231Z"
    }
   },
   "outputs": [],
   "source": [
    "var[0] = 2"
   ]
  },
  {
   "cell_type": "markdown",
   "metadata": {},
   "source": [
    "### Overview of Sequence Type 4 - Range"
   ]
  },
  {
   "cell_type": "markdown",
   "metadata": {},
   "source": [
    "__Overview:__\n",
    "- __[Range](https://docs.python.org/3/library/stdtypes.html#range):__ Range type is an immutable sequence of numbers \n",
    "- The range type has 3 arguments (similar to a slice): `start`, `stop`, and `step`\n",
    "\n",
    "__Helpful Points:__\n",
    "1. Range types are most commonly used for looping a specific number of times in `for` loops \n",
    "2. Range types are advantageous over a regular `list` or `tuple` since a `range` object will always take the same, small amount of memory in your computer, no matter the size of the range it represents (i.e. a range of 5 numbers will take the same amount of memory as a range of 5M numbers)\n",
    "3. The range object only stores the `start`, `stop`, and `step` values in memory and then calculates the individual items as needed "
   ]
  },
  {
   "cell_type": "code",
   "execution_count": null,
   "metadata": {
    "ExecuteTime": {
     "end_time": "2019-10-28T01:26:01.516703Z",
     "start_time": "2019-10-28T01:26:01.513152Z"
    }
   },
   "outputs": [],
   "source": [
    "# my_list = [0,1,2,3,....,1000] Store in the memory 1000 \n",
    "my_range = range(0,1000) # store start and stop \n",
    "print(my_range)"
   ]
  },
  {
   "cell_type": "markdown",
   "metadata": {},
   "source": [
    "### 2.2.17 Creating Ranges"
   ]
  },
  {
   "cell_type": "markdown",
   "metadata": {},
   "source": [
    "__Overview:__\n",
    "- A `range` object can be created only one way with the general format of `start`, `stop`, and `step`\n",
    "\n",
    "__Helpful Points:__\n",
    "1. Similar to slices, some of the arguments in the range may be ommitted (i.e. `start` defaults to 0, if not provided)\n",
    "2. We will see below that when printing a range, we are unable to see the actual numbers. To see the sequence of numbers, we have to convert the `range` type to a `list`\n"
   ]
  },
  {
   "cell_type": "markdown",
   "metadata": {},
   "source": [
    "### Example 38 (Creating `range` with `stop` only):"
   ]
  },
  {
   "cell_type": "code",
   "execution_count": null,
   "metadata": {
    "ExecuteTime": {
     "end_time": "2019-10-28T01:26:18.917875Z",
     "start_time": "2019-10-28T01:26:18.913899Z"
    }
   },
   "outputs": [],
   "source": [
    "range(10)\n",
    "range(1000)"
   ]
  },
  {
   "cell_type": "code",
   "execution_count": null,
   "metadata": {
    "ExecuteTime": {
     "end_time": "2019-10-28T01:26:19.251603Z",
     "start_time": "2019-10-28T01:26:19.247860Z"
    }
   },
   "outputs": [],
   "source": [
    "list(range(10))"
   ]
  },
  {
   "cell_type": "code",
   "execution_count": null,
   "metadata": {
    "ExecuteTime": {
     "end_time": "2019-10-28T01:26:29.767163Z",
     "start_time": "2019-10-28T01:26:29.762431Z"
    }
   },
   "outputs": [],
   "source": [
    "list(range(1,10))"
   ]
  },
  {
   "cell_type": "code",
   "execution_count": null,
   "metadata": {
    "ExecuteTime": {
     "end_time": "2019-10-28T01:26:32.377604Z",
     "start_time": "2019-10-28T01:26:32.373152Z"
    }
   },
   "outputs": [],
   "source": [
    "# perform an action 10 times \n",
    "for i in range(10):\n",
    "    print(i)"
   ]
  },
  {
   "cell_type": "code",
   "execution_count": null,
   "metadata": {},
   "outputs": [],
   "source": [
    "print(list(range(1,10)))"
   ]
  },
  {
   "cell_type": "markdown",
   "metadata": {},
   "source": [
    "### Example 39 (Creating `range` with `start`, `stop`, and `step`):"
   ]
  },
  {
   "cell_type": "code",
   "execution_count": null,
   "metadata": {},
   "outputs": [],
   "source": [
    "print(range(0, 50, 5))"
   ]
  },
  {
   "cell_type": "code",
   "execution_count": null,
   "metadata": {},
   "outputs": [],
   "source": [
    "print(list(range(0, 50, 5)))"
   ]
  },
  {
   "cell_type": "markdown",
   "metadata": {},
   "source": [
    "### Problem 7:\n",
    "\n",
    "Create a `range` that goes from `500` to `5000` by steps of `250`. Check if `7550` is in our range. \n",
    "\n",
    "Notes\n",
    "- Convert your range to a list and print it to see all elements of your range "
   ]
  },
  {
   "cell_type": "code",
   "execution_count": null,
   "metadata": {
    "ExecuteTime": {
     "end_time": "2019-10-28T03:44:30.493660Z",
     "start_time": "2019-10-28T03:44:30.491517Z"
    }
   },
   "outputs": [],
   "source": [
    "# Write your code here\n"
   ]
  },
  {
   "cell_type": "markdown",
   "metadata": {},
   "source": [
    "## Set Types in Python "
   ]
  },
  {
   "cell_type": "markdown",
   "metadata": {},
   "source": [
    "__Overview:__\n",
    "- [Set Type](https://docs.python.org/3/library/stdtypes.html#set-types-set-frozenset):  Set Types are unordered (each element from left to right is NOT assigned a number - this disables our ability to index (find) elements within a set type)\n",
    "> - Set Types have to contain only unique elements\n",
    "\n",
    "\n"
   ]
  },
  {
   "cell_type": "markdown",
   "metadata": {},
   "source": [
    "### Set Type Operations"
   ]
  },
  {
   "cell_type": "markdown",
   "metadata": {},
   "source": [
    "__Overview:__\n",
    "- Since Set Types are unordered (they are not sequences), they are NOT subject to the Common Sequence Operations (with some exceptions) that we have used for strings, lists, tuples and ranges \n",
    "- However, there exists an equivalent list of operations that are possible for set types (both `set` and `frozenset`) which include some of the Common Sequence Operations\n",
    "- Depending on if the Set Type is mutable or immutable, it is subject to a different set of operations:\n",
    "> 1. __Mutable Set Type (`set`)__: Mutable Set Type can be operated on using the __common set operations__ AND the __mutable set type operations__\n",
    "> 2. __Immutable Set Type (`frozenset`)__: Immutable Set Type can be operated on using ONLY the __common set operations__"
   ]
  },
  {
   "cell_type": "markdown",
   "metadata": {},
   "source": [
    "### Overview of Set Type"
   ]
  },
  {
   "cell_type": "markdown",
   "metadata": {},
   "source": [
    "__Overview:__\n",
    "- __[set](https://docs.python.org/3/library/stdtypes.html#set):__ Sets are mutable objects that are used to store distinct elements\n",
    "\n",
    "__Helpful Points:__\n",
    "1. Sets are defined by curly brackets `{` and `}`\n",
    "2. Each element in a set is separated by a comma "
   ]
  },
  {
   "cell_type": "markdown",
   "metadata": {},
   "source": [
    "### Creating Sets"
   ]
  },
  {
   "cell_type": "markdown",
   "metadata": {},
   "source": [
    "__Overview:__\n",
    "- There are two ways to create a set in Python:\n",
    "1. Method 1: Using a pair of curly brackets with at least one element inside the curly brackets \n",
    "2. Method 2: Using the __Type Constructor__\n",
    "\n",
    "__Helpful Points:__\n",
    "1. Similar to lists, tuples, and strings, it is also possible to create a set within a set also known as a __Nested Set__ \n",
    "2. Be careful when initializing a new set that you enter at least one element inside the curly brackets, otherwise the interpreter will understand the command as initializing a dictionary (explained below)\n",
    "\n",
    "__Practice:__ Examples of creating sets in Python "
   ]
  },
  {
   "cell_type": "markdown",
   "metadata": {},
   "source": [
    "### Example 40 (Create Set with Method 1)"
   ]
  },
  {
   "cell_type": "markdown",
   "metadata": {},
   "source": [
    "Note if you don't include an element within the curly brackets, you are actually creating a `dict` type (dictionary)"
   ]
  },
  {
   "cell_type": "code",
   "execution_count": null,
   "metadata": {
    "ExecuteTime": {
     "end_time": "2019-10-28T01:30:34.609750Z",
     "start_time": "2019-10-28T01:30:34.605113Z"
    }
   },
   "outputs": [],
   "source": [
    "my_set = {1,2,3,4,5,5}\n",
    "print(my_set)\n",
    "type(my_set)"
   ]
  },
  {
   "cell_type": "markdown",
   "metadata": {},
   "source": [
    "### Example 41 (Create Set with Method 2)"
   ]
  },
  {
   "cell_type": "code",
   "execution_count": null,
   "metadata": {},
   "outputs": [],
   "source": [
    "set_2 = set()\n",
    "print(set_2)\n",
    "type(set_2)"
   ]
  },
  {
   "cell_type": "markdown",
   "metadata": {},
   "source": [
    "###  Accessing Elements within Sets"
   ]
  },
  {
   "cell_type": "markdown",
   "metadata": {},
   "source": [
    "- Remember that Set Types are __unordered__ which means their elements do not have an implicit number attached to them and therefore can NOT be accessed\n",
    "- This means we can not perform any indexing or slicing on sets "
   ]
  },
  {
   "cell_type": "code",
   "execution_count": null,
   "metadata": {
    "ExecuteTime": {
     "end_time": "2019-10-28T01:31:19.873209Z",
     "start_time": "2019-10-28T01:31:19.866770Z"
    }
   },
   "outputs": [],
   "source": [
    "my_set = {1,2,3}\n",
    "my_set[0]"
   ]
  },
  {
   "cell_type": "markdown",
   "metadata": {},
   "source": [
    "### 2.3.6 More Set Operations"
   ]
  },
  {
   "cell_type": "markdown",
   "metadata": {},
   "source": [
    "### Part 1: Common Set Operations"
   ]
  },
  {
   "cell_type": "markdown",
   "metadata": {},
   "source": [
    "### Example 42 (Membership Tests):"
   ]
  },
  {
   "cell_type": "code",
   "execution_count": null,
   "metadata": {
    "ExecuteTime": {
     "end_time": "2019-10-28T01:31:23.816669Z",
     "start_time": "2019-10-28T01:31:23.813500Z"
    }
   },
   "outputs": [],
   "source": [
    "my_set = (1, 2,3)\n",
    "print(my_set)"
   ]
  },
  {
   "cell_type": "code",
   "execution_count": null,
   "metadata": {
    "ExecuteTime": {
     "end_time": "2019-10-28T01:31:24.787357Z",
     "start_time": "2019-10-28T01:31:24.783148Z"
    }
   },
   "outputs": [],
   "source": [
    "1 in my_set"
   ]
  },
  {
   "cell_type": "code",
   "execution_count": null,
   "metadata": {
    "ExecuteTime": {
     "end_time": "2019-10-28T01:31:24.980491Z",
     "start_time": "2019-10-28T01:31:24.976358Z"
    }
   },
   "outputs": [],
   "source": [
    "5 not in my_set"
   ]
  },
  {
   "cell_type": "markdown",
   "metadata": {},
   "source": [
    "### Example 43 (Value Comparisons):"
   ]
  },
  {
   "cell_type": "markdown",
   "metadata": {},
   "source": [
    "### Example 43.1 (Subset):"
   ]
  },
  {
   "cell_type": "code",
   "execution_count": null,
   "metadata": {
    "ExecuteTime": {
     "end_time": "2019-10-28T01:31:26.300426Z",
     "start_time": "2019-10-28T01:31:26.297667Z"
    }
   },
   "outputs": [],
   "source": [
    "set_1 = {1, 2, 3, 4, 5}\n",
    "set_2 = {3, 4, 5, 6, 7}"
   ]
  },
  {
   "cell_type": "code",
   "execution_count": null,
   "metadata": {
    "ExecuteTime": {
     "end_time": "2019-10-28T01:31:26.925890Z",
     "start_time": "2019-10-28T01:31:26.922049Z"
    }
   },
   "outputs": [],
   "source": [
    "set_1.issubset(set_2)"
   ]
  },
  {
   "cell_type": "markdown",
   "metadata": {},
   "source": [
    "### Example 43.2 (Proper Subset):"
   ]
  },
  {
   "cell_type": "code",
   "execution_count": null,
   "metadata": {
    "ExecuteTime": {
     "end_time": "2019-10-28T01:31:28.625010Z",
     "start_time": "2019-10-28T01:31:28.622038Z"
    }
   },
   "outputs": [],
   "source": [
    "set_a = {1, 2, 3, 4, 5}\n",
    "set_b = {1, 2, 3, 4, 5}"
   ]
  },
  {
   "cell_type": "code",
   "execution_count": null,
   "metadata": {
    "ExecuteTime": {
     "end_time": "2019-10-28T01:31:28.888803Z",
     "start_time": "2019-10-28T01:31:28.883662Z"
    }
   },
   "outputs": [],
   "source": [
    "set_a <= set_b # tests whether every element in set_a is in set_b"
   ]
  },
  {
   "cell_type": "code",
   "execution_count": null,
   "metadata": {
    "ExecuteTime": {
     "end_time": "2019-10-28T01:31:29.326237Z",
     "start_time": "2019-10-28T01:31:29.322485Z"
    }
   },
   "outputs": [],
   "source": [
    "set_a < set_b # tests whether set_a <= set_b and set_a != set_b"
   ]
  },
  {
   "cell_type": "markdown",
   "metadata": {},
   "source": [
    "We can see that `set_a` is a subset of `set_b` but NOT a strict/proper subset of `set_b`"
   ]
  },
  {
   "cell_type": "markdown",
   "metadata": {},
   "source": [
    "### Example 43.3 (Superset):"
   ]
  },
  {
   "cell_type": "code",
   "execution_count": null,
   "metadata": {
    "ExecuteTime": {
     "end_time": "2019-10-28T01:31:30.757101Z",
     "start_time": "2019-10-28T01:31:30.753938Z"
    }
   },
   "outputs": [],
   "source": [
    "set_1 = {1, 2, 3, 4, 5}\n",
    "set_2 = {3, 4, 5, 6, 7}"
   ]
  },
  {
   "cell_type": "code",
   "execution_count": null,
   "metadata": {
    "ExecuteTime": {
     "end_time": "2019-10-28T01:31:31.635891Z",
     "start_time": "2019-10-28T01:31:31.632389Z"
    }
   },
   "outputs": [],
   "source": [
    "set_1 >= set_2 # tests whether every element in set_2 is in set_1 "
   ]
  },
  {
   "cell_type": "code",
   "execution_count": null,
   "metadata": {
    "ExecuteTime": {
     "end_time": "2019-10-28T01:31:31.907245Z",
     "start_time": "2019-10-28T01:31:31.901905Z"
    }
   },
   "outputs": [],
   "source": [
    "set_1.issuperset(set_2)"
   ]
  },
  {
   "cell_type": "markdown",
   "metadata": {},
   "source": [
    "### Part 2: Mutable Set Type Operations"
   ]
  },
  {
   "cell_type": "code",
   "execution_count": null,
   "metadata": {
    "ExecuteTime": {
     "end_time": "2019-10-28T01:31:33.950536Z",
     "start_time": "2019-10-28T01:31:33.946665Z"
    }
   },
   "outputs": [],
   "source": [
    "set_1.update(set_2) # update set_1, adding elements from set_2 \n",
    "print(set_1)"
   ]
  },
  {
   "cell_type": "markdown",
   "metadata": {},
   "source": [
    "### Example 44 (Adding Elements):"
   ]
  },
  {
   "cell_type": "code",
   "execution_count": null,
   "metadata": {
    "ExecuteTime": {
     "end_time": "2019-10-28T01:31:40.117001Z",
     "start_time": "2019-10-28T01:31:40.113735Z"
    }
   },
   "outputs": [],
   "source": [
    "set_1 = {1, 2, 3, 4, 5}"
   ]
  },
  {
   "cell_type": "code",
   "execution_count": null,
   "metadata": {
    "ExecuteTime": {
     "end_time": "2019-10-28T01:31:40.311609Z",
     "start_time": "2019-10-28T01:31:40.308433Z"
    }
   },
   "outputs": [],
   "source": [
    "# add an element that is not already in the set \n",
    "set_1.add(6)\n",
    "print(set_1)"
   ]
  },
  {
   "cell_type": "code",
   "execution_count": null,
   "metadata": {
    "ExecuteTime": {
     "end_time": "2019-10-28T01:31:40.494167Z",
     "start_time": "2019-10-28T01:31:40.490472Z"
    }
   },
   "outputs": [],
   "source": [
    "# add an element that is already in the set\n",
    "set_1.add(5)\n",
    "print(set_1)"
   ]
  },
  {
   "cell_type": "markdown",
   "metadata": {},
   "source": [
    "### Example 45 (Removing Elements):"
   ]
  },
  {
   "cell_type": "code",
   "execution_count": null,
   "metadata": {},
   "outputs": [],
   "source": [
    "set_1.remove(1) \n",
    "print(set_1)"
   ]
  },
  {
   "cell_type": "code",
   "execution_count": null,
   "metadata": {},
   "outputs": [],
   "source": [
    "set_1.remove(10) # raises an error if the element you are trying to add is not in the set "
   ]
  },
  {
   "cell_type": "code",
   "execution_count": null,
   "metadata": {},
   "outputs": [],
   "source": [
    "set_1.discard(2)\n",
    "print(set_1)"
   ]
  },
  {
   "cell_type": "code",
   "execution_count": null,
   "metadata": {},
   "outputs": [],
   "source": [
    "set_1.discard(10) # does not raise an error if the element you are trying to add is not in the set \n",
    "print(set_1)"
   ]
  },
  {
   "cell_type": "code",
   "execution_count": null,
   "metadata": {},
   "outputs": [],
   "source": [
    "set_1.clear() # removes all elements from the set \n",
    "print(set_1)"
   ]
  },
  {
   "cell_type": "markdown",
   "metadata": {},
   "source": [
    "### Mapping Types in Python "
   ]
  },
  {
   "cell_type": "markdown",
   "metadata": {},
   "source": [
    "__Overview:__\n",
    "- __[Mapping Type](https://docs.python.org/3/library/stdtypes.html#mapping-types-dict):__ The only Mapping Type in Python is the dictionary (`dict` type)\n",
    "- Mapping Types map (connect) values to objects (this will become clear below) \n",
    "- Mapping Types in Python have the following characteristics:\n",
    "> - Mapping Types are unordered (each element from left to right is NOT assigned a number - this disables our ability to use integer indexing to index (find) elements within a mapping type)\n",
    "> - Mapping Types are mutable \n",
    "\n",
    "__Helpful Points:__ \n",
    "1. Mapping Type is used very commonly in Python so get used to the format and its characteristics\n",
    "2. Although Mapping Type is unordered, there are still ways of accessing/indexing elements (but these ways are different than the integer indexing that existed for the Sequence Type)"
   ]
  },
  {
   "cell_type": "markdown",
   "metadata": {},
   "source": [
    "### Overview of Mapping Type - `dict`"
   ]
  },
  {
   "cell_type": "markdown",
   "metadata": {},
   "source": [
    "__Overview:__\n",
    "- __`dict`__: Dictionaries are mutable objects that are used to store a collection of key-value pairs\n",
    "- key-value pairs will be discussed below, but you can think of this as the `key` being the descriptor and the `value` being what is being described. The `key` does not have to be an integer which will be very useful \n",
    "\n",
    "__Helpful Points:__\n",
    "1. Dictionaries are defined by curly brackets `{` and `}` (similar to sets) \n",
    "2. Each item (key-value pair) in a dictionary is separated by a comma \n",
    "3. Keys and values are separated by a colon (:) as such `key:value`\n",
    "4. Keys can be of different types, but they have to be __immutable__ (`int`, `float`, `str`, `tuple`)\n",
    "5. Dictionaries can be used to make programming in Python more efficient "
   ]
  },
  {
   "cell_type": "markdown",
   "metadata": {},
   "source": [
    "### Creating Dictionaries "
   ]
  },
  {
   "cell_type": "markdown",
   "metadata": {},
   "source": [
    "__Overview:__\n",
    "- There are multiple ways to create a Dictionary in Python:\n",
    "> 1. Method 1: Using a pair of curly brackets to denote the empty dictionary (remember we couldn't use this in a set because it was reserved for dictionary use)\n",
    "> 2. Method 2: Using curly brackets, separating items (key-value pairs) with commas \n",
    "> 3. Method 3: Using the __Type Constructor__ with no contents to denote empty dictionary \n",
    "> 4. Method 4: Using the __Type Constructor__ with curly brackets, separating items (key-value pairs) with commas \n",
    "\n",
    "and much more!\n"
   ]
  },
  {
   "cell_type": "markdown",
   "metadata": {},
   "source": [
    "### Example 46 (Create Dictionary with Method 1)"
   ]
  },
  {
   "cell_type": "code",
   "execution_count": null,
   "metadata": {
    "ExecuteTime": {
     "end_time": "2019-10-28T01:36:10.384226Z",
     "start_time": "2019-10-28T01:36:10.379841Z"
    }
   },
   "outputs": [],
   "source": [
    "empty_dict = {}\n",
    "print(empty_dict)\n",
    "type(empty_dict)"
   ]
  },
  {
   "cell_type": "markdown",
   "metadata": {},
   "source": [
    "### Example 47 (Create Dictionary with Method 2)"
   ]
  },
  {
   "cell_type": "code",
   "execution_count": null,
   "metadata": {
    "ExecuteTime": {
     "end_time": "2019-10-28T01:36:27.682237Z",
     "start_time": "2019-10-28T01:36:27.679143Z"
    }
   },
   "outputs": [],
   "source": [
    "non_empty_dict = {\"name\":\"Dimitri\", \"course\":\"python\"}\n",
    "print(non_empty_dict)"
   ]
  },
  {
   "cell_type": "markdown",
   "metadata": {},
   "source": [
    "### Example 48 (Create Dictionary with Method 3)"
   ]
  },
  {
   "cell_type": "code",
   "execution_count": null,
   "metadata": {
    "ExecuteTime": {
     "end_time": "2019-10-28T01:38:55.042713Z",
     "start_time": "2019-10-28T01:38:55.038565Z"
    }
   },
   "outputs": [],
   "source": [
    "empty_dict_1 = dict()\n",
    "print(empty_dict)\n",
    "type(empty_dict)"
   ]
  },
  {
   "cell_type": "markdown",
   "metadata": {},
   "source": [
    "### Example 49 (Create Dictionary with Method 4)"
   ]
  },
  {
   "cell_type": "code",
   "execution_count": null,
   "metadata": {
    "ExecuteTime": {
     "end_time": "2019-10-28T01:38:56.277896Z",
     "start_time": "2019-10-28T01:38:56.274049Z"
    }
   },
   "outputs": [],
   "source": [
    "dict_4 = {\"a\":1, \"b\":2 ,\"c\":3}\n",
    "dict_4"
   ]
  },
  {
   "cell_type": "markdown",
   "metadata": {},
   "source": [
    "### Accessing Elements within Dictionaries"
   ]
  },
  {
   "cell_type": "markdown",
   "metadata": {},
   "source": [
    "__Overview:__\n",
    "- Although Dictionaries are unordered and their elements can not be accessed using integer indexing, we are still able to retrieve keys, values and items using similar techniques\n",
    "\n",
    "__Helpful Points:__\n",
    "1. Key retrieval can be done both individually using indexing and in bulk using built-in functions\n",
    "2. Value retrieval can only be done in bulk using built-in functions\n",
    "3. Item retrieval can only be done in bulk using built-in functions \n",
    "\n",
    "__Practice:__ Examples of accessing elements within dictionaries"
   ]
  },
  {
   "cell_type": "markdown",
   "metadata": {},
   "source": [
    "### Example 50 (Accessing Keys - Individually)"
   ]
  },
  {
   "cell_type": "code",
   "execution_count": null,
   "metadata": {
    "ExecuteTime": {
     "end_time": "2019-10-28T01:40:25.321762Z",
     "start_time": "2019-10-28T01:40:25.318708Z"
    }
   },
   "outputs": [],
   "source": [
    "my_dict = {\"a\":1, \"b\":2 ,\"c\":3}\n",
    "print(my_dict)"
   ]
  },
  {
   "cell_type": "code",
   "execution_count": null,
   "metadata": {
    "ExecuteTime": {
     "end_time": "2019-10-28T01:40:25.919447Z",
     "start_time": "2019-10-28T01:40:25.915307Z"
    }
   },
   "outputs": [],
   "source": [
    "my_dict[\"a\"] # returns the item of my_dict with key \"co_designer_1\""
   ]
  },
  {
   "cell_type": "code",
   "execution_count": null,
   "metadata": {
    "ExecuteTime": {
     "end_time": "2019-10-28T01:40:26.182083Z",
     "start_time": "2019-10-28T01:40:26.173837Z"
    }
   },
   "outputs": [],
   "source": [
    "my_dict[0]"
   ]
  },
  {
   "cell_type": "code",
   "execution_count": null,
   "metadata": {
    "ExecuteTime": {
     "end_time": "2019-10-28T01:40:26.291752Z",
     "start_time": "2019-10-28T01:40:26.286123Z"
    }
   },
   "outputs": [],
   "source": [
    "my_dict[\"d\"] # if the key is not the dictionary, raises an error "
   ]
  },
  {
   "cell_type": "code",
   "execution_count": null,
   "metadata": {
    "ExecuteTime": {
     "end_time": "2019-10-28T01:40:26.486416Z",
     "start_time": "2019-10-28T01:40:26.482367Z"
    }
   },
   "outputs": [],
   "source": [
    "my_dict.get(\"d\", \"\") # avoid the possibility of error with the get function "
   ]
  },
  {
   "cell_type": "markdown",
   "metadata": {},
   "source": [
    "### Example 51 (Accessing Keys - Bulk)"
   ]
  },
  {
   "cell_type": "code",
   "execution_count": null,
   "metadata": {
    "ExecuteTime": {
     "end_time": "2019-10-28T01:40:27.608716Z",
     "start_time": "2019-10-28T01:40:27.605331Z"
    },
    "scrolled": true
   },
   "outputs": [],
   "source": [
    "print(my_dict.keys()) # returns a new view of the dictionary's items (refer to example 2.4.1 for a refresher on views)\n",
    "print(list(my_dict.keys()))"
   ]
  },
  {
   "cell_type": "markdown",
   "metadata": {},
   "source": [
    "### Example 52 (Accessing Values - Bulk)"
   ]
  },
  {
   "cell_type": "code",
   "execution_count": null,
   "metadata": {
    "ExecuteTime": {
     "end_time": "2019-10-28T01:40:29.279198Z",
     "start_time": "2019-10-28T01:40:29.274577Z"
    }
   },
   "outputs": [],
   "source": [
    "print(my_dict.values()) # returns a new view of the dictionary's values \n",
    "print(list(my_dict.values()))"
   ]
  },
  {
   "cell_type": "markdown",
   "metadata": {},
   "source": [
    "### Example 53 (Accessing Items - Bulk)"
   ]
  },
  {
   "cell_type": "code",
   "execution_count": null,
   "metadata": {
    "ExecuteTime": {
     "end_time": "2019-10-28T01:40:30.650810Z",
     "start_time": "2019-10-28T01:40:30.647783Z"
    }
   },
   "outputs": [],
   "source": [
    "print(my_dict.items()) # returns a new view of the dictionary's items \n",
    "print(list(my_dict.items()))"
   ]
  },
  {
   "cell_type": "markdown",
   "metadata": {},
   "source": [
    "###  More Dictionary Operations "
   ]
  },
  {
   "cell_type": "markdown",
   "metadata": {},
   "source": [
    "__Overview:__\n",
    "- Since the `dict` type is mutable, we can perform both the common mapping operations and the mutable mapping type operations\n",
    "\n",
    "__Helpful Points:__\n",
    "1. Below, Part 1 will cover the common mapping operations (membership test operations and other operations)\n",
    "2. Below, Part 2 will cover the mutable mapping type operations (changing elements, adding elements, and removing elements)\n",
    "\n",
    "__Practice:__ Examples of Dictionary Operations in Python "
   ]
  },
  {
   "cell_type": "markdown",
   "metadata": {},
   "source": [
    "### Part 1: Common mapping operations "
   ]
  },
  {
   "cell_type": "markdown",
   "metadata": {},
   "source": [
    "### Example 54 (Membership Test Operations):"
   ]
  },
  {
   "cell_type": "code",
   "execution_count": null,
   "metadata": {
    "ExecuteTime": {
     "end_time": "2019-10-28T01:39:23.464833Z",
     "start_time": "2019-10-28T01:39:23.460512Z"
    }
   },
   "outputs": [],
   "source": [
    "my_dict"
   ]
  },
  {
   "cell_type": "code",
   "execution_count": null,
   "metadata": {
    "ExecuteTime": {
     "end_time": "2019-10-28T01:39:26.836804Z",
     "start_time": "2019-10-28T01:39:26.833045Z"
    }
   },
   "outputs": [],
   "source": [
    "\"a\" in my_dict"
   ]
  },
  {
   "cell_type": "code",
   "execution_count": null,
   "metadata": {
    "ExecuteTime": {
     "end_time": "2019-10-28T01:39:35.461992Z",
     "start_time": "2019-10-28T01:39:35.458243Z"
    }
   },
   "outputs": [],
   "source": [
    "1 in my_dict"
   ]
  },
  {
   "cell_type": "markdown",
   "metadata": {},
   "source": [
    "Note membership test operations can only be done on the keys since individual values and items can not be accessed (see above)"
   ]
  },
  {
   "cell_type": "markdown",
   "metadata": {},
   "source": [
    "### Example 55 (Copy):"
   ]
  },
  {
   "cell_type": "code",
   "execution_count": null,
   "metadata": {},
   "outputs": [],
   "source": [
    "my_dict_copy = my_dict.copy() # return a shallow copy of the dictionary \n",
    "print(my_dict_copy)"
   ]
  },
  {
   "cell_type": "markdown",
   "metadata": {},
   "source": [
    "### Part 2: Mutable mapping type operations"
   ]
  },
  {
   "cell_type": "markdown",
   "metadata": {},
   "source": [
    "### Example 56 (Changing Elements):"
   ]
  },
  {
   "cell_type": "code",
   "execution_count": null,
   "metadata": {
    "ExecuteTime": {
     "end_time": "2019-10-28T01:41:18.992311Z",
     "start_time": "2019-10-28T01:41:18.989301Z"
    }
   },
   "outputs": [],
   "source": [
    "print(my_dict)"
   ]
  },
  {
   "cell_type": "code",
   "execution_count": null,
   "metadata": {
    "ExecuteTime": {
     "end_time": "2019-10-28T01:41:26.042421Z",
     "start_time": "2019-10-28T01:41:26.040002Z"
    }
   },
   "outputs": [],
   "source": [
    "my_dict[\"a\"] = 5\n",
    "print(my_dict)"
   ]
  },
  {
   "cell_type": "markdown",
   "metadata": {},
   "source": [
    "### Example 2.2 (Adding Elements):"
   ]
  },
  {
   "cell_type": "code",
   "execution_count": null,
   "metadata": {
    "ExecuteTime": {
     "end_time": "2019-10-28T01:41:48.334134Z",
     "start_time": "2019-10-28T01:41:48.331527Z"
    }
   },
   "outputs": [],
   "source": [
    "my_dict[\"d\"] = 6 # adds new item if the key doesn't already exist \n",
    "print(my_dict)"
   ]
  },
  {
   "cell_type": "markdown",
   "metadata": {},
   "source": [
    "### Problem 8\n",
    "\n",
    "Create a dictionary that contain key-value pairs corresponding to your city of birth, country of birth and current city. Add an element which contains your current country."
   ]
  },
  {
   "cell_type": "code",
   "execution_count": null,
   "metadata": {
    "ExecuteTime": {
     "end_time": "2019-10-28T03:44:57.431731Z",
     "start_time": "2019-10-28T03:44:57.429545Z"
    }
   },
   "outputs": [],
   "source": [
    "# Write your code here\n"
   ]
  },
  {
   "cell_type": "code",
   "execution_count": null,
   "metadata": {},
   "outputs": [],
   "source": []
  }
 ],
 "metadata": {
  "kernelspec": {
   "display_name": "Python 3",
   "language": "python",
   "name": "python3"
  },
  "language_info": {
   "codemirror_mode": {
    "name": "ipython",
    "version": 3
   },
   "file_extension": ".py",
   "mimetype": "text/x-python",
   "name": "python",
   "nbconvert_exporter": "python",
   "pygments_lexer": "ipython3",
   "version": "3.7.1"
  }
 },
 "nbformat": 4,
 "nbformat_minor": 2
}
