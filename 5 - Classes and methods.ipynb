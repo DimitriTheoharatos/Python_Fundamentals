{
 "cells": [
  {
   "cell_type": "markdown",
   "metadata": {},
   "source": [
    "# Classes and Objects"
   ]
  },
  {
   "cell_type": "markdown",
   "metadata": {},
   "source": [
    "Python is an __[Object Oriented Programming](https://en.wikipedia.org/wiki/Object-oriented_programming)__ language. This means that we use a code template for creating objects which we refer to as classes.  An instantiation of a class is referred to as an object.  \n",
    "\n",
    "\n",
    "A class defines a set of attributes that will characterize any object that is instantiated from this class. It can be interpreted as a blueprint that all objects within that class will follow.  \n",
    "\n",
    "\n",
    "\n"
   ]
  },
  {
   "cell_type": "markdown",
   "metadata": {},
   "source": [
    "## Object Methods"
   ]
  },
  {
   "cell_type": "markdown",
   "metadata": {},
   "source": [
    "__Overview:__\n",
    "- __[Methods](https://docs.python.org/2/tutorial/classes.html#method-objects):__ Methods are a specific type of function that \"belongs\" to an object\n",
    "- Each object (for example, a `list`) has many \"capabilities\" (i.e. a `list` object is capable of the following: `append`, `remove`, `insert`, `count`, `extend`, etc.)\n",
    "- You can think of these \"capabilities\" as functions that ONLY lists are capable of (and therefore, `str` objects are not capable of) \n",
    "- These \"internal\" capabilities (functions) are strictly called __Methods__ since they are not stand-alone functions that you can use with any object, instead they are specific to the object they belong to\n",
    "- The general form of a __Method__ is: `obj.methodname()` where `obj` is some object and `methodname` is the name of a method that belongs to the object (or we can say the name of the function for illustrative purposes) "
   ]
  },
  {
   "cell_type": "markdown",
   "metadata": {},
   "source": [
    "### Example 1 (Methods with No Arguments):"
   ]
  },
  {
   "cell_type": "code",
   "execution_count": null,
   "metadata": {
    "ExecuteTime": {
     "end_time": "2019-10-28T04:09:19.629376Z",
     "start_time": "2019-10-28T04:09:19.626440Z"
    }
   },
   "outputs": [],
   "source": [
    "my_str = \"Python\""
   ]
  },
  {
   "cell_type": "code",
   "execution_count": null,
   "metadata": {
    "ExecuteTime": {
     "end_time": "2019-10-28T04:09:20.131325Z",
     "start_time": "2019-10-28T04:09:20.127984Z"
    }
   },
   "outputs": [],
   "source": [
    "# method to make string upper case \n",
    "my_str = my_str.upper() # my_str is the object and upper is the method name\n",
    "print(my_str)"
   ]
  },
  {
   "cell_type": "code",
   "execution_count": null,
   "metadata": {
    "ExecuteTime": {
     "end_time": "2019-10-28T04:09:20.212792Z",
     "start_time": "2019-10-28T04:09:20.209740Z"
    }
   },
   "outputs": [],
   "source": [
    "# method to make string lower case \n",
    "my_str = my_str.lower() # my_str is the object and lower is the method name\n",
    "print(my_str)"
   ]
  },
  {
   "cell_type": "markdown",
   "metadata": {},
   "source": [
    "### Example 2 (Methods with Arguments):"
   ]
  },
  {
   "cell_type": "code",
   "execution_count": null,
   "metadata": {
    "ExecuteTime": {
     "end_time": "2019-10-28T04:09:20.745707Z",
     "start_time": "2019-10-28T04:09:20.742478Z"
    }
   },
   "outputs": [],
   "source": [
    "# method to replace \"g\" with \"j\"\n",
    "my_str = my_str.replace(\"g\", \"j\") # my_str is the object and replace is the method name \n",
    "print(my_str)"
   ]
  },
  {
   "cell_type": "code",
   "execution_count": null,
   "metadata": {
    "ExecuteTime": {
     "end_time": "2019-10-28T04:09:21.299848Z",
     "start_time": "2019-10-28T04:09:21.290503Z"
    }
   },
   "outputs": [],
   "source": [
    "# method to find the first occurrence of a character in a string\n",
    "my_str.find(\"o\") # my_str is the object and find is the method name "
   ]
  },
  {
   "cell_type": "markdown",
   "metadata": {
    "ExecuteTime": {
     "end_time": "2019-10-23T19:41:51.127056Z",
     "start_time": "2019-10-23T19:41:51.083020Z"
    }
   },
   "source": [
    "# Creating a Class"
   ]
  },
  {
   "cell_type": "markdown",
   "metadata": {},
   "source": [
    "We can also create classes similar to the built-in Python classes. Let's build a blueprint for a person as an example. "
   ]
  },
  {
   "cell_type": "markdown",
   "metadata": {},
   "source": [
    "In order to create a class, we use Python's keyword `class`:"
   ]
  },
  {
   "cell_type": "code",
   "execution_count": null,
   "metadata": {
    "ExecuteTime": {
     "end_time": "2019-10-28T04:09:31.159383Z",
     "start_time": "2019-10-28T04:09:31.156682Z"
    }
   },
   "outputs": [],
   "source": [
    "class Person:\n",
    "    pass"
   ]
  },
  {
   "cell_type": "markdown",
   "metadata": {},
   "source": [
    "### The `__init__()` Function"
   ]
  },
  {
   "cell_type": "markdown",
   "metadata": {},
   "source": [
    "All classes have the built-in `__init__` function that is always executed once a class is initiated to form an object. "
   ]
  },
  {
   "cell_type": "code",
   "execution_count": null,
   "metadata": {
    "ExecuteTime": {
     "end_time": "2019-10-28T04:09:32.247897Z",
     "start_time": "2019-10-28T04:09:32.244828Z"
    }
   },
   "outputs": [],
   "source": [
    "class Person:\n",
    "    def __init__(self, name, age):\n",
    "        self.name = name\n",
    "        self.age = age\n"
   ]
  },
  {
   "cell_type": "code",
   "execution_count": null,
   "metadata": {
    "ExecuteTime": {
     "end_time": "2019-10-28T04:09:32.609237Z",
     "start_time": "2019-10-28T04:09:32.606628Z"
    }
   },
   "outputs": [],
   "source": [
    "person_1 = Person('Sarah', 32)"
   ]
  },
  {
   "cell_type": "code",
   "execution_count": null,
   "metadata": {
    "ExecuteTime": {
     "end_time": "2019-10-28T04:09:35.028074Z",
     "start_time": "2019-10-28T04:09:35.024282Z"
    }
   },
   "outputs": [],
   "source": [
    "person_1"
   ]
  },
  {
   "cell_type": "markdown",
   "metadata": {},
   "source": [
    "## The `self` Parameter"
   ]
  },
  {
   "cell_type": "markdown",
   "metadata": {},
   "source": [
    "Every `class` definition contains a `self` parameter, which is a reference to the current instance of the class.  It is always the first parameter that is passed to any function within a class.  This parameter allows multiple objects to be instantiated that are all a part of the same `class`. "
   ]
  },
  {
   "cell_type": "markdown",
   "metadata": {},
   "source": [
    "Notice in the above class instantiation, we did not pass `self` as a parameter.  This is because the object itself is automatically passed as the first parameter.  "
   ]
  },
  {
   "cell_type": "markdown",
   "metadata": {},
   "source": [
    "## Instance Attributes"
   ]
  },
  {
   "cell_type": "markdown",
   "metadata": {},
   "source": [
    "Once we instantiate our class, we can access the attribures associated with that instance.  This is done as follows:"
   ]
  },
  {
   "cell_type": "code",
   "execution_count": null,
   "metadata": {
    "ExecuteTime": {
     "end_time": "2019-10-28T04:09:43.618271Z",
     "start_time": "2019-10-28T04:09:43.614659Z"
    }
   },
   "outputs": [],
   "source": [
    "person_1.age"
   ]
  },
  {
   "cell_type": "code",
   "execution_count": null,
   "metadata": {
    "ExecuteTime": {
     "end_time": "2019-10-28T04:09:44.181435Z",
     "start_time": "2019-10-28T04:09:44.178199Z"
    }
   },
   "outputs": [],
   "source": [
    "person_1.name"
   ]
  },
  {
   "cell_type": "markdown",
   "metadata": {},
   "source": [
    "## Creating Methods within a Class"
   ]
  },
  {
   "cell_type": "markdown",
   "metadata": {},
   "source": [
    "Once we initialize our class, it would be useful to have methods within that class so that we can do more with our objects.  For example, imagine one of our `Person` objects has a birthday.  In that case, we would want to increase the age by 1.  Let's create a method for this!"
   ]
  },
  {
   "cell_type": "code",
   "execution_count": null,
   "metadata": {
    "ExecuteTime": {
     "end_time": "2019-10-28T04:09:50.553104Z",
     "start_time": "2019-10-28T04:09:50.549686Z"
    }
   },
   "outputs": [],
   "source": [
    "class Person:\n",
    "    def __init__(self, name, age):\n",
    "        self.name = name\n",
    "        self.age = age\n",
    "        \n",
    "    def birthday(self):\n",
    "        self.age += 1\n"
   ]
  },
  {
   "cell_type": "code",
   "execution_count": null,
   "metadata": {
    "ExecuteTime": {
     "end_time": "2019-10-28T04:09:50.887957Z",
     "start_time": "2019-10-28T04:09:50.885206Z"
    }
   },
   "outputs": [],
   "source": [
    "person_1 = Person('Sarah', 32)"
   ]
  },
  {
   "cell_type": "code",
   "execution_count": null,
   "metadata": {
    "ExecuteTime": {
     "end_time": "2019-10-28T04:09:51.344429Z",
     "start_time": "2019-10-28T04:09:51.340604Z"
    }
   },
   "outputs": [],
   "source": [
    "person_1.age"
   ]
  },
  {
   "cell_type": "code",
   "execution_count": null,
   "metadata": {
    "ExecuteTime": {
     "end_time": "2019-10-28T04:09:51.955556Z",
     "start_time": "2019-10-28T04:09:51.953113Z"
    }
   },
   "outputs": [],
   "source": [
    "person_1.birthday()"
   ]
  },
  {
   "cell_type": "code",
   "execution_count": null,
   "metadata": {
    "ExecuteTime": {
     "end_time": "2019-10-28T04:09:53.036261Z",
     "start_time": "2019-10-28T04:09:53.032013Z"
    }
   },
   "outputs": [],
   "source": [
    "person_1.age"
   ]
  },
  {
   "cell_type": "markdown",
   "metadata": {},
   "source": [
    "### Problem 1:\n",
    "\n",
    "Create a method within our `Person` class that stores the pets that a person has. \n",
    "- Create a list variable `self.pets` in the `__init__` function and initialize to be empty\n",
    "- Create a method called `add_pet` that updates `self.pets` when a person gets a new pet\n",
    "- The method should have three parameters: `self`, `pet_type`, and `pet_name`. \n",
    "- `self.pets` should contain a list of tuples, where each tuple contains the type of pet and it's respective name\n",
    "\n"
   ]
  },
  {
   "cell_type": "code",
   "execution_count": null,
   "metadata": {
    "ExecuteTime": {
     "end_time": "2019-10-28T04:09:54.905561Z",
     "start_time": "2019-10-28T04:09:54.901802Z"
    }
   },
   "outputs": [],
   "source": [
    "class Person:\n",
    "    def __init__(self, name, age):\n",
    "        self.name = name\n",
    "        self.age = age\n",
    "        #your code here\n",
    "    def birthday(self):\n",
    "        self.age += 1\n",
    "        \n",
    "    #your code here\n",
    "    \n",
    "        \n",
    "    \n",
    "    "
   ]
  },
  {
   "cell_type": "markdown",
   "metadata": {},
   "source": [
    "# Importing Classes from Python Files"
   ]
  },
  {
   "cell_type": "markdown",
   "metadata": {},
   "source": [
    "If you look into the `person.py` file within this directory, you will see that the Person class is defined within that file as well, except it is named `Person_2` in order to differentiate from the class we already have defined above.  \n",
    "\n",
    "In order to use this class, we import it into our variable namespace just like we have done previously with other modules."
   ]
  },
  {
   "cell_type": "code",
   "execution_count": null,
   "metadata": {
    "ExecuteTime": {
     "end_time": "2019-10-28T04:09:56.849857Z",
     "start_time": "2019-10-28T04:09:56.725776Z"
    }
   },
   "outputs": [],
   "source": [
    "#look at the output of our person.py file\n",
    "!cat person.py"
   ]
  },
  {
   "cell_type": "code",
   "execution_count": null,
   "metadata": {
    "ExecuteTime": {
     "end_time": "2019-10-28T04:09:58.410296Z",
     "start_time": "2019-10-28T04:09:58.406898Z"
    }
   },
   "outputs": [],
   "source": [
    "from person import Person_2"
   ]
  },
  {
   "cell_type": "code",
   "execution_count": null,
   "metadata": {
    "ExecuteTime": {
     "end_time": "2019-10-28T04:09:58.651449Z",
     "start_time": "2019-10-28T04:09:58.647615Z"
    }
   },
   "outputs": [],
   "source": [
    "person_2 = Person_2('Jose', 45)\n",
    "\n",
    "print(person_2.age)\n",
    "print(person_2.name)\n"
   ]
  }
 ],
 "metadata": {
  "kernelspec": {
   "display_name": "Python 3",
   "language": "python",
   "name": "python3"
  },
  "language_info": {
   "codemirror_mode": {
    "name": "ipython",
    "version": 3
   },
   "file_extension": ".py",
   "mimetype": "text/x-python",
   "name": "python",
   "nbconvert_exporter": "python",
   "pygments_lexer": "ipython3",
   "version": "3.7.1"
  }
 },
 "nbformat": 4,
 "nbformat_minor": 2
}
