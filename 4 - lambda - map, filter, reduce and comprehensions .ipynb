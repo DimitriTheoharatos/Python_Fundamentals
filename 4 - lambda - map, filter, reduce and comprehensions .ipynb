{
 "cells": [
  {
   "cell_type": "markdown",
   "metadata": {},
   "source": [
    "###  Lambda Expressions"
   ]
  },
  {
   "cell_type": "markdown",
   "metadata": {},
   "source": [
    "__Overview:__\n",
    "- __[Lambda Expressions](https://docs.python.org/3/tutorial/controlflow.html#lambda-expressions):__ Lambda Expressions are small, anonymous functions that can be created with the `lambda` keyword  \n",
    "- Lambda Expressions are just another tool for building functions. In summary, we can build a function in Python using one of the following methods:\n",
    "> 1. `def` keyword as we saw in Lecture 3\n",
    "> 2. `lambda` keyword as explained here\n",
    "- Functions built using Lambda Expressions have a few dominating characteristics:\n",
    "> 1. __Anonymous:__ Lambda Functions are __[Anonymous Functions](https://en.wikipedia.org/wiki/Anonymous_function)__ which means they do not require a name to be used immediately and can be developed without a proper definition (like we needed with `def` in Lecture 3)\n",
    "> 2. __Ad-Hoc:__ Lambda Functions are used in an \"ad-hoc\" fashion. This means that we only create the function when we need it, use it immediately, and never use it again\n",
    "> 3. __Short:__ Lambda Functions support only minimal input, requiring that the body of the function is short\n",
    "- Lambda Expressions are NOT mandatory and we can definitely do without them, but in some scenarios they can be useful for writing cleaner and more efficient code \n",
    "\n",
    "__Helpful Points:__\n",
    "1. Many programming languages support Anonymous Functions in different forms, while Python supports it using the `lambda` form\n",
    "2. Lambda Expressions are most beneficial when used in conjunction with the functions `map()`, `filter()`, and `reduce()` which are covered in subsequent sections"
   ]
  },
  {
   "cell_type": "markdown",
   "metadata": {},
   "source": [
    "### Lambda Expressions in Python:"
   ]
  },
  {
   "cell_type": "markdown",
   "metadata": {},
   "source": [
    "__Overview:__\n",
    "- In general, Functions using Lambda Expressions can be written in Python using the following syntax: `func_name = lambda input : <expression>` vs. a Function using the `def` keyword: `def func_name(input): return <expression>`\n",
    "- The reason why Lambda Functions are anonymous is because we don't need to assign the Lambda Function to a variable, per se: `lambda input : <expression>` \n",
    "- Notice the differences between a function built with the `lambda` keyword and a function built with the `def` keyword: \n",
    "> 1. No `return` statement in Lambda Functions (it is there, but only implicitly) \n",
    "> 2. Lambda Functions are ALWAYS one-line, whereas traditional functions are not \n",
    "- In practice, Lambda Expressions can accept the following (basically anything that can be used on the right-hand side of the equal `=` sign): \n",
    "> 1. Mathematical operations (i.e adding, subtracting, multiplying, etc.)\n",
    "> 2. String operations (i.e. slicing `[:]`)\n",
    "> 3. Any Function (i.e. `print()`)\n",
    "> 4. Conditional Expressions (i.e. \"large\" if x > 100 else \"small\" - see Lecture 3)\n",
    "- In practice, Lambda Expressions can NOT accept the following (basically anything that does not return a value):\n",
    "> 1. Assignment statements (i.e. x = 1)\n",
    "> 2. Multiple Expressions (i.e. `print()` and slicing `[:]`)\n",
    "\n",
    "__Helpful Points:__\n",
    "1. Lambdas are restrictive because, strictly speaking, they can take only a single __[expression](https://docs.python.org/3/reference/expressions.html)__ (expressions \"represent\" something like a number or string and any value is an expression vs. a __[statement](https://docs.python.org/2/reference/simple_stmts.html)__ which is \"doing\" something like assigning a value to some variable)\n",
    "2. Lambda Functions can also take multiple inputs (just like tradtional functions) in the following way: `lambda input_1, input_2: <expression>`\n",
    "\n",
    "__Practice:__ Examples of Lambda Expressions in Python"
   ]
  },
  {
   "cell_type": "markdown",
   "metadata": {},
   "source": [
    "### Part 1 (Functions using `def` and `lambda`):"
   ]
  },
  {
   "cell_type": "markdown",
   "metadata": {},
   "source": [
    "### Example 1 (Square Number):"
   ]
  },
  {
   "cell_type": "code",
   "execution_count": null,
   "metadata": {
    "ExecuteTime": {
     "end_time": "2019-10-28T03:23:03.971729Z",
     "start_time": "2019-10-28T03:23:03.940687Z"
    }
   },
   "outputs": [],
   "source": [
    "# function to square a number using def\n",
    "def square_def(num):\n",
    "    return num ** 2"
   ]
  },
  {
   "cell_type": "code",
   "execution_count": null,
   "metadata": {
    "ExecuteTime": {
     "end_time": "2019-10-28T03:23:04.328413Z",
     "start_time": "2019-10-28T03:23:04.309328Z"
    }
   },
   "outputs": [],
   "source": [
    "square_def(5)"
   ]
  },
  {
   "cell_type": "code",
   "execution_count": null,
   "metadata": {
    "ExecuteTime": {
     "end_time": "2019-10-28T03:23:04.752086Z",
     "start_time": "2019-10-28T03:23:04.746683Z"
    }
   },
   "outputs": [],
   "source": [
    "# function to square a number using lambda\n",
    "lambda num: num ** 2 # we don't name this function (thus, anonymous)"
   ]
  },
  {
   "cell_type": "code",
   "execution_count": null,
   "metadata": {
    "ExecuteTime": {
     "end_time": "2019-10-28T03:23:05.188969Z",
     "start_time": "2019-10-28T03:23:05.186353Z"
    }
   },
   "outputs": [],
   "source": [
    "square_lambda = lambda num: num ** 2"
   ]
  },
  {
   "cell_type": "code",
   "execution_count": null,
   "metadata": {
    "ExecuteTime": {
     "end_time": "2019-10-28T03:23:05.623107Z",
     "start_time": "2019-10-28T03:23:05.619313Z"
    }
   },
   "outputs": [],
   "source": [
    "square_lambda(5)"
   ]
  },
  {
   "cell_type": "markdown",
   "metadata": {},
   "source": [
    "### Example 2 (Add Numbers):"
   ]
  },
  {
   "cell_type": "code",
   "execution_count": null,
   "metadata": {
    "ExecuteTime": {
     "end_time": "2019-10-28T03:23:11.265580Z",
     "start_time": "2019-10-28T03:23:11.262693Z"
    }
   },
   "outputs": [],
   "source": [
    "# function to add two numbers using def \n",
    "def add_nums_def(num_1, num_2):\n",
    "    return num_1 + num_2"
   ]
  },
  {
   "cell_type": "code",
   "execution_count": null,
   "metadata": {
    "ExecuteTime": {
     "end_time": "2019-10-28T03:23:11.543000Z",
     "start_time": "2019-10-28T03:23:11.531982Z"
    }
   },
   "outputs": [],
   "source": [
    "add_nums_def(30, 4)"
   ]
  },
  {
   "cell_type": "code",
   "execution_count": null,
   "metadata": {
    "ExecuteTime": {
     "end_time": "2019-10-28T03:23:12.681720Z",
     "start_time": "2019-10-28T03:23:12.677766Z"
    }
   },
   "outputs": [],
   "source": [
    "# function to add two numbers using lambda\n",
    "lambda num_1, num_2: num_1 + num_2"
   ]
  },
  {
   "cell_type": "code",
   "execution_count": null,
   "metadata": {
    "ExecuteTime": {
     "end_time": "2019-10-28T03:23:13.183653Z",
     "start_time": "2019-10-28T03:23:13.180159Z"
    }
   },
   "outputs": [],
   "source": [
    "add_nums_lambda = lambda num_1, num_2: num_1 + num_2"
   ]
  },
  {
   "cell_type": "code",
   "execution_count": null,
   "metadata": {
    "ExecuteTime": {
     "end_time": "2019-10-28T03:23:14.423104Z",
     "start_time": "2019-10-28T03:23:14.419511Z"
    }
   },
   "outputs": [],
   "source": [
    "add_nums_lambda(30, 4)"
   ]
  },
  {
   "cell_type": "markdown",
   "metadata": {},
   "source": [
    "### Example 3 (Check Even):"
   ]
  },
  {
   "cell_type": "code",
   "execution_count": null,
   "metadata": {
    "ExecuteTime": {
     "end_time": "2019-10-28T03:25:48.589431Z",
     "start_time": "2019-10-28T03:25:48.584950Z"
    }
   },
   "outputs": [],
   "source": [
    "5%2 == 0 # evaluates to a Boolean value so it is okay for a Lambda "
   ]
  },
  {
   "cell_type": "code",
   "execution_count": null,
   "metadata": {
    "ExecuteTime": {
     "end_time": "2019-10-28T03:25:49.117734Z",
     "start_time": "2019-10-28T03:25:49.114888Z"
    }
   },
   "outputs": [],
   "source": [
    "# function to check if number is even\n",
    "check_even = lambda num: num%2 == 0 "
   ]
  },
  {
   "cell_type": "code",
   "execution_count": null,
   "metadata": {
    "ExecuteTime": {
     "end_time": "2019-10-28T03:25:49.376786Z",
     "start_time": "2019-10-28T03:25:49.373207Z"
    }
   },
   "outputs": [],
   "source": [
    "check_even(2)"
   ]
  },
  {
   "cell_type": "markdown",
   "metadata": {},
   "source": [
    "## Map, Filter, and Reduce Functions"
   ]
  },
  {
   "cell_type": "markdown",
   "metadata": {},
   "source": [
    "### Map Functions"
   ]
  },
  {
   "cell_type": "markdown",
   "metadata": {},
   "source": [
    "__Overview:__\n",
    "- __[Map Function](https://docs.python.org/2/library/functions.html#map):__ Map is a built-in Python function and is useful for applying a function to every item of an `iterable` (i.e. sequence such as `list`, `str`, etc.) and returns a list of the results \n",
    "- The general form of the `map()` function is the following: `map(function, iterable, ...)`\n",
    "- Map functions make it easier to perform a function on every element of a sequence as opposed to wrapping this in a `for` loop and then applying the function on every iteration, for example (see Part 1 examples below) \n",
    "\n",
    "__Helpful Points:__\n",
    "1. The `map()` function can have more than one `iterable` passed into as long as the `function` requires this many arguments (see Part 3 examples below)\n",
    "2. If the `function` argument is `None`, the __[Identity Function](https://en.wikipedia.org/wiki/Identity_function)__ is assumed which returns the `iterable` as is (doesn't change its elements) \n",
    "3. Remember, Map Functions are commonly used in conjunction with Lambda Expressions (see Part 2 examples below)\n",
    "\n",
    "__Practice:__ Example of Map Functions in Python "
   ]
  },
  {
   "cell_type": "markdown",
   "metadata": {},
   "source": [
    "### Example 4 (Celsius to Fahrenheit):"
   ]
  },
  {
   "cell_type": "code",
   "execution_count": null,
   "metadata": {
    "ExecuteTime": {
     "end_time": "2019-10-28T03:26:25.134260Z",
     "start_time": "2019-10-28T03:26:25.131694Z"
    }
   },
   "outputs": [],
   "source": [
    "# define a function to convert celsius into fahrenheit \n",
    "def fahrenheit(cels):\n",
    "    return ((float(9/5)*cels + 32))"
   ]
  },
  {
   "cell_type": "code",
   "execution_count": null,
   "metadata": {
    "ExecuteTime": {
     "end_time": "2019-10-28T03:26:25.342657Z",
     "start_time": "2019-10-28T03:26:25.340234Z"
    }
   },
   "outputs": [],
   "source": [
    "temps_cels = [0, 32, 50, 100]"
   ]
  },
  {
   "cell_type": "code",
   "execution_count": null,
   "metadata": {
    "ExecuteTime": {
     "end_time": "2019-10-28T03:26:25.724432Z",
     "start_time": "2019-10-28T03:26:25.714031Z"
    }
   },
   "outputs": [],
   "source": [
    "# convert every element of the list to fahrenheit without map function\n",
    "temps_fahr = []\n",
    "for temps in temps_cels:\n",
    "    fahr = fahrenheit(temps) \n",
    "    temps_fahr.append(fahr)\n",
    "    \n",
    "print(temps_fahr)"
   ]
  },
  {
   "cell_type": "code",
   "execution_count": null,
   "metadata": {
    "ExecuteTime": {
     "end_time": "2019-10-28T03:26:34.208717Z",
     "start_time": "2019-10-28T03:26:34.204831Z"
    }
   },
   "outputs": [],
   "source": [
    "# convert every element of the list to fahrenheit with map function\n",
    "print(map(fahrenheit, temps_cels))\n",
    "print(list(map(fahrenheit, temps_cels)))"
   ]
  },
  {
   "cell_type": "markdown",
   "metadata": {},
   "source": [
    "### Example 5 (Squared):"
   ]
  },
  {
   "cell_type": "code",
   "execution_count": null,
   "metadata": {
    "ExecuteTime": {
     "end_time": "2019-10-28T03:26:45.644913Z",
     "start_time": "2019-10-28T03:26:45.641968Z"
    }
   },
   "outputs": [],
   "source": [
    "# define a function to square a number\n",
    "def squared(num):\n",
    "    return num ** 2"
   ]
  },
  {
   "cell_type": "code",
   "execution_count": null,
   "metadata": {
    "ExecuteTime": {
     "end_time": "2019-10-28T03:26:46.061391Z",
     "start_time": "2019-10-28T03:26:46.058516Z"
    }
   },
   "outputs": [],
   "source": [
    "my_nums = [2, 3, 5, 10]"
   ]
  },
  {
   "cell_type": "code",
   "execution_count": null,
   "metadata": {
    "ExecuteTime": {
     "end_time": "2019-10-28T03:26:46.404487Z",
     "start_time": "2019-10-28T03:26:46.400584Z"
    }
   },
   "outputs": [],
   "source": [
    "# square every element of the list without map function\n",
    "squared_nums = []\n",
    "for num in my_nums:\n",
    "    squared_num = squared(num)\n",
    "    squared_nums.append(squared_num)\n",
    "\n",
    "print(squared_nums)"
   ]
  },
  {
   "cell_type": "code",
   "execution_count": null,
   "metadata": {
    "ExecuteTime": {
     "end_time": "2019-10-28T03:26:48.446096Z",
     "start_time": "2019-10-28T03:26:48.442945Z"
    }
   },
   "outputs": [],
   "source": [
    "# square every element of the list with map function\n",
    "print(map(squared, my_nums))\n",
    "print(list(map(squared, my_nums)))"
   ]
  },
  {
   "cell_type": "markdown",
   "metadata": {},
   "source": [
    "### Example 6 (Celsius to Fahrenheit with Lambda):"
   ]
  },
  {
   "cell_type": "code",
   "execution_count": null,
   "metadata": {
    "ExecuteTime": {
     "end_time": "2019-10-28T03:27:12.188479Z",
     "start_time": "2019-10-28T03:27:12.185745Z"
    }
   },
   "outputs": [],
   "source": [
    "temps_cels = [0, 32, 50, 100]"
   ]
  },
  {
   "cell_type": "code",
   "execution_count": null,
   "metadata": {
    "ExecuteTime": {
     "end_time": "2019-10-28T03:27:17.007831Z",
     "start_time": "2019-10-28T03:27:17.004554Z"
    }
   },
   "outputs": [],
   "source": [
    "# map and lambda function\n",
    "print(list(map(lambda cels: float(9/5)*cels + 32, temps_cels)))"
   ]
  },
  {
   "cell_type": "markdown",
   "metadata": {},
   "source": [
    "Notes:\n",
    "- The `lambda` function is anonymous so it remains unnamed\n",
    "- The `lambda` function is the first argument into the `map` function \n",
    "- The `cels` variable is the input into the `lambda` function\n",
    "- The `temps_cels` variable is the second argument into the `map` function and indicates the `iterable` object in which you want to apply the `lambda` function to each of its elements"
   ]
  },
  {
   "cell_type": "markdown",
   "metadata": {},
   "source": [
    "### Example 7 (Squared with Lambda):"
   ]
  },
  {
   "cell_type": "code",
   "execution_count": null,
   "metadata": {
    "ExecuteTime": {
     "end_time": "2019-10-28T03:27:37.340085Z",
     "start_time": "2019-10-28T03:27:37.337651Z"
    }
   },
   "outputs": [],
   "source": [
    "my_nums = [2, 3, 5, 10]"
   ]
  },
  {
   "cell_type": "code",
   "execution_count": null,
   "metadata": {
    "ExecuteTime": {
     "end_time": "2019-10-28T03:27:37.739029Z",
     "start_time": "2019-10-28T03:27:37.735964Z"
    }
   },
   "outputs": [],
   "source": [
    "# map and lambda function\n",
    "print(list(map(lambda num: num ** 2, my_nums)))"
   ]
  },
  {
   "cell_type": "markdown",
   "metadata": {},
   "source": [
    "It is clear in the above examples that this is a very efficient way of writing this program as we were able to save over 10 lines of code with a simple, one-line equivalent. In this one-line equivalent, the Lambda Function was not defined by name and we \"threw it away\" after that line, which means we can't aceess it outside that Lambda Expression"
   ]
  },
  {
   "cell_type": "markdown",
   "metadata": {},
   "source": [
    "### Problem 1: \n",
    "\n",
    "Write a program to take a sentence and return the number of letters in each word to a list.\n",
    "\n",
    "- Show how you can do this using a `map` + `lambda` function\n",
    "- Some hints:\n",
    "> 1. First, initialize the sentence as a variable then use an appropriate string method to split the sentence into words\n",
    "> 2. Then, calculate the length of each word and return this to a list "
   ]
  },
  {
   "cell_type": "code",
   "execution_count": null,
   "metadata": {
    "ExecuteTime": {
     "end_time": "2019-10-28T03:29:47.917634Z",
     "start_time": "2019-10-28T03:29:47.913632Z"
    }
   },
   "outputs": [],
   "source": [
    "# Write your code here\n",
    "\n"
   ]
  },
  {
   "cell_type": "markdown",
   "metadata": {},
   "source": [
    "### Filter Functions"
   ]
  },
  {
   "cell_type": "markdown",
   "metadata": {},
   "source": [
    "__Overview:__\n",
    "- __[Filter Function](https://docs.python.org/2/library/functions.html#filter):__ Filter is a built-in function and is useful for a constructing a list of elements from the `iterable` argument for which the `function` returned `True` (it filters out all the elements of the `iterable` that were evaluated as `False`)  \n",
    "- The general form of the `filter()` function is the following: `filter(function, iterable)`\n",
    "- The `function` used in the first argument must return a Boolean Value (`True` or `False`) \n"
   ]
  },
  {
   "cell_type": "markdown",
   "metadata": {},
   "source": [
    "### Example 8 (Greater than Value):"
   ]
  },
  {
   "cell_type": "code",
   "execution_count": null,
   "metadata": {
    "ExecuteTime": {
     "end_time": "2019-10-28T03:31:18.563318Z",
     "start_time": "2019-10-28T03:31:18.554129Z"
    }
   },
   "outputs": [],
   "source": [
    "# function to check if a value is greater than or equal to 3\n",
    "def over_3(num):\n",
    "    if num >= 3:\n",
    "        return True"
   ]
  },
  {
   "cell_type": "code",
   "execution_count": null,
   "metadata": {
    "ExecuteTime": {
     "end_time": "2019-10-28T03:31:18.963156Z",
     "start_time": "2019-10-28T03:31:18.960534Z"
    }
   },
   "outputs": [],
   "source": [
    "my_list = [2, 4, 10, 3, 1]"
   ]
  },
  {
   "cell_type": "code",
   "execution_count": null,
   "metadata": {
    "ExecuteTime": {
     "end_time": "2019-10-28T03:31:19.499719Z",
     "start_time": "2019-10-28T03:31:19.489746Z"
    }
   },
   "outputs": [],
   "source": [
    "# filter the list so it contains only elements that are greater or equal than 3 without filter function\n",
    "over_3_list = []\n",
    "for num in my_list:\n",
    "    # check if function returns true\n",
    "    if over_3(num):\n",
    "        over_3_list.append(num)\n",
    "\n",
    "print(over_3_list)"
   ]
  },
  {
   "cell_type": "code",
   "execution_count": null,
   "metadata": {
    "ExecuteTime": {
     "end_time": "2019-10-28T03:31:21.467268Z",
     "start_time": "2019-10-28T03:31:21.464222Z"
    }
   },
   "outputs": [],
   "source": [
    "# filter the list so it contains only elements that are greater or equal than 3 with filter function\n",
    "print(list(filter(over_3, my_list)))"
   ]
  },
  {
   "cell_type": "markdown",
   "metadata": {},
   "source": [
    "### Example 9 (Greater than Value with lambda):"
   ]
  },
  {
   "cell_type": "code",
   "execution_count": null,
   "metadata": {
    "ExecuteTime": {
     "end_time": "2019-10-28T03:31:49.163499Z",
     "start_time": "2019-10-28T03:31:49.160431Z"
    }
   },
   "outputs": [],
   "source": [
    "print(list(filter(lambda num: num >= 3, my_list)))"
   ]
  },
  {
   "cell_type": "markdown",
   "metadata": {},
   "source": [
    "### Reduce Functions"
   ]
  },
  {
   "cell_type": "markdown",
   "metadata": {},
   "source": [
    "__Overview:__\n",
    "- __[Reduce Function](https://docs.python.org/2/library/functions.html#reduce):__ Reduce Function is useful for applying a function of 2 arguments cumulatively to the items of `iterable`, from left to right, so to reduce the iterable to a single value \n",
    "- The general form of the `reduce()` function is the following: `reduce(function, iterable)`\n",
    "- For a sequence `seq = [s1, s2, s3, ..., sn]`, calling `reduce(function, seq)` would result in the following operations: \n",
    "> 1. First 2 elements (s1, s2) are applied to the function (`func(s1, s2)`) and the list now becomes `[func(s1, s2), s3, ..., sn]`\n",
    "> 2. Result of 1 and the third element (func(s1, s2), s3) are applied to the function (`func(func(s1, s2), s3)`) and the list now becomes `[func(func(s1, s2), s3), ..., sn]`\n",
    "> 3. Continue like this until there is only one element left \n",
    "\n",
    "__Helpful Points:__\n",
    "1. Remember, Reduce Functions are commonly used in conjunction with Lambda Expressions (see Example 2 below)\n",
    "\n",
    "__Practice:__ Example of Reduce Functions in Python "
   ]
  },
  {
   "cell_type": "markdown",
   "metadata": {},
   "source": [
    "### Example 10 (Loop vs. Reduce Function):"
   ]
  },
  {
   "cell_type": "code",
   "execution_count": null,
   "metadata": {
    "ExecuteTime": {
     "end_time": "2019-10-28T03:32:06.587490Z",
     "start_time": "2019-10-28T03:32:06.584772Z"
    }
   },
   "outputs": [],
   "source": [
    "# function to calculate product \n",
    "def product_seq(num_1, num_2):\n",
    "    return num_1 * num_2"
   ]
  },
  {
   "cell_type": "code",
   "execution_count": null,
   "metadata": {
    "ExecuteTime": {
     "end_time": "2019-10-28T03:32:06.830207Z",
     "start_time": "2019-10-28T03:32:06.826765Z"
    }
   },
   "outputs": [],
   "source": [
    "my_list = [2, 4, 10, 3, 1]"
   ]
  },
  {
   "cell_type": "code",
   "execution_count": null,
   "metadata": {
    "ExecuteTime": {
     "end_time": "2019-10-28T03:32:07.246695Z",
     "start_time": "2019-10-28T03:32:07.242542Z"
    }
   },
   "outputs": [],
   "source": [
    "# reduce the list to one number which is a rolling product without reduce function \n",
    "prod = 1 \n",
    "for num in my_list:\n",
    "    prod = product_seq(prod, num)\n",
    "\n",
    "print(prod)"
   ]
  },
  {
   "cell_type": "code",
   "execution_count": null,
   "metadata": {
    "ExecuteTime": {
     "end_time": "2019-10-28T03:32:26.661807Z",
     "start_time": "2019-10-28T03:32:26.659199Z"
    }
   },
   "outputs": [],
   "source": [
    "# import the reduce function from the functools module (recall this syntax from lecture 3)\n",
    "from functools import reduce"
   ]
  },
  {
   "cell_type": "code",
   "execution_count": null,
   "metadata": {
    "ExecuteTime": {
     "end_time": "2019-10-28T03:32:27.398414Z",
     "start_time": "2019-10-28T03:32:27.394260Z"
    },
    "scrolled": true
   },
   "outputs": [],
   "source": [
    "# reduce the list to one number which is a rolling product with reduce function \n",
    "print(reduce(product_seq, [2, 4, 10, 3, 1]))"
   ]
  },
  {
   "cell_type": "markdown",
   "metadata": {},
   "source": [
    "### Example 11 (Reduce Function with Lambda Expression):\n",
    "\n",
    "- In the example above, we created (and named) a function using the `def` keyword. This allowed us to call on that function at any future point in the program\n",
    "- What if we created the same function, but anonymously (without a name) and just used it on an \"as-needed\" basis and \"threw it away\" when we were finished with it "
   ]
  },
  {
   "cell_type": "code",
   "execution_count": null,
   "metadata": {},
   "outputs": [],
   "source": [
    "my_list = [47, 11, 42, 13]\n",
    "print(reduce(lambda num_1, num_2: num_1 + num_2, my_list))"
   ]
  },
  {
   "cell_type": "markdown",
   "metadata": {},
   "source": [
    "Reduce Functions are easily visualized. In the above example, the following visualization illustrates what takes place: <img src=\"img22.png\">"
   ]
  },
  {
   "cell_type": "markdown",
   "metadata": {},
   "source": [
    "Interpretation:\n",
    "- For the sequence `seq = [47, 11, 42, 14]`, calling `reduce(function, seq)` results in the following operations: \n",
    "> 1. First 2 elements (47, 11) are applied to the function (`func(s1, s2)`) and the list now becomes `[58, 42, 13]`\n",
    "> 2. Result of 1 and the third element (58, 42) are applied to the function (`func(58, 42)`) and the list now becomes `[100, 13]`\n",
    "> 3. Result of 2 and the fourth element (100, 13) are applied to the function (`func(100, 13)`) and the list now becomes `[113]`\n",
    "> 4. Since the list only has one more value, the reduce operation is complete"
   ]
  },
  {
   "cell_type": "markdown",
   "metadata": {},
   "source": [
    "## Comprehensions:"
   ]
  },
  {
   "cell_type": "markdown",
   "metadata": {},
   "source": [
    "__Overview:__ \n",
    "- __[Comprehension](https://docs.python.org/3/tutorial/datastructures.html#list-comprehensions):__ Comprehension provides a concise way in Python to create lists, dictionaries, and sets in a very concise and efficient way \n",
    "- Comprehension provides a complete substitute for the `lambda` function as well as the functions `map()`, `filter()`, and `reduce()` that we saw in section 4.1 and 4.2, respectively \n",
    "\n",
    "__Helpful Points:__\n",
    "1. Comprehension is Python's way of implementing a well-known notation in mathematics. For example, mathematicians would write {$x^2 | x \\in N$} which means \"x squared for all x in N\" (you will soon notice this verbiage translates almost exactly to how the associated comprehension in Python would be written) \n",
    "2. Python's creator (Guide van Rossum) prefers comprehension over `map`, `filter`, `reduce`, and `lambda` but this comes down to personal preference. Which do you find easier to interpret? "
   ]
  },
  {
   "cell_type": "markdown",
   "metadata": {},
   "source": [
    "###  Comprehension in Python:"
   ]
  },
  {
   "cell_type": "markdown",
   "metadata": {},
   "source": [
    "__Overview:__\n",
    "- Python can construct comprehensions in the following way:\n",
    "> 1. __List Comprehension:__ `[<expression> for var in vars]` which constructs a `list` from the outputs of a `for` loop\n",
    "> 2. __Dictionary Comprehension:__ `{key: value for var in vars}` which constructs a `dict` from the outputs of a `for` loop\n",
    "> 3. __Set Comprehension:__ `{value for var in vars}` which constructs a `set` from the outputs of a `for` loop\n",
    "\n",
    "__Helpful Points:__\n",
    "1. It is possible to have more than one expression for the outputs of the `for` loop (if this is the case, you have to enclose the expressions as a tuple `( )` (see Examples below)\n",
    "2. Comprehension can also be used in Nested For Loops (see Examples below) \n",
    "\n",
    "__Practice:__ Examples of Comprehensions in Python "
   ]
  },
  {
   "cell_type": "markdown",
   "metadata": {},
   "source": [
    "### Example 12.1 (Squares using Standard For Loop):"
   ]
  },
  {
   "cell_type": "code",
   "execution_count": null,
   "metadata": {
    "ExecuteTime": {
     "end_time": "2019-10-28T03:33:50.618920Z",
     "start_time": "2019-10-28T03:33:50.616308Z"
    }
   },
   "outputs": [],
   "source": [
    "my_list = [1, 3, 7, 8, 9, 10]"
   ]
  },
  {
   "cell_type": "code",
   "execution_count": null,
   "metadata": {
    "ExecuteTime": {
     "end_time": "2019-10-28T03:33:50.866570Z",
     "start_time": "2019-10-28T03:33:50.862729Z"
    }
   },
   "outputs": [],
   "source": [
    "my_list_squared_1 = []\n",
    "for num in my_list:\n",
    "    my_list_squared_1.append(num ** 2)\n",
    "\n",
    "print(my_list_squared_1)"
   ]
  },
  {
   "cell_type": "markdown",
   "metadata": {},
   "source": [
    "### Example 12.2 (Squares using List Comprehension):"
   ]
  },
  {
   "cell_type": "code",
   "execution_count": null,
   "metadata": {
    "ExecuteTime": {
     "end_time": "2019-10-28T03:33:53.501995Z",
     "start_time": "2019-10-28T03:33:53.498951Z"
    }
   },
   "outputs": [],
   "source": [
    "my_list_squared_2 = [num ** 2 for num in my_list]\n",
    "print(my_list_squared_2)"
   ]
  },
  {
   "cell_type": "markdown",
   "metadata": {},
   "source": [
    "In general, List Comprehenseion consists of brackets containing an expression followed by a `for` clause, then zero or more `for` or `if` clauses. The result will be a new list resulting from evaluating the expression in the context of the `for` and `if` clauses."
   ]
  },
  {
   "cell_type": "markdown",
   "metadata": {},
   "source": [
    "### Example 12.3 (Squares using Map and Lambda):"
   ]
  },
  {
   "cell_type": "code",
   "execution_count": null,
   "metadata": {
    "ExecuteTime": {
     "end_time": "2019-10-28T03:34:16.675610Z",
     "start_time": "2019-10-28T03:34:16.672567Z"
    }
   },
   "outputs": [],
   "source": [
    "my_list_squared_3 = list(map(lambda num: num ** 2, my_list))\n",
    "print(my_list_squared_3)"
   ]
  },
  {
   "cell_type": "markdown",
   "metadata": {},
   "source": [
    "Of the examples above, which do you find more readable and interpretable? "
   ]
  },
  {
   "cell_type": "markdown",
   "metadata": {},
   "source": [
    "### Example 13 (Multiple Expressions):"
   ]
  },
  {
   "cell_type": "code",
   "execution_count": null,
   "metadata": {
    "ExecuteTime": {
     "end_time": "2019-10-28T03:35:01.232034Z",
     "start_time": "2019-10-28T03:35:01.228997Z"
    }
   },
   "outputs": [],
   "source": [
    "# create a list of 2-tuples in the form of (number, square)\n",
    "print([(x, x**2) for x in range(10)])"
   ]
  },
  {
   "cell_type": "markdown",
   "metadata": {},
   "source": [
    "### Example 14 (Nested List Comprehension):"
   ]
  },
  {
   "cell_type": "code",
   "execution_count": null,
   "metadata": {
    "ExecuteTime": {
     "end_time": "2019-10-28T03:35:45.554676Z",
     "start_time": "2019-10-28T03:35:45.551889Z"
    }
   },
   "outputs": [],
   "source": [
    "my_list_1 = [3, 4, 5, 6]\n",
    "my_list_2 = [5, 4, 3, 6]"
   ]
  },
  {
   "cell_type": "code",
   "execution_count": null,
   "metadata": {
    "ExecuteTime": {
     "end_time": "2019-10-28T03:35:46.113826Z",
     "start_time": "2019-10-28T03:35:46.109880Z"
    }
   },
   "outputs": [],
   "source": [
    "# combine elements of 2 lists if they are not equal using for loop\n",
    "new_list = []\n",
    "for num_1 in my_list_1:\n",
    "    for num_2 in my_list_2:\n",
    "        if num_1 != num_2:\n",
    "            new_list.append((num_1, num_2))\n",
    "\n",
    "print(new_list)"
   ]
  },
  {
   "cell_type": "code",
   "execution_count": null,
   "metadata": {
    "ExecuteTime": {
     "end_time": "2019-10-28T03:36:09.637722Z",
     "start_time": "2019-10-28T03:36:09.634296Z"
    }
   },
   "outputs": [],
   "source": [
    "print([(num_1, num_2) for num_1 in my_list_1 for num_2 in my_list_2 if num_1 != num_2])"
   ]
  }
 ],
 "metadata": {
  "kernelspec": {
   "display_name": "Python 3",
   "language": "python",
   "name": "python3"
  },
  "language_info": {
   "codemirror_mode": {
    "name": "ipython",
    "version": 3
   },
   "file_extension": ".py",
   "mimetype": "text/x-python",
   "name": "python",
   "nbconvert_exporter": "python",
   "pygments_lexer": "ipython3",
   "version": "3.7.1"
  }
 },
 "nbformat": 4,
 "nbformat_minor": 2
}
